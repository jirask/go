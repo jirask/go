{
 "cells": [
  {
   "cell_type": "markdown",
   "metadata": {},
   "source": [
    "This project was heavily inspired by this paper:  https://www.lamsade.dauphine.fr/~cazenave/papers/ImprovingModelAndSearchForComputerGo.pdf"
   ]
  },
  {
   "cell_type": "code",
   "execution_count": 3,
   "metadata": {
    "execution": {
     "iopub.execute_input": "2023-07-30T14:58:24.620265Z",
     "iopub.status.busy": "2023-07-30T14:58:24.619858Z",
     "iopub.status.idle": "2023-07-30T14:58:27.648334Z",
     "shell.execute_reply": "2023-07-30T14:58:27.647581Z",
     "shell.execute_reply.started": "2023-07-30T14:58:24.620241Z"
    },
    "tags": []
   },
   "outputs": [
    {
     "name": "stdout",
     "output_type": "stream",
     "text": [
      "Requirement already satisfied: tensorflow in /opt/saturncloud/envs/saturn/lib/python3.9/site-packages (2.13.0)\n",
      "Requirement already satisfied: absl-py>=1.0.0 in /opt/saturncloud/envs/saturn/lib/python3.9/site-packages (from tensorflow) (1.4.0)\n",
      "Requirement already satisfied: astunparse>=1.6.0 in /opt/saturncloud/envs/saturn/lib/python3.9/site-packages (from tensorflow) (1.6.3)\n",
      "Requirement already satisfied: flatbuffers>=23.1.21 in /opt/saturncloud/envs/saturn/lib/python3.9/site-packages (from tensorflow) (23.5.26)\n",
      "Requirement already satisfied: gast<=0.4.0,>=0.2.1 in /opt/saturncloud/envs/saturn/lib/python3.9/site-packages (from tensorflow) (0.4.0)\n",
      "Requirement already satisfied: google-pasta>=0.1.1 in /opt/saturncloud/envs/saturn/lib/python3.9/site-packages (from tensorflow) (0.2.0)\n",
      "Requirement already satisfied: grpcio<2.0,>=1.24.3 in /opt/saturncloud/envs/saturn/lib/python3.9/site-packages (from tensorflow) (1.56.2)\n",
      "Requirement already satisfied: h5py>=2.9.0 in /opt/saturncloud/envs/saturn/lib/python3.9/site-packages (from tensorflow) (3.9.0)\n",
      "Requirement already satisfied: keras<2.14,>=2.13.1 in /opt/saturncloud/envs/saturn/lib/python3.9/site-packages (from tensorflow) (2.13.1)\n",
      "Requirement already satisfied: libclang>=13.0.0 in /opt/saturncloud/envs/saturn/lib/python3.9/site-packages (from tensorflow) (16.0.6)\n",
      "Requirement already satisfied: numpy<=1.24.3,>=1.22 in /opt/saturncloud/envs/saturn/lib/python3.9/site-packages (from tensorflow) (1.24.3)\n",
      "Requirement already satisfied: opt-einsum>=2.3.2 in /opt/saturncloud/envs/saturn/lib/python3.9/site-packages (from tensorflow) (3.3.0)\n",
      "Requirement already satisfied: packaging in /opt/saturncloud/envs/saturn/lib/python3.9/site-packages (from tensorflow) (23.1)\n",
      "Requirement already satisfied: protobuf!=4.21.0,!=4.21.1,!=4.21.2,!=4.21.3,!=4.21.4,!=4.21.5,<5.0.0dev,>=3.20.3 in /opt/saturncloud/envs/saturn/lib/python3.9/site-packages (from tensorflow) (3.20.3)\n",
      "Requirement already satisfied: setuptools in /opt/saturncloud/envs/saturn/lib/python3.9/site-packages (from tensorflow) (59.8.0)\n",
      "Requirement already satisfied: six>=1.12.0 in /opt/saturncloud/envs/saturn/lib/python3.9/site-packages (from tensorflow) (1.16.0)\n",
      "Requirement already satisfied: tensorboard<2.14,>=2.13 in /opt/saturncloud/envs/saturn/lib/python3.9/site-packages (from tensorflow) (2.13.0)\n",
      "Requirement already satisfied: tensorflow-estimator<2.14,>=2.13.0 in /opt/saturncloud/envs/saturn/lib/python3.9/site-packages (from tensorflow) (2.13.0)\n",
      "Requirement already satisfied: termcolor>=1.1.0 in /opt/saturncloud/envs/saturn/lib/python3.9/site-packages (from tensorflow) (2.3.0)\n",
      "Requirement already satisfied: typing-extensions<4.6.0,>=3.6.6 in /opt/saturncloud/envs/saturn/lib/python3.9/site-packages (from tensorflow) (4.5.0)\n",
      "Requirement already satisfied: wrapt>=1.11.0 in /opt/saturncloud/envs/saturn/lib/python3.9/site-packages (from tensorflow) (1.15.0)\n",
      "Requirement already satisfied: tensorflow-io-gcs-filesystem>=0.23.1 in /opt/saturncloud/envs/saturn/lib/python3.9/site-packages (from tensorflow) (0.32.0)\n",
      "Requirement already satisfied: wheel<1.0,>=0.23.0 in /opt/saturncloud/envs/saturn/lib/python3.9/site-packages (from astunparse>=1.6.0->tensorflow) (0.41.0)\n",
      "Requirement already satisfied: google-auth<3,>=1.6.3 in /opt/saturncloud/envs/saturn/lib/python3.9/site-packages (from tensorboard<2.14,>=2.13->tensorflow) (2.22.0)\n",
      "Requirement already satisfied: google-auth-oauthlib<1.1,>=0.5 in /opt/saturncloud/envs/saturn/lib/python3.9/site-packages (from tensorboard<2.14,>=2.13->tensorflow) (1.0.0)\n",
      "Requirement already satisfied: markdown>=2.6.8 in /opt/saturncloud/envs/saturn/lib/python3.9/site-packages (from tensorboard<2.14,>=2.13->tensorflow) (3.4.4)\n",
      "Requirement already satisfied: requests<3,>=2.21.0 in /opt/saturncloud/envs/saturn/lib/python3.9/site-packages (from tensorboard<2.14,>=2.13->tensorflow) (2.31.0)\n",
      "Requirement already satisfied: tensorboard-data-server<0.8.0,>=0.7.0 in /opt/saturncloud/envs/saturn/lib/python3.9/site-packages (from tensorboard<2.14,>=2.13->tensorflow) (0.7.1)\n",
      "Requirement already satisfied: werkzeug>=1.0.1 in /opt/saturncloud/envs/saturn/lib/python3.9/site-packages (from tensorboard<2.14,>=2.13->tensorflow) (2.3.6)\n",
      "Requirement already satisfied: cachetools<6.0,>=2.0.0 in /opt/saturncloud/envs/saturn/lib/python3.9/site-packages (from google-auth<3,>=1.6.3->tensorboard<2.14,>=2.13->tensorflow) (5.3.1)\n",
      "Requirement already satisfied: pyasn1-modules>=0.2.1 in /opt/saturncloud/envs/saturn/lib/python3.9/site-packages (from google-auth<3,>=1.6.3->tensorboard<2.14,>=2.13->tensorflow) (0.2.7)\n",
      "Requirement already satisfied: rsa<5,>=3.1.4 in /opt/saturncloud/envs/saturn/lib/python3.9/site-packages (from google-auth<3,>=1.6.3->tensorboard<2.14,>=2.13->tensorflow) (4.9)\n",
      "Requirement already satisfied: urllib3<2.0 in /opt/saturncloud/envs/saturn/lib/python3.9/site-packages (from google-auth<3,>=1.6.3->tensorboard<2.14,>=2.13->tensorflow) (1.26.15)\n",
      "Requirement already satisfied: requests-oauthlib>=0.7.0 in /opt/saturncloud/envs/saturn/lib/python3.9/site-packages (from google-auth-oauthlib<1.1,>=0.5->tensorboard<2.14,>=2.13->tensorflow) (1.3.1)\n",
      "Requirement already satisfied: importlib-metadata>=4.4 in /opt/saturncloud/envs/saturn/lib/python3.9/site-packages (from markdown>=2.6.8->tensorboard<2.14,>=2.13->tensorflow) (6.8.0)\n",
      "Requirement already satisfied: charset-normalizer<4,>=2 in /opt/saturncloud/envs/saturn/lib/python3.9/site-packages (from requests<3,>=2.21.0->tensorboard<2.14,>=2.13->tensorflow) (2.0.12)\n",
      "Requirement already satisfied: idna<4,>=2.5 in /opt/saturncloud/envs/saturn/lib/python3.9/site-packages (from requests<3,>=2.21.0->tensorboard<2.14,>=2.13->tensorflow) (3.4)\n",
      "Requirement already satisfied: certifi>=2017.4.17 in /opt/saturncloud/envs/saturn/lib/python3.9/site-packages (from requests<3,>=2.21.0->tensorboard<2.14,>=2.13->tensorflow) (2023.7.22)\n",
      "Requirement already satisfied: MarkupSafe>=2.1.1 in /opt/saturncloud/envs/saturn/lib/python3.9/site-packages (from werkzeug>=1.0.1->tensorboard<2.14,>=2.13->tensorflow) (2.1.3)\n",
      "Requirement already satisfied: zipp>=0.5 in /opt/saturncloud/envs/saturn/lib/python3.9/site-packages (from importlib-metadata>=4.4->markdown>=2.6.8->tensorboard<2.14,>=2.13->tensorflow) (3.16.2)\n",
      "Requirement already satisfied: pyasn1<0.5.0,>=0.4.6 in /opt/saturncloud/envs/saturn/lib/python3.9/site-packages (from pyasn1-modules>=0.2.1->google-auth<3,>=1.6.3->tensorboard<2.14,>=2.13->tensorflow) (0.4.8)\n",
      "Requirement already satisfied: oauthlib>=3.0.0 in /opt/saturncloud/envs/saturn/lib/python3.9/site-packages (from requests-oauthlib>=0.7.0->google-auth-oauthlib<1.1,>=0.5->tensorboard<2.14,>=2.13->tensorflow) (3.2.2)\n"
     ]
    }
   ],
   "source": [
    "!pip install tensorflow"
   ]
  },
  {
   "cell_type": "code",
   "execution_count": 4,
   "metadata": {
    "application/vnd.databricks.v1+cell": {
     "cellMetadata": {},
     "inputWidgets": {},
     "nuid": "e11419ea-85f4-4082-abe8-2836cb4e82d2",
     "showTitle": false,
     "title": ""
    },
    "execution": {
     "iopub.execute_input": "2023-07-30T14:58:27.650261Z",
     "iopub.status.busy": "2023-07-30T14:58:27.649913Z",
     "iopub.status.idle": "2023-07-30T14:58:32.853363Z",
     "shell.execute_reply": "2023-07-30T14:58:32.852580Z",
     "shell.execute_reply.started": "2023-07-30T14:58:27.650238Z"
    },
    "id": "nqe7pbsKSa1r",
    "tags": []
   },
   "outputs": [
    {
     "name": "stderr",
     "output_type": "stream",
     "text": [
      "2023-07-30 14:58:28.346090: I tensorflow/core/util/port.cc:110] oneDNN custom operations are on. You may see slightly different numerical results due to floating-point round-off errors from different computation orders. To turn them off, set the environment variable `TF_ENABLE_ONEDNN_OPTS=0`.\n",
      "2023-07-30 14:58:28.976942: I tensorflow/core/platform/cpu_feature_guard.cc:182] This TensorFlow binary is optimized to use available CPU instructions in performance-critical operations.\n",
      "To enable the following instructions: AVX2 AVX512F AVX512_VNNI FMA, in other operations, rebuild TensorFlow with the appropriate compiler flags.\n",
      "2023-07-30 14:58:30.601055: W tensorflow/compiler/tf2tensorrt/utils/py_utils.cc:38] TF-TRT Warning: Could not find TensorRT\n"
     ]
    }
   ],
   "source": [
    "import tensorflow as tf\n",
    "import tensorflow.keras as keras\n",
    "import numpy as np\n",
    "from tensorflow.keras import layers\n",
    "from tensorflow.keras import regularizers\n",
    "import gc\n",
    "\n",
    "import golois"
   ]
  },
  {
   "cell_type": "code",
   "execution_count": 5,
   "metadata": {
    "execution": {
     "iopub.execute_input": "2023-07-30T14:58:32.855451Z",
     "iopub.status.busy": "2023-07-30T14:58:32.854552Z",
     "iopub.status.idle": "2023-07-30T14:58:32.860558Z",
     "shell.execute_reply": "2023-07-30T14:58:32.859628Z",
     "shell.execute_reply.started": "2023-07-30T14:58:32.855416Z"
    },
    "tags": []
   },
   "outputs": [],
   "source": [
    "from tensorflow.keras.layers import AvgPool2D, MaxPool2D, GlobalAveragePooling2D, Reshape,ZeroPadding2D,GlobalAveragePooling2D"
   ]
  },
  {
   "cell_type": "code",
   "execution_count": 6,
   "metadata": {
    "execution": {
     "iopub.execute_input": "2023-07-30T14:58:32.862204Z",
     "iopub.status.busy": "2023-07-30T14:58:32.861802Z",
     "iopub.status.idle": "2023-07-30T14:58:35.582836Z",
     "shell.execute_reply": "2023-07-30T14:58:35.581900Z",
     "shell.execute_reply.started": "2023-07-30T14:58:32.862173Z"
    },
    "tags": []
   },
   "outputs": [
    {
     "name": "stdout",
     "output_type": "stream",
     "text": [
      "Requirement already satisfied: pybind11 in /opt/saturncloud/envs/saturn/lib/python3.9/site-packages (2.11.1)\n"
     ]
    }
   ],
   "source": [
    "!pip3 install pybind11"
   ]
  },
  {
   "cell_type": "code",
   "execution_count": 7,
   "metadata": {
    "colab": {
     "base_uri": "https://localhost:8080/"
    },
    "execution": {
     "iopub.execute_input": "2023-07-30T14:58:35.585464Z",
     "iopub.status.busy": "2023-07-30T14:58:35.585101Z",
     "iopub.status.idle": "2023-07-30T14:58:43.314194Z",
     "shell.execute_reply": "2023-07-30T14:58:43.313377Z",
     "shell.execute_reply.started": "2023-07-30T14:58:35.585439Z"
    },
    "id": "vLTZfyWOUgYP",
    "outputId": "2de591d3-01de-49f1-c21a-8548d8af0370",
    "tags": []
   },
   "outputs": [
    {
     "name": "stdout",
     "output_type": "stream",
     "text": [
      "In file included from \u001b[01m\u001b[Kgolois.cpp:17\u001b[m\u001b[K:\n",
      "\u001b[01m\u001b[KBoard.h:\u001b[m\u001b[K In member function ‘\u001b[01m\u001b[Kbool Board::isCapturedLadder(int, int, Rzone*)\u001b[m\u001b[K’:\n",
      "\u001b[01m\u001b[KBoard.h:1767:15:\u001b[m\u001b[K \u001b[01;35m\u001b[Kwarning: \u001b[m\u001b[Kunused variable ‘\u001b[01m\u001b[Kn1\u001b[m\u001b[K’ [\u001b[01;35m\u001b[K\u001b]8;;https://gcc.gnu.org/onlinedocs/gcc/Warning-Options.html#index-Wunused-variable\u0007-Wunused-variable\u001b]8;;\u0007\u001b[m\u001b[K]\n",
      " 1767 |           int \u001b[01;35m\u001b[Kn1\u001b[m\u001b[K = nbLiberties (inter, liberties1, stones1, 3);\n",
      "      |               \u001b[01;35m\u001b[K^~\u001b[m\u001b[K\n",
      "\u001b[01m\u001b[KBoard.h:1788:19:\u001b[m\u001b[K \u001b[01;35m\u001b[Kwarning: \u001b[m\u001b[Kunused variable ‘\u001b[01m\u001b[Kn1\u001b[m\u001b[K’ [\u001b[01;35m\u001b[K\u001b]8;;https://gcc.gnu.org/onlinedocs/gcc/Warning-Options.html#index-Wunused-variable\u0007-Wunused-variable\u001b]8;;\u0007\u001b[m\u001b[K]\n",
      " 1788 |               int \u001b[01;35m\u001b[Kn1\u001b[m\u001b[K = nbLiberties (inter, liberties1, stones1, 3);\n",
      "      |                   \u001b[01;35m\u001b[K^~\u001b[m\u001b[K\n",
      "\u001b[01m\u001b[KBoard.h:\u001b[m\u001b[K In member function ‘\u001b[01m\u001b[Kvoid Board::computeLadders(int)\u001b[m\u001b[K’:\n",
      "\u001b[01m\u001b[KBoard.h:1819:9:\u001b[m\u001b[K \u001b[01;35m\u001b[Kwarning: \u001b[m\u001b[Kunused variable ‘\u001b[01m\u001b[Kother\u001b[m\u001b[K’ [\u001b[01;35m\u001b[K\u001b]8;;https://gcc.gnu.org/onlinedocs/gcc/Warning-Options.html#index-Wunused-variable\u0007-Wunused-variable\u001b]8;;\u0007\u001b[m\u001b[K]\n",
      " 1819 |     int \u001b[01;35m\u001b[Kother\u001b[m\u001b[K = opponent (color);\n",
      "      |         \u001b[01;35m\u001b[K^~~~~\u001b[m\u001b[K\n",
      "\u001b[01m\u001b[KBoard.h:\u001b[m\u001b[K In member function ‘\u001b[01m\u001b[Kvoid Board::computeAllLadders(int, bool)\u001b[m\u001b[K’:\n",
      "\u001b[01m\u001b[KBoard.h:2065:23:\u001b[m\u001b[K \u001b[01;35m\u001b[Kwarning: \u001b[m\u001b[Kunused variable ‘\u001b[01m\u001b[Kn1\u001b[m\u001b[K’ [\u001b[01;35m\u001b[K\u001b]8;;https://gcc.gnu.org/onlinedocs/gcc/Warning-Options.html#index-Wunused-variable\u0007-Wunused-variable\u001b]8;;\u0007\u001b[m\u001b[K]\n",
      " 2065 |                   int \u001b[01;35m\u001b[Kn1\u001b[m\u001b[K = nbLiberties (i, liberties1, stones1);\n",
      "      |                       \u001b[01;35m\u001b[K^~\u001b[m\u001b[K\n",
      "\u001b[01m\u001b[KBoard.h:2101:21:\u001b[m\u001b[K \u001b[01;35m\u001b[Kwarning: \u001b[m\u001b[Kunused variable ‘\u001b[01m\u001b[Kn1\u001b[m\u001b[K’ [\u001b[01;35m\u001b[K\u001b]8;;https://gcc.gnu.org/onlinedocs/gcc/Warning-Options.html#index-Wunused-variable\u0007-Wunused-variable\u001b]8;;\u0007\u001b[m\u001b[K]\n",
      " 2101 |                 int \u001b[01;35m\u001b[Kn1\u001b[m\u001b[K = nbLiberties (i, liberties1, stones1);\n",
      "      |                     \u001b[01;35m\u001b[K^~\u001b[m\u001b[K\n",
      "\u001b[01m\u001b[KBoard.h:2134:23:\u001b[m\u001b[K \u001b[01;35m\u001b[Kwarning: \u001b[m\u001b[Kunused variable ‘\u001b[01m\u001b[Kn1\u001b[m\u001b[K’ [\u001b[01;35m\u001b[K\u001b]8;;https://gcc.gnu.org/onlinedocs/gcc/Warning-Options.html#index-Wunused-variable\u0007-Wunused-variable\u001b]8;;\u0007\u001b[m\u001b[K]\n",
      " 2134 |                   int \u001b[01;35m\u001b[Kn1\u001b[m\u001b[K = nbLiberties (i, liberties1, stones1);\n",
      "      |                       \u001b[01;35m\u001b[K^~\u001b[m\u001b[K\n",
      "\u001b[01m\u001b[KBoard.h:2171:21:\u001b[m\u001b[K \u001b[01;35m\u001b[Kwarning: \u001b[m\u001b[Kunused variable ‘\u001b[01m\u001b[Kn1\u001b[m\u001b[K’ [\u001b[01;35m\u001b[K\u001b]8;;https://gcc.gnu.org/onlinedocs/gcc/Warning-Options.html#index-Wunused-variable\u0007-Wunused-variable\u001b]8;;\u0007\u001b[m\u001b[K]\n",
      " 2171 |                 int \u001b[01;35m\u001b[Kn1\u001b[m\u001b[K = nbLiberties (i, liberties1, stones1);\n",
      "      |                     \u001b[01;35m\u001b[K^~\u001b[m\u001b[K\n",
      "\u001b[01m\u001b[KBoard.h:\u001b[m\u001b[K In member function ‘\u001b[01m\u001b[Kvoid Board::computeIsInLadder()\u001b[m\u001b[K’:\n",
      "\u001b[01m\u001b[KBoard.h:2242:21:\u001b[m\u001b[K \u001b[01;35m\u001b[Kwarning: \u001b[m\u001b[Kunused variable ‘\u001b[01m\u001b[Kn1\u001b[m\u001b[K’ [\u001b[01;35m\u001b[K\u001b]8;;https://gcc.gnu.org/onlinedocs/gcc/Warning-Options.html#index-Wunused-variable\u0007-Wunused-variable\u001b]8;;\u0007\u001b[m\u001b[K]\n",
      " 2242 |                 int \u001b[01;35m\u001b[Kn1\u001b[m\u001b[K = nbLiberties (s, liberties1, stones1);\n",
      "      |                     \u001b[01;35m\u001b[K^~\u001b[m\u001b[K\n",
      "\u001b[01m\u001b[KBoard.h:\u001b[m\u001b[K In member function ‘\u001b[01m\u001b[Kvoid Board::computeLostLadders()\u001b[m\u001b[K’:\n",
      "\u001b[01m\u001b[KBoard.h:2275:21:\u001b[m\u001b[K \u001b[01;35m\u001b[Kwarning: \u001b[m\u001b[Kunused variable ‘\u001b[01m\u001b[Kn1\u001b[m\u001b[K’ [\u001b[01;35m\u001b[K\u001b]8;;https://gcc.gnu.org/onlinedocs/gcc/Warning-Options.html#index-Wunused-variable\u0007-Wunused-variable\u001b]8;;\u0007\u001b[m\u001b[K]\n",
      " 2275 |                 int \u001b[01;35m\u001b[Kn1\u001b[m\u001b[K = nbLiberties (s, liberties1, stones1);\n",
      "      |                     \u001b[01;35m\u001b[K^~\u001b[m\u001b[K\n",
      "\u001b[01m\u001b[KBoard.h:\u001b[m\u001b[K In member function ‘\u001b[01m\u001b[Kvoid Board::printLadders(FILE*, int)\u001b[m\u001b[K’:\n",
      "\u001b[01m\u001b[KBoard.h:2287:9:\u001b[m\u001b[K \u001b[01;35m\u001b[Kwarning: \u001b[m\u001b[Kunused variable ‘\u001b[01m\u001b[Kother\u001b[m\u001b[K’ [\u001b[01;35m\u001b[K\u001b]8;;https://gcc.gnu.org/onlinedocs/gcc/Warning-Options.html#index-Wunused-variable\u0007-Wunused-variable\u001b]8;;\u0007\u001b[m\u001b[K]\n",
      " 2287 |     int \u001b[01;35m\u001b[Kother\u001b[m\u001b[K = opponent (color);\n",
      "      |         \u001b[01;35m\u001b[K^~~~~\u001b[m\u001b[K\n",
      "\u001b[01m\u001b[KBoard.h:\u001b[m\u001b[K In member function ‘\u001b[01m\u001b[Kbool Board::sameString(int, int)\u001b[m\u001b[K’:\n",
      "\u001b[01m\u001b[KBoard.h:2336:9:\u001b[m\u001b[K \u001b[01;35m\u001b[Kwarning: \u001b[m\u001b[Kunused variable ‘\u001b[01m\u001b[Kn\u001b[m\u001b[K’ [\u001b[01;35m\u001b[K\u001b]8;;https://gcc.gnu.org/onlinedocs/gcc/Warning-Options.html#index-Wunused-variable\u0007-Wunused-variable\u001b]8;;\u0007\u001b[m\u001b[K]\n",
      " 2336 |     int \u001b[01;35m\u001b[Kn\u001b[m\u001b[K = nbLiberties (inter, liberties, stones);\n",
      "      |         \u001b[01;35m\u001b[K^\u001b[m\u001b[K\n",
      "\u001b[01m\u001b[KBoard.h:\u001b[m\u001b[K In member function ‘\u001b[01m\u001b[Kbool Board::atariLent(int)\u001b[m\u001b[K’:\n",
      "\u001b[01m\u001b[KBoard.h:2655:10:\u001b[m\u001b[K \u001b[01;35m\u001b[Kwarning: \u001b[m\u001b[Ksuggest explicit braces to avoid ambiguous ‘\u001b[01m\u001b[Kelse\u001b[m\u001b[K’ [\u001b[01;35m\u001b[K\u001b]8;;https://gcc.gnu.org/onlinedocs/gcc/Warning-Options.html#index-Wdangling-else\u0007-Wdangling-else\u001b]8;;\u0007\u001b[m\u001b[K]\n",
      " 2655 |       if \u001b[01;35m\u001b[K(\u001b[m\u001b[Kboard [pierre - 1] == Empty)\n",
      "      |          \u001b[01;35m\u001b[K^\u001b[m\u001b[K\n",
      "\u001b[01m\u001b[KBoard.h:2658:10:\u001b[m\u001b[K \u001b[01;35m\u001b[Kwarning: \u001b[m\u001b[Ksuggest explicit braces to avoid ambiguous ‘\u001b[01m\u001b[Kelse\u001b[m\u001b[K’ [\u001b[01;35m\u001b[K\u001b]8;;https://gcc.gnu.org/onlinedocs/gcc/Warning-Options.html#index-Wdangling-else\u0007-Wdangling-else\u001b]8;;\u0007\u001b[m\u001b[K]\n",
      " 2658 |       if \u001b[01;35m\u001b[K(\u001b[m\u001b[Kboard [pierre + 1] == Empty)\n",
      "      |          \u001b[01;35m\u001b[K^\u001b[m\u001b[K\n",
      "\u001b[01m\u001b[KBoard.h:2661:10:\u001b[m\u001b[K \u001b[01;35m\u001b[Kwarning: \u001b[m\u001b[Ksuggest explicit braces to avoid ambiguous ‘\u001b[01m\u001b[Kelse\u001b[m\u001b[K’ [\u001b[01;35m\u001b[K\u001b]8;;https://gcc.gnu.org/onlinedocs/gcc/Warning-Options.html#index-Wdangling-else\u0007-Wdangling-else\u001b]8;;\u0007\u001b[m\u001b[K]\n",
      " 2661 |       if \u001b[01;35m\u001b[K(\u001b[m\u001b[Kboard [pierre - dxBoard] == Empty)\n",
      "      |          \u001b[01;35m\u001b[K^\u001b[m\u001b[K\n",
      "\u001b[01m\u001b[KBoard.h:2664:10:\u001b[m\u001b[K \u001b[01;35m\u001b[Kwarning: \u001b[m\u001b[Ksuggest explicit braces to avoid ambiguous ‘\u001b[01m\u001b[Kelse\u001b[m\u001b[K’ [\u001b[01;35m\u001b[K\u001b]8;;https://gcc.gnu.org/onlinedocs/gcc/Warning-Options.html#index-Wdangling-else\u0007-Wdangling-else\u001b]8;;\u0007\u001b[m\u001b[K]\n",
      " 2664 |       if \u001b[01;35m\u001b[K(\u001b[m\u001b[Kboard [pierre + dxBoard] == Empty)\n",
      "      |          \u001b[01;35m\u001b[K^\u001b[m\u001b[K\n",
      "\u001b[01m\u001b[KBoard.h:\u001b[m\u001b[K In member function ‘\u001b[01m\u001b[Kint Board::playAtariIfCapture(int)\u001b[m\u001b[K’:\n",
      "\u001b[01m\u001b[KBoard.h:3043:9:\u001b[m\u001b[K \u001b[01;35m\u001b[Kwarning: \u001b[m\u001b[Kunused variable ‘\u001b[01m\u001b[Kother\u001b[m\u001b[K’ [\u001b[01;35m\u001b[K\u001b]8;;https://gcc.gnu.org/onlinedocs/gcc/Warning-Options.html#index-Wunused-variable\u0007-Wunused-variable\u001b]8;;\u0007\u001b[m\u001b[K]\n",
      " 3043 |     int \u001b[01;35m\u001b[Kother\u001b[m\u001b[K = opponent (couleur);\n",
      "      |         \u001b[01;35m\u001b[K^~~~~\u001b[m\u001b[K\n",
      "\u001b[01m\u001b[KBoard.h:\u001b[m\u001b[K In member function ‘\u001b[01m\u001b[Kint Board::captureAdjacentAtari(int)\u001b[m\u001b[K’:\n",
      "\u001b[01m\u001b[KBoard.h:3099:9:\u001b[m\u001b[K \u001b[01;35m\u001b[Kwarning: \u001b[m\u001b[Kunused variable ‘\u001b[01m\u001b[Kother\u001b[m\u001b[K’ [\u001b[01;35m\u001b[K\u001b]8;;https://gcc.gnu.org/onlinedocs/gcc/Warning-Options.html#index-Wunused-variable\u0007-Wunused-variable\u001b]8;;\u0007\u001b[m\u001b[K]\n",
      " 3099 |     int \u001b[01;35m\u001b[Kother\u001b[m\u001b[K = opponent (couleur);\n",
      "      |         \u001b[01;35m\u001b[K^~~~~\u001b[m\u001b[K\n",
      "\u001b[01m\u001b[KBoard.h:\u001b[m\u001b[K In member function ‘\u001b[01m\u001b[Kint Board::captureAtari(int)\u001b[m\u001b[K’:\n",
      "\u001b[01m\u001b[KBoard.h:3135:9:\u001b[m\u001b[K \u001b[01;35m\u001b[Kwarning: \u001b[m\u001b[Kunused variable ‘\u001b[01m\u001b[Kother\u001b[m\u001b[K’ [\u001b[01;35m\u001b[K\u001b]8;;https://gcc.gnu.org/onlinedocs/gcc/Warning-Options.html#index-Wunused-variable\u0007-Wunused-variable\u001b]8;;\u0007\u001b[m\u001b[K]\n",
      " 3135 |     int \u001b[01;35m\u001b[Kother\u001b[m\u001b[K = opponent (couleur);\n",
      "      |         \u001b[01;35m\u001b[K^~~~~\u001b[m\u001b[K\n",
      "\u001b[01m\u001b[KBoard.h:\u001b[m\u001b[K In member function ‘\u001b[01m\u001b[Kint Board::avoidCaptureAtari(int)\u001b[m\u001b[K’:\n",
      "\u001b[01m\u001b[KBoard.h:3158:9:\u001b[m\u001b[K \u001b[01;35m\u001b[Kwarning: \u001b[m\u001b[Kunused variable ‘\u001b[01m\u001b[Kother\u001b[m\u001b[K’ [\u001b[01;35m\u001b[K\u001b]8;;https://gcc.gnu.org/onlinedocs/gcc/Warning-Options.html#index-Wunused-variable\u0007-Wunused-variable\u001b]8;;\u0007\u001b[m\u001b[K]\n",
      " 3158 |     int \u001b[01;35m\u001b[Kother\u001b[m\u001b[K = opponent (couleur);\n",
      "      |         \u001b[01;35m\u001b[K^~~~~\u001b[m\u001b[K\n",
      "\u001b[01m\u001b[KBoard.h:\u001b[m\u001b[K In member function ‘\u001b[01m\u001b[Kint Board::playout(int)\u001b[m\u001b[K’:\n",
      "\u001b[01m\u001b[KBoard.h:3294:14:\u001b[m\u001b[K \u001b[01;35m\u001b[Kwarning: \u001b[m\u001b[Kvariable ‘\u001b[01m\u001b[Km\u001b[m\u001b[K’ set but not used [\u001b[01;35m\u001b[K\u001b]8;;https://gcc.gnu.org/onlinedocs/gcc/Warning-Options.html#index-Wunused-but-set-variable\u0007-Wunused-but-set-variable\u001b]8;;\u0007\u001b[m\u001b[K]\n",
      " 3294 |         Move \u001b[01;35m\u001b[Km\u001b[m\u001b[K;\n",
      "      |              \u001b[01;35m\u001b[K^\u001b[m\u001b[K\n",
      "\u001b[01m\u001b[KBoard.h:3315:16:\u001b[m\u001b[K \u001b[01;35m\u001b[Kwarning: \u001b[m\u001b[Kunused variable ‘\u001b[01m\u001b[Ks\u001b[m\u001b[K’ [\u001b[01;35m\u001b[K\u001b]8;;https://gcc.gnu.org/onlinedocs/gcc/Warning-Options.html#index-Wunused-variable\u0007-Wunused-variable\u001b]8;;\u0007\u001b[m\u001b[K]\n",
      " 3315 |           char \u001b[01;35m\u001b[Ks\u001b[m\u001b[K [256];\n",
      "      |                \u001b[01;35m\u001b[K^\u001b[m\u001b[K\n",
      "\u001b[01m\u001b[KBoard.h:\u001b[m\u001b[K In member function ‘\u001b[01m\u001b[Kint Board::loadSGF(FILE*)\u001b[m\u001b[K’:\n",
      "\u001b[01m\u001b[KBoard.h:3783:15:\u001b[m\u001b[K \u001b[01;35m\u001b[Kwarning: \u001b[m\u001b[Kunused variable ‘\u001b[01m\u001b[Kres\u001b[m\u001b[K’ [\u001b[01;35m\u001b[K\u001b]8;;https://gcc.gnu.org/onlinedocs/gcc/Warning-Options.html#index-Wunused-variable\u0007-Wunused-variable\u001b]8;;\u0007\u001b[m\u001b[K]\n",
      " 3783 |           int \u001b[01;35m\u001b[Kres\u001b[m\u001b[K = sscanf (InsideBracket, \"%d\", &sz);\n",
      "      |               \u001b[01;35m\u001b[K^~~\u001b[m\u001b[K\n",
      "\u001b[01m\u001b[KBoard.h:3790:15:\u001b[m\u001b[K \u001b[01;35m\u001b[Kwarning: \u001b[m\u001b[Kunused variable ‘\u001b[01m\u001b[Ki\u001b[m\u001b[K’ [\u001b[01;35m\u001b[K\u001b]8;;https://gcc.gnu.org/onlinedocs/gcc/Warning-Options.html#index-Wunused-variable\u0007-Wunused-variable\u001b]8;;\u0007\u001b[m\u001b[K]\n",
      " 3790 |           int \u001b[01;35m\u001b[Ki\u001b[m\u001b[K = 0;\n",
      "      |               \u001b[01;35m\u001b[K^\u001b[m\u001b[K\n",
      "In file included from \u001b[01m\u001b[Kgolois.cpp:18\u001b[m\u001b[K:\n",
      "\u001b[01m\u001b[KGame.h:\u001b[m\u001b[K In function ‘\u001b[01m\u001b[Kvoid loadGamesData(char*)\u001b[m\u001b[K’:\n",
      "\u001b[01m\u001b[KGame.h:219:23:\u001b[m\u001b[K \u001b[01;35m\u001b[Kwarning: \u001b[m\u001b[Kformat ‘\u001b[01m\u001b[K%d\u001b[m\u001b[K’ expects argument of type ‘\u001b[01m\u001b[Kint*\u001b[m\u001b[K’, but argument 3 has type ‘\u001b[01m\u001b[Kshort int*\u001b[m\u001b[K’ [\u001b[01;35m\u001b[K\u001b]8;;https://gcc.gnu.org/onlinedocs/gcc/Warning-Options.html#index-Wformat=\u0007-Wformat=\u001b]8;;\u0007\u001b[m\u001b[K]\n",
      "  219 |         fscanf (fp, \"\u001b[01;35m\u001b[K%d\u001b[m\u001b[K %d %f %f\", \u001b[32m\u001b[K&proGame [g] [i].inter\u001b[m\u001b[K, &proGame [g] [i].color, &proGame [g] [i].val, &proGame [g] [i].points);\n",
      "      |                      \u001b[01;35m\u001b[K~^\u001b[m\u001b[K            \u001b[32m\u001b[K~~~~~~~~~~~~~~~~~~~~~~\u001b[m\u001b[K\n",
      "      |                       \u001b[01;35m\u001b[K|\u001b[m\u001b[K            \u001b[32m\u001b[K|\u001b[m\u001b[K\n",
      "      |                       \u001b[01;35m\u001b[Kint*\u001b[m\u001b[K         \u001b[32m\u001b[Kshort int*\u001b[m\u001b[K\n",
      "      |                      \u001b[32m\u001b[K%hd\u001b[m\u001b[K\n",
      "\u001b[01m\u001b[KGame.h:219:26:\u001b[m\u001b[K \u001b[01;35m\u001b[Kwarning: \u001b[m\u001b[Kformat ‘\u001b[01m\u001b[K%d\u001b[m\u001b[K’ expects argument of type ‘\u001b[01m\u001b[Kint*\u001b[m\u001b[K’, but argument 4 has type ‘\u001b[01m\u001b[Kchar*\u001b[m\u001b[K’ [\u001b[01;35m\u001b[K\u001b]8;;https://gcc.gnu.org/onlinedocs/gcc/Warning-Options.html#index-Wformat=\u0007-Wformat=\u001b]8;;\u0007\u001b[m\u001b[K]\n",
      "  219 |         fscanf (fp, \"%d \u001b[01;35m\u001b[K%d\u001b[m\u001b[K %f %f\", &proGame [g] [i].inter, \u001b[32m\u001b[K&proGame [g] [i].color\u001b[m\u001b[K, &proGame [g] [i].val, &proGame [g] [i].points);\n",
      "      |                         \u001b[01;35m\u001b[K~^\u001b[m\u001b[K                                 \u001b[32m\u001b[K~~~~~~~~~~~~~~~~~~~~~~\u001b[m\u001b[K\n",
      "      |                          \u001b[01;35m\u001b[K|\u001b[m\u001b[K                                 \u001b[32m\u001b[K|\u001b[m\u001b[K\n",
      "      |                          \u001b[01;35m\u001b[Kint*\u001b[m\u001b[K                              \u001b[32m\u001b[Kchar*\u001b[m\u001b[K\n",
      "      |                         \u001b[32m\u001b[K%hhd\u001b[m\u001b[K\n",
      "\u001b[01m\u001b[KGame.h:\u001b[m\u001b[K In function ‘\u001b[01m\u001b[Kvoid loadGamesDataVal(char*)\u001b[m\u001b[K’:\n",
      "\u001b[01m\u001b[KGame.h:301:23:\u001b[m\u001b[K \u001b[01;35m\u001b[Kwarning: \u001b[m\u001b[Kformat ‘\u001b[01m\u001b[K%d\u001b[m\u001b[K’ expects argument of type ‘\u001b[01m\u001b[Kint*\u001b[m\u001b[K’, but argument 3 has type ‘\u001b[01m\u001b[Kshort int*\u001b[m\u001b[K’ [\u001b[01;35m\u001b[K\u001b]8;;https://gcc.gnu.org/onlinedocs/gcc/Warning-Options.html#index-Wformat=\u0007-Wformat=\u001b]8;;\u0007\u001b[m\u001b[K]\n",
      "  301 |         fscanf (fp, \"\u001b[01;35m\u001b[K%d\u001b[m\u001b[K %f %d \", \u001b[32m\u001b[K&proGame [g] [i].inter\u001b[m\u001b[K, &proGame [g] [i].val, &proGame [g] [i].color);\n",
      "      |                      \u001b[01;35m\u001b[K~^\u001b[m\u001b[K          \u001b[32m\u001b[K~~~~~~~~~~~~~~~~~~~~~~\u001b[m\u001b[K\n",
      "      |                       \u001b[01;35m\u001b[K|\u001b[m\u001b[K          \u001b[32m\u001b[K|\u001b[m\u001b[K\n",
      "      |                       \u001b[01;35m\u001b[Kint*\u001b[m\u001b[K       \u001b[32m\u001b[Kshort int*\u001b[m\u001b[K\n",
      "      |                      \u001b[32m\u001b[K%hd\u001b[m\u001b[K\n",
      "\u001b[01m\u001b[KGame.h:301:29:\u001b[m\u001b[K \u001b[01;35m\u001b[Kwarning: \u001b[m\u001b[Kformat ‘\u001b[01m\u001b[K%d\u001b[m\u001b[K’ expects argument of type ‘\u001b[01m\u001b[Kint*\u001b[m\u001b[K’, but argument 5 has type ‘\u001b[01m\u001b[Kchar*\u001b[m\u001b[K’ [\u001b[01;35m\u001b[K\u001b]8;;https://gcc.gnu.org/onlinedocs/gcc/Warning-Options.html#index-Wformat=\u0007-Wformat=\u001b]8;;\u0007\u001b[m\u001b[K]\n",
      "  301 |         fscanf (fp, \"%d %f \u001b[01;35m\u001b[K%d\u001b[m\u001b[K \", &proGame [g] [i].inter, &proGame [g] [i].val, \u001b[32m\u001b[K&proGame [g] [i].color\u001b[m\u001b[K);\n",
      "      |                            \u001b[01;35m\u001b[K~^\u001b[m\u001b[K                                                  \u001b[32m\u001b[K~~~~~~~~~~~~~~~~~~~~~~\u001b[m\u001b[K\n",
      "      |                             \u001b[01;35m\u001b[K|\u001b[m\u001b[K                                                  \u001b[32m\u001b[K|\u001b[m\u001b[K\n",
      "      |                             \u001b[01;35m\u001b[Kint*\u001b[m\u001b[K                                               \u001b[32m\u001b[Kchar*\u001b[m\u001b[K\n",
      "      |                            \u001b[32m\u001b[K%hhd\u001b[m\u001b[K\n",
      "\u001b[01m\u001b[Kgolois.cpp:\u001b[m\u001b[K In lambda function:\n",
      "\u001b[01m\u001b[Kgolois.cpp:70:39:\u001b[m\u001b[K \u001b[01;35m\u001b[Kwarning: \u001b[m\u001b[Kformat ‘\u001b[01m\u001b[K%d\u001b[m\u001b[K’ expects argument of type ‘\u001b[01m\u001b[Kint\u001b[m\u001b[K’, but argument 3 has type ‘\u001b[01m\u001b[Kpybind11::ssize_t\u001b[m\u001b[K’ {aka ‘\u001b[01m\u001b[Klong int\u001b[m\u001b[K’} [\u001b[01;35m\u001b[K\u001b]8;;https://gcc.gnu.org/onlinedocs/gcc/Warning-Options.html#index-Wformat=\u0007-Wformat=\u001b]8;;\u0007\u001b[m\u001b[K]\n",
      "   70 |         fprintf (stderr, \"r.shape = (\u001b[01;35m\u001b[K%d\u001b[m\u001b[K, %d, %d, %d)\\n\", \u001b[32m\u001b[Kr.shape (0)\u001b[m\u001b[K, r.shape (1), r.shape (2), r.shape (3));\n",
      "      |                                      \u001b[01;35m\u001b[K~^\u001b[m\u001b[K                  \u001b[32m\u001b[K~~~~~~~~~~~\u001b[m\u001b[K\n",
      "      |                                       \u001b[01;35m\u001b[K|\u001b[m\u001b[K                          \u001b[32m\u001b[K|\u001b[m\u001b[K\n",
      "      |                                       \u001b[01;35m\u001b[Kint\u001b[m\u001b[K                        \u001b[32m\u001b[Kpybind11::ssize_t {aka long int}\u001b[m\u001b[K\n",
      "      |                                      \u001b[32m\u001b[K%ld\u001b[m\u001b[K\n",
      "\u001b[01m\u001b[Kgolois.cpp:70:43:\u001b[m\u001b[K \u001b[01;35m\u001b[Kwarning: \u001b[m\u001b[Kformat ‘\u001b[01m\u001b[K%d\u001b[m\u001b[K’ expects argument of type ‘\u001b[01m\u001b[Kint\u001b[m\u001b[K’, but argument 4 has type ‘\u001b[01m\u001b[Kpybind11::ssize_t\u001b[m\u001b[K’ {aka ‘\u001b[01m\u001b[Klong int\u001b[m\u001b[K’} [\u001b[01;35m\u001b[K\u001b]8;;https://gcc.gnu.org/onlinedocs/gcc/Warning-Options.html#index-Wformat=\u0007-Wformat=\u001b]8;;\u0007\u001b[m\u001b[K]\n",
      "   70 |         fprintf (stderr, \"r.shape = (%d, \u001b[01;35m\u001b[K%d\u001b[m\u001b[K, %d, %d)\\n\", r.shape (0), \u001b[32m\u001b[Kr.shape (1)\u001b[m\u001b[K, r.shape (2), r.shape (3));\n",
      "      |                                          \u001b[01;35m\u001b[K~^\u001b[m\u001b[K                           \u001b[32m\u001b[K~~~~~~~~~~~\u001b[m\u001b[K\n",
      "      |                                           \u001b[01;35m\u001b[K|\u001b[m\u001b[K                                   \u001b[32m\u001b[K|\u001b[m\u001b[K\n",
      "      |                                           \u001b[01;35m\u001b[Kint\u001b[m\u001b[K                                 \u001b[32m\u001b[Kpybind11::ssize_t {aka long int}\u001b[m\u001b[K\n",
      "      |                                          \u001b[32m\u001b[K%ld\u001b[m\u001b[K\n",
      "\u001b[01m\u001b[Kgolois.cpp:70:47:\u001b[m\u001b[K \u001b[01;35m\u001b[Kwarning: \u001b[m\u001b[Kformat ‘\u001b[01m\u001b[K%d\u001b[m\u001b[K’ expects argument of type ‘\u001b[01m\u001b[Kint\u001b[m\u001b[K’, but argument 5 has type ‘\u001b[01m\u001b[Kpybind11::ssize_t\u001b[m\u001b[K’ {aka ‘\u001b[01m\u001b[Klong int\u001b[m\u001b[K’} [\u001b[01;35m\u001b[K\u001b]8;;https://gcc.gnu.org/onlinedocs/gcc/Warning-Options.html#index-Wformat=\u0007-Wformat=\u001b]8;;\u0007\u001b[m\u001b[K]\n",
      "   70 |         fprintf (stderr, \"r.shape = (%d, %d, \u001b[01;35m\u001b[K%d\u001b[m\u001b[K, %d)\\n\", r.shape (0), r.shape (1), \u001b[32m\u001b[Kr.shape (2)\u001b[m\u001b[K, r.shape (3));\n",
      "      |                                              \u001b[01;35m\u001b[K~^\u001b[m\u001b[K                                    \u001b[32m\u001b[K~~~~~~~~~~~\u001b[m\u001b[K\n",
      "      |                                               \u001b[01;35m\u001b[K|\u001b[m\u001b[K                                            \u001b[32m\u001b[K|\u001b[m\u001b[K\n",
      "      |                                               \u001b[01;35m\u001b[Kint\u001b[m\u001b[K                                          \u001b[32m\u001b[Kpybind11::ssize_t {aka long int}\u001b[m\u001b[K\n",
      "      |                                              \u001b[32m\u001b[K%ld\u001b[m\u001b[K\n",
      "\u001b[01m\u001b[Kgolois.cpp:70:51:\u001b[m\u001b[K \u001b[01;35m\u001b[Kwarning: \u001b[m\u001b[Kformat ‘\u001b[01m\u001b[K%d\u001b[m\u001b[K’ expects argument of type ‘\u001b[01m\u001b[Kint\u001b[m\u001b[K’, but argument 6 has type ‘\u001b[01m\u001b[Kpybind11::ssize_t\u001b[m\u001b[K’ {aka ‘\u001b[01m\u001b[Klong int\u001b[m\u001b[K’} [\u001b[01;35m\u001b[K\u001b]8;;https://gcc.gnu.org/onlinedocs/gcc/Warning-Options.html#index-Wformat=\u0007-Wformat=\u001b]8;;\u0007\u001b[m\u001b[K]\n",
      "   70 |         fprintf (stderr, \"r.shape = (%d, %d, %d, \u001b[01;35m\u001b[K%d\u001b[m\u001b[K)\\n\", r.shape (0), r.shape (1), r.shape (2), \u001b[32m\u001b[Kr.shape (3)\u001b[m\u001b[K);\n",
      "      |                                                  \u001b[01;35m\u001b[K~^\u001b[m\u001b[K                                             \u001b[32m\u001b[K~~~~~~~~~~~\u001b[m\u001b[K\n",
      "      |                                                   \u001b[01;35m\u001b[K|\u001b[m\u001b[K                                                     \u001b[32m\u001b[K|\u001b[m\u001b[K\n",
      "      |                                                   \u001b[01;35m\u001b[Kint\u001b[m\u001b[K                                                   \u001b[32m\u001b[Kpybind11::ssize_t {aka long int}\u001b[m\u001b[K\n",
      "      |                                                  \u001b[32m\u001b[K%ld\u001b[m\u001b[K\n",
      "\u001b[01m\u001b[Kgolois.cpp:76:15:\u001b[m\u001b[K \u001b[01;35m\u001b[Kwarning: \u001b[m\u001b[Kunused variable ‘\u001b[01m\u001b[Kgame\u001b[m\u001b[K’ [\u001b[01;35m\u001b[K\u001b]8;;https://gcc.gnu.org/onlinedocs/gcc/Warning-Options.html#index-Wunused-variable\u0007-Wunused-variable\u001b]8;;\u0007\u001b[m\u001b[K]\n",
      "   76 |           int \u001b[01;35m\u001b[Kgame\u001b[m\u001b[K = positionSGF [pos].game;\n",
      "      |               \u001b[01;35m\u001b[K^~~~\u001b[m\u001b[K\n",
      "\u001b[01m\u001b[Kgolois.cpp:\u001b[m\u001b[K In lambda function:\n",
      "\u001b[01m\u001b[Kgolois.cpp:168:39:\u001b[m\u001b[K \u001b[01;35m\u001b[Kwarning: \u001b[m\u001b[Kformat ‘\u001b[01m\u001b[K%d\u001b[m\u001b[K’ expects argument of type ‘\u001b[01m\u001b[Kint\u001b[m\u001b[K’, but argument 3 has type ‘\u001b[01m\u001b[Kpybind11::ssize_t\u001b[m\u001b[K’ {aka ‘\u001b[01m\u001b[Klong int\u001b[m\u001b[K’} [\u001b[01;35m\u001b[K\u001b]8;;https://gcc.gnu.org/onlinedocs/gcc/Warning-Options.html#index-Wformat=\u0007-Wformat=\u001b]8;;\u0007\u001b[m\u001b[K]\n",
      "  168 |         fprintf (stderr, \"r.shape = (\u001b[01;35m\u001b[K%d\u001b[m\u001b[K, %d, %d, %d)\\n\", \u001b[32m\u001b[Kr.shape (0)\u001b[m\u001b[K, r.shape (1), r.shape (2), r.shape (3));\n",
      "      |                                      \u001b[01;35m\u001b[K~^\u001b[m\u001b[K                  \u001b[32m\u001b[K~~~~~~~~~~~\u001b[m\u001b[K\n",
      "      |                                       \u001b[01;35m\u001b[K|\u001b[m\u001b[K                          \u001b[32m\u001b[K|\u001b[m\u001b[K\n",
      "      |                                       \u001b[01;35m\u001b[Kint\u001b[m\u001b[K                        \u001b[32m\u001b[Kpybind11::ssize_t {aka long int}\u001b[m\u001b[K\n",
      "      |                                      \u001b[32m\u001b[K%ld\u001b[m\u001b[K\n",
      "\u001b[01m\u001b[Kgolois.cpp:168:43:\u001b[m\u001b[K \u001b[01;35m\u001b[Kwarning: \u001b[m\u001b[Kformat ‘\u001b[01m\u001b[K%d\u001b[m\u001b[K’ expects argument of type ‘\u001b[01m\u001b[Kint\u001b[m\u001b[K’, but argument 4 has type ‘\u001b[01m\u001b[Kpybind11::ssize_t\u001b[m\u001b[K’ {aka ‘\u001b[01m\u001b[Klong int\u001b[m\u001b[K’} [\u001b[01;35m\u001b[K\u001b]8;;https://gcc.gnu.org/onlinedocs/gcc/Warning-Options.html#index-Wformat=\u0007-Wformat=\u001b]8;;\u0007\u001b[m\u001b[K]\n",
      "  168 |         fprintf (stderr, \"r.shape = (%d, \u001b[01;35m\u001b[K%d\u001b[m\u001b[K, %d, %d)\\n\", r.shape (0), \u001b[32m\u001b[Kr.shape (1)\u001b[m\u001b[K, r.shape (2), r.shape (3));\n",
      "      |                                          \u001b[01;35m\u001b[K~^\u001b[m\u001b[K                           \u001b[32m\u001b[K~~~~~~~~~~~\u001b[m\u001b[K\n",
      "      |                                           \u001b[01;35m\u001b[K|\u001b[m\u001b[K                                   \u001b[32m\u001b[K|\u001b[m\u001b[K\n",
      "      |                                           \u001b[01;35m\u001b[Kint\u001b[m\u001b[K                                 \u001b[32m\u001b[Kpybind11::ssize_t {aka long int}\u001b[m\u001b[K\n",
      "      |                                          \u001b[32m\u001b[K%ld\u001b[m\u001b[K\n",
      "\u001b[01m\u001b[Kgolois.cpp:168:47:\u001b[m\u001b[K \u001b[01;35m\u001b[Kwarning: \u001b[m\u001b[Kformat ‘\u001b[01m\u001b[K%d\u001b[m\u001b[K’ expects argument of type ‘\u001b[01m\u001b[Kint\u001b[m\u001b[K’, but argument 5 has type ‘\u001b[01m\u001b[Kpybind11::ssize_t\u001b[m\u001b[K’ {aka ‘\u001b[01m\u001b[Klong int\u001b[m\u001b[K’} [\u001b[01;35m\u001b[K\u001b]8;;https://gcc.gnu.org/onlinedocs/gcc/Warning-Options.html#index-Wformat=\u0007-Wformat=\u001b]8;;\u0007\u001b[m\u001b[K]\n",
      "  168 |         fprintf (stderr, \"r.shape = (%d, %d, \u001b[01;35m\u001b[K%d\u001b[m\u001b[K, %d)\\n\", r.shape (0), r.shape (1), \u001b[32m\u001b[Kr.shape (2)\u001b[m\u001b[K, r.shape (3));\n",
      "      |                                              \u001b[01;35m\u001b[K~^\u001b[m\u001b[K                                    \u001b[32m\u001b[K~~~~~~~~~~~\u001b[m\u001b[K\n",
      "      |                                               \u001b[01;35m\u001b[K|\u001b[m\u001b[K                                            \u001b[32m\u001b[K|\u001b[m\u001b[K\n",
      "      |                                               \u001b[01;35m\u001b[Kint\u001b[m\u001b[K                                          \u001b[32m\u001b[Kpybind11::ssize_t {aka long int}\u001b[m\u001b[K\n",
      "      |                                              \u001b[32m\u001b[K%ld\u001b[m\u001b[K\n",
      "\u001b[01m\u001b[Kgolois.cpp:168:51:\u001b[m\u001b[K \u001b[01;35m\u001b[Kwarning: \u001b[m\u001b[Kformat ‘\u001b[01m\u001b[K%d\u001b[m\u001b[K’ expects argument of type ‘\u001b[01m\u001b[Kint\u001b[m\u001b[K’, but argument 6 has type ‘\u001b[01m\u001b[Kpybind11::ssize_t\u001b[m\u001b[K’ {aka ‘\u001b[01m\u001b[Klong int\u001b[m\u001b[K’} [\u001b[01;35m\u001b[K\u001b]8;;https://gcc.gnu.org/onlinedocs/gcc/Warning-Options.html#index-Wformat=\u0007-Wformat=\u001b]8;;\u0007\u001b[m\u001b[K]\n",
      "  168 |         fprintf (stderr, \"r.shape = (%d, %d, %d, \u001b[01;35m\u001b[K%d\u001b[m\u001b[K)\\n\", r.shape (0), r.shape (1), r.shape (2), \u001b[32m\u001b[Kr.shape (3)\u001b[m\u001b[K);\n",
      "      |                                                  \u001b[01;35m\u001b[K~^\u001b[m\u001b[K                                             \u001b[32m\u001b[K~~~~~~~~~~~\u001b[m\u001b[K\n",
      "      |                                                   \u001b[01;35m\u001b[K|\u001b[m\u001b[K                                                     \u001b[32m\u001b[K|\u001b[m\u001b[K\n",
      "      |                                                   \u001b[01;35m\u001b[Kint\u001b[m\u001b[K                                                   \u001b[32m\u001b[Kpybind11::ssize_t {aka long int}\u001b[m\u001b[K\n",
      "      |                                                  \u001b[32m\u001b[K%ld\u001b[m\u001b[K\n",
      "\u001b[01m\u001b[Kgolois.cpp:177:26:\u001b[m\u001b[K \u001b[01;35m\u001b[Kwarning: \u001b[m\u001b[KISO C++ forbids converting a string constant to ‘\u001b[01m\u001b[Kchar*\u001b[m\u001b[K’ [\u001b[01;35m\u001b[K\u001b]8;;https://gcc.gnu.org/onlinedocs/gcc/Warning-Options.html#index-Wwrite-strings\u0007-Wwrite-strings\u001b]8;;\u0007\u001b[m\u001b[K]\n",
      "  177 |           loadGamesData (\u001b[01;35m\u001b[K\"games.data\"\u001b[m\u001b[K);\n",
      "      |                          \u001b[01;35m\u001b[K^~~~~~~~~~~~\u001b[m\u001b[K\n",
      "\u001b[01m\u001b[Kgolois.cpp:\u001b[m\u001b[K In lambda function:\n",
      "\u001b[01m\u001b[Kgolois.cpp:314:29:\u001b[m\u001b[K \u001b[01;35m\u001b[Kwarning: \u001b[m\u001b[KISO C++ forbids converting a string constant to ‘\u001b[01m\u001b[Kchar*\u001b[m\u001b[K’ [\u001b[01;35m\u001b[K\u001b]8;;https://gcc.gnu.org/onlinedocs/gcc/Warning-Options.html#index-Wwrite-strings\u0007-Wwrite-strings\u001b]8;;\u0007\u001b[m\u001b[K]\n",
      "  314 |           loadGamesDataVal (\u001b[01;35m\u001b[K\"games.val.data\"\u001b[m\u001b[K);\n",
      "      |                             \u001b[01;35m\u001b[K^~~~~~~~~~~~~~~~\u001b[m\u001b[K\n",
      "\u001b[01m\u001b[Kgolois.cpp:322:39:\u001b[m\u001b[K \u001b[01;35m\u001b[Kwarning: \u001b[m\u001b[Kformat ‘\u001b[01m\u001b[K%d\u001b[m\u001b[K’ expects argument of type ‘\u001b[01m\u001b[Kint\u001b[m\u001b[K’, but argument 3 has type ‘\u001b[01m\u001b[Kpybind11::ssize_t\u001b[m\u001b[K’ {aka ‘\u001b[01m\u001b[Klong int\u001b[m\u001b[K’} [\u001b[01;35m\u001b[K\u001b]8;;https://gcc.gnu.org/onlinedocs/gcc/Warning-Options.html#index-Wformat=\u0007-Wformat=\u001b]8;;\u0007\u001b[m\u001b[K]\n",
      "  322 |         fprintf (stderr, \"r.shape = (\u001b[01;35m\u001b[K%d\u001b[m\u001b[K, %d, %d, %d)\\n\", \u001b[32m\u001b[Kr.shape (0)\u001b[m\u001b[K, r.shape (1), r.shape (2), r.shape (3));\n",
      "      |                                      \u001b[01;35m\u001b[K~^\u001b[m\u001b[K                  \u001b[32m\u001b[K~~~~~~~~~~~\u001b[m\u001b[K\n",
      "      |                                       \u001b[01;35m\u001b[K|\u001b[m\u001b[K                          \u001b[32m\u001b[K|\u001b[m\u001b[K\n",
      "      |                                       \u001b[01;35m\u001b[Kint\u001b[m\u001b[K                        \u001b[32m\u001b[Kpybind11::ssize_t {aka long int}\u001b[m\u001b[K\n",
      "      |                                      \u001b[32m\u001b[K%ld\u001b[m\u001b[K\n",
      "\u001b[01m\u001b[Kgolois.cpp:322:43:\u001b[m\u001b[K \u001b[01;35m\u001b[Kwarning: \u001b[m\u001b[Kformat ‘\u001b[01m\u001b[K%d\u001b[m\u001b[K’ expects argument of type ‘\u001b[01m\u001b[Kint\u001b[m\u001b[K’, but argument 4 has type ‘\u001b[01m\u001b[Kpybind11::ssize_t\u001b[m\u001b[K’ {aka ‘\u001b[01m\u001b[Klong int\u001b[m\u001b[K’} [\u001b[01;35m\u001b[K\u001b]8;;https://gcc.gnu.org/onlinedocs/gcc/Warning-Options.html#index-Wformat=\u0007-Wformat=\u001b]8;;\u0007\u001b[m\u001b[K]\n",
      "  322 |         fprintf (stderr, \"r.shape = (%d, \u001b[01;35m\u001b[K%d\u001b[m\u001b[K, %d, %d)\\n\", r.shape (0), \u001b[32m\u001b[Kr.shape (1)\u001b[m\u001b[K, r.shape (2), r.shape (3));\n",
      "      |                                          \u001b[01;35m\u001b[K~^\u001b[m\u001b[K                           \u001b[32m\u001b[K~~~~~~~~~~~\u001b[m\u001b[K\n",
      "      |                                           \u001b[01;35m\u001b[K|\u001b[m\u001b[K                                   \u001b[32m\u001b[K|\u001b[m\u001b[K\n",
      "      |                                           \u001b[01;35m\u001b[Kint\u001b[m\u001b[K                                 \u001b[32m\u001b[Kpybind11::ssize_t {aka long int}\u001b[m\u001b[K\n",
      "      |                                          \u001b[32m\u001b[K%ld\u001b[m\u001b[K\n",
      "\u001b[01m\u001b[Kgolois.cpp:322:47:\u001b[m\u001b[K \u001b[01;35m\u001b[Kwarning: \u001b[m\u001b[Kformat ‘\u001b[01m\u001b[K%d\u001b[m\u001b[K’ expects argument of type ‘\u001b[01m\u001b[Kint\u001b[m\u001b[K’, but argument 5 has type ‘\u001b[01m\u001b[Kpybind11::ssize_t\u001b[m\u001b[K’ {aka ‘\u001b[01m\u001b[Klong int\u001b[m\u001b[K’} [\u001b[01;35m\u001b[K\u001b]8;;https://gcc.gnu.org/onlinedocs/gcc/Warning-Options.html#index-Wformat=\u0007-Wformat=\u001b]8;;\u0007\u001b[m\u001b[K]\n",
      "  322 |         fprintf (stderr, \"r.shape = (%d, %d, \u001b[01;35m\u001b[K%d\u001b[m\u001b[K, %d)\\n\", r.shape (0), r.shape (1), \u001b[32m\u001b[Kr.shape (2)\u001b[m\u001b[K, r.shape (3));\n",
      "      |                                              \u001b[01;35m\u001b[K~^\u001b[m\u001b[K                                    \u001b[32m\u001b[K~~~~~~~~~~~\u001b[m\u001b[K\n",
      "      |                                               \u001b[01;35m\u001b[K|\u001b[m\u001b[K                                            \u001b[32m\u001b[K|\u001b[m\u001b[K\n",
      "      |                                               \u001b[01;35m\u001b[Kint\u001b[m\u001b[K                                          \u001b[32m\u001b[Kpybind11::ssize_t {aka long int}\u001b[m\u001b[K\n",
      "      |                                              \u001b[32m\u001b[K%ld\u001b[m\u001b[K\n",
      "\u001b[01m\u001b[Kgolois.cpp:322:51:\u001b[m\u001b[K \u001b[01;35m\u001b[Kwarning: \u001b[m\u001b[Kformat ‘\u001b[01m\u001b[K%d\u001b[m\u001b[K’ expects argument of type ‘\u001b[01m\u001b[Kint\u001b[m\u001b[K’, but argument 6 has type ‘\u001b[01m\u001b[Kpybind11::ssize_t\u001b[m\u001b[K’ {aka ‘\u001b[01m\u001b[Klong int\u001b[m\u001b[K’} [\u001b[01;35m\u001b[K\u001b]8;;https://gcc.gnu.org/onlinedocs/gcc/Warning-Options.html#index-Wformat=\u0007-Wformat=\u001b]8;;\u0007\u001b[m\u001b[K]\n",
      "  322 |         fprintf (stderr, \"r.shape = (%d, %d, %d, \u001b[01;35m\u001b[K%d\u001b[m\u001b[K)\\n\", r.shape (0), r.shape (1), r.shape (2), \u001b[32m\u001b[Kr.shape (3)\u001b[m\u001b[K);\n",
      "      |                                                  \u001b[01;35m\u001b[K~^\u001b[m\u001b[K                                             \u001b[32m\u001b[K~~~~~~~~~~~\u001b[m\u001b[K\n",
      "      |                                                   \u001b[01;35m\u001b[K|\u001b[m\u001b[K                                                     \u001b[32m\u001b[K|\u001b[m\u001b[K\n",
      "      |                                                   \u001b[01;35m\u001b[Kint\u001b[m\u001b[K                                                   \u001b[32m\u001b[Kpybind11::ssize_t {aka long int}\u001b[m\u001b[K\n",
      "      |                                                  \u001b[32m\u001b[K%ld\u001b[m\u001b[K\n",
      "In file included from \u001b[01m\u001b[Kgolois.cpp:18\u001b[m\u001b[K:\n",
      "\u001b[01m\u001b[KGame.h:\u001b[m\u001b[K In function ‘\u001b[01m\u001b[Kvoid loadGamesData(char*)\u001b[m\u001b[K’:\n",
      "\u001b[01m\u001b[KGame.h:206:12:\u001b[m\u001b[K \u001b[01;35m\u001b[Kwarning: \u001b[m\u001b[Kignoring return value of ‘\u001b[01m\u001b[Kint fscanf(FILE*, const char*, ...)\u001b[m\u001b[K’ declared with attribute ‘\u001b[01m\u001b[Kwarn_unused_result\u001b[m\u001b[K’ [\u001b[01;35m\u001b[K\u001b]8;;https://gcc.gnu.org/onlinedocs/gcc/Warning-Options.html#index-Wunused-result\u0007-Wunused-result\u001b]8;;\u0007\u001b[m\u001b[K]\n",
      "  206 |     \u001b[01;35m\u001b[Kfscanf (fp, \"%d\", &nbGames)\u001b[m\u001b[K;\n",
      "      |     \u001b[01;35m\u001b[K~~~~~~~^~~~~~~~~~~~~~~~~~~~\u001b[m\u001b[K\n",
      "\u001b[01m\u001b[KGame.h:208:14:\u001b[m\u001b[K \u001b[01;35m\u001b[Kwarning: \u001b[m\u001b[Kignoring return value of ‘\u001b[01m\u001b[Kint fscanf(FILE*, const char*, ...)\u001b[m\u001b[K’ declared with attribute ‘\u001b[01m\u001b[Kwarn_unused_result\u001b[m\u001b[K’ [\u001b[01;35m\u001b[K\u001b]8;;https://gcc.gnu.org/onlinedocs/gcc/Warning-Options.html#index-Wunused-result\u0007-Wunused-result\u001b]8;;\u0007\u001b[m\u001b[K]\n",
      "  208 |       \u001b[01;35m\u001b[Kfscanf (fp, \"%f\", &komi [g])\u001b[m\u001b[K;\n",
      "      |       \u001b[01;35m\u001b[K~~~~~~~^~~~~~~~~~~~~~~~~~~~~\u001b[m\u001b[K\n",
      "\u001b[01m\u001b[KGame.h:209:14:\u001b[m\u001b[K \u001b[01;35m\u001b[Kwarning: \u001b[m\u001b[Kignoring return value of ‘\u001b[01m\u001b[Kint fscanf(FILE*, const char*, ...)\u001b[m\u001b[K’ declared with attribute ‘\u001b[01m\u001b[Kwarn_unused_result\u001b[m\u001b[K’ [\u001b[01;35m\u001b[K\u001b]8;;https://gcc.gnu.org/onlinedocs/gcc/Warning-Options.html#index-Wunused-result\u0007-Wunused-result\u001b]8;;\u0007\u001b[m\u001b[K]\n",
      "  209 |       \u001b[01;35m\u001b[Kfscanf (fp, \"%s \", s)\u001b[m\u001b[K;\n",
      "      |       \u001b[01;35m\u001b[K~~~~~~~^~~~~~~~~~~~~~\u001b[m\u001b[K\n",
      "\u001b[01m\u001b[KGame.h:212:14:\u001b[m\u001b[K \u001b[01;35m\u001b[Kwarning: \u001b[m\u001b[Kignoring return value of ‘\u001b[01m\u001b[Kint fscanf(FILE*, const char*, ...)\u001b[m\u001b[K’ declared with attribute ‘\u001b[01m\u001b[Kwarn_unused_result\u001b[m\u001b[K’ [\u001b[01;35m\u001b[K\u001b]8;;https://gcc.gnu.org/onlinedocs/gcc/Warning-Options.html#index-Wunused-result\u0007-Wunused-result\u001b]8;;\u0007\u001b[m\u001b[K]\n",
      "  212 |       \u001b[01;35m\u001b[Kfscanf (fp, \"%d\", &nbMovesSGFGame [g])\u001b[m\u001b[K;\n",
      "      |       \u001b[01;35m\u001b[K~~~~~~~^~~~~~~~~~~~~~~~~~~~~~~~~~~~~~~\u001b[m\u001b[K\n",
      "\u001b[01m\u001b[KGame.h:219:16:\u001b[m\u001b[K \u001b[01;35m\u001b[Kwarning: \u001b[m\u001b[Kignoring return value of ‘\u001b[01m\u001b[Kint fscanf(FILE*, const char*, ...)\u001b[m\u001b[K’ declared with attribute ‘\u001b[01m\u001b[Kwarn_unused_result\u001b[m\u001b[K’ [\u001b[01;35m\u001b[K\u001b]8;;https://gcc.gnu.org/onlinedocs/gcc/Warning-Options.html#index-Wunused-result\u0007-Wunused-result\u001b]8;;\u0007\u001b[m\u001b[K]\n",
      "  219 |         \u001b[01;35m\u001b[Kfscanf (fp, \"%d %d %f %f\", &proGame [g] [i].inter, &proGame [g] [i].color, &proGame [g] [i].val, &proGame [g] [i].points)\u001b[m\u001b[K;\n",
      "      |         \u001b[01;35m\u001b[K~~~~~~~^~~~~~~~~~~~~~~~~~~~~~~~~~~~~~~~~~~~~~~~~~~~~~~~~~~~~~~~~~~~~~~~~~~~~~~~~~~~~~~~~~~~~~~~~~~~~~~~~~~~~~~~~~~~~~~~~~\u001b[m\u001b[K\n",
      "\u001b[01m\u001b[KGame.h:\u001b[m\u001b[K In function ‘\u001b[01m\u001b[Kvoid loadGamesDataVal(char*)\u001b[m\u001b[K’:\n",
      "\u001b[01m\u001b[KGame.h:294:12:\u001b[m\u001b[K \u001b[01;35m\u001b[Kwarning: \u001b[m\u001b[Kignoring return value of ‘\u001b[01m\u001b[Kint fscanf(FILE*, const char*, ...)\u001b[m\u001b[K’ declared with attribute ‘\u001b[01m\u001b[Kwarn_unused_result\u001b[m\u001b[K’ [\u001b[01;35m\u001b[K\u001b]8;;https://gcc.gnu.org/onlinedocs/gcc/Warning-Options.html#index-Wunused-result\u0007-Wunused-result\u001b]8;;\u0007\u001b[m\u001b[K]\n",
      "  294 |     \u001b[01;35m\u001b[Kfscanf (fp, \"%d\", &nbGames)\u001b[m\u001b[K;\n",
      "      |     \u001b[01;35m\u001b[K~~~~~~~^~~~~~~~~~~~~~~~~~~~\u001b[m\u001b[K\n",
      "\u001b[01m\u001b[KGame.h:296:14:\u001b[m\u001b[K \u001b[01;35m\u001b[Kwarning: \u001b[m\u001b[Kignoring return value of ‘\u001b[01m\u001b[Kint fscanf(FILE*, const char*, ...)\u001b[m\u001b[K’ declared with attribute ‘\u001b[01m\u001b[Kwarn_unused_result\u001b[m\u001b[K’ [\u001b[01;35m\u001b[K\u001b]8;;https://gcc.gnu.org/onlinedocs/gcc/Warning-Options.html#index-Wunused-result\u0007-Wunused-result\u001b]8;;\u0007\u001b[m\u001b[K]\n",
      "  296 |       \u001b[01;35m\u001b[Kfscanf (fp, \"%s \", s)\u001b[m\u001b[K;\n",
      "      |       \u001b[01;35m\u001b[K~~~~~~~^~~~~~~~~~~~~~\u001b[m\u001b[K\n",
      "\u001b[01m\u001b[KGame.h:298:14:\u001b[m\u001b[K \u001b[01;35m\u001b[Kwarning: \u001b[m\u001b[Kignoring return value of ‘\u001b[01m\u001b[Kint fscanf(FILE*, const char*, ...)\u001b[m\u001b[K’ declared with attribute ‘\u001b[01m\u001b[Kwarn_unused_result\u001b[m\u001b[K’ [\u001b[01;35m\u001b[K\u001b]8;;https://gcc.gnu.org/onlinedocs/gcc/Warning-Options.html#index-Wunused-result\u0007-Wunused-result\u001b]8;;\u0007\u001b[m\u001b[K]\n",
      "  298 |       \u001b[01;35m\u001b[Kfscanf (fp, \"%d\", &nbMovesSGFGame [g])\u001b[m\u001b[K;\n",
      "      |       \u001b[01;35m\u001b[K~~~~~~~^~~~~~~~~~~~~~~~~~~~~~~~~~~~~~~\u001b[m\u001b[K\n",
      "\u001b[01m\u001b[KGame.h:301:16:\u001b[m\u001b[K \u001b[01;35m\u001b[Kwarning: \u001b[m\u001b[Kignoring return value of ‘\u001b[01m\u001b[Kint fscanf(FILE*, const char*, ...)\u001b[m\u001b[K’ declared with attribute ‘\u001b[01m\u001b[Kwarn_unused_result\u001b[m\u001b[K’ [\u001b[01;35m\u001b[K\u001b]8;;https://gcc.gnu.org/onlinedocs/gcc/Warning-Options.html#index-Wunused-result\u0007-Wunused-result\u001b]8;;\u0007\u001b[m\u001b[K]\n",
      "  301 |         \u001b[01;35m\u001b[Kfscanf (fp, \"%d %f %d \", &proGame [g] [i].inter, &proGame [g] [i].val, &proGame [g] [i].color)\u001b[m\u001b[K;\n",
      "      |         \u001b[01;35m\u001b[K~~~~~~~^~~~~~~~~~~~~~~~~~~~~~~~~~~~~~~~~~~~~~~~~~~~~~~~~~~~~~~~~~~~~~~~~~~~~~~~~~~~~~~~~~~~~~~\u001b[m\u001b[K\n",
      "\u001b[01m\u001b[Kgolois.cpp:\u001b[m\u001b[K In lambda function:\n",
      "\u001b[01m\u001b[Kgolois.cpp:213:20:\u001b[m\u001b[K \u001b[01;35m\u001b[Kwarning: \u001b[m\u001b[Kignoring return value of ‘\u001b[01m\u001b[Kint fscanf(FILE*, const char*, ...)\u001b[m\u001b[K’ declared with attribute ‘\u001b[01m\u001b[Kwarn_unused_result\u001b[m\u001b[K’ [\u001b[01;35m\u001b[K\u001b]8;;https://gcc.gnu.org/onlinedocs/gcc/Warning-Options.html#index-Wunused-result\u0007-Wunused-result\u001b]8;;\u0007\u001b[m\u001b[K]\n",
      "  213 |             \u001b[01;35m\u001b[Kfscanf (fp, \"%d\", &nbExamples)\u001b[m\u001b[K;\n",
      "      |             \u001b[01;35m\u001b[K~~~~~~~^~~~~~~~~~~~~~~~~~~~~~~\u001b[m\u001b[K\n",
      "\u001b[01m\u001b[Kgolois.cpp:215:22:\u001b[m\u001b[K \u001b[01;35m\u001b[Kwarning: \u001b[m\u001b[Kignoring return value of ‘\u001b[01m\u001b[Kint fscanf(FILE*, const char*, ...)\u001b[m\u001b[K’ declared with attribute ‘\u001b[01m\u001b[Kwarn_unused_result\u001b[m\u001b[K’ [\u001b[01;35m\u001b[K\u001b]8;;https://gcc.gnu.org/onlinedocs/gcc/Warning-Options.html#index-Wunused-result\u0007-Wunused-result\u001b]8;;\u0007\u001b[m\u001b[K]\n",
      "  215 |               \u001b[01;35m\u001b[Kfscanf (fp, \"%d\", &indexValidation [i])\u001b[m\u001b[K;\n",
      "      |               \u001b[01;35m\u001b[K~~~~~~~^~~~~~~~~~~~~~~~~~~~~~~~~~~~~~~~\u001b[m\u001b[K\n",
      "In file included from \u001b[01m\u001b[Kgolois.cpp:17\u001b[m\u001b[K:\n",
      "\u001b[01m\u001b[KBoard.h:\u001b[m\u001b[K In member function ‘\u001b[01m\u001b[Kbool Board::captureLadder(int, int, Rzone&, Rzone*)\u001b[m\u001b[K’:\n",
      "\u001b[01m\u001b[KBoard.h:1683:19:\u001b[m\u001b[K \u001b[01;35m\u001b[Kwarning: \u001b[m\u001b[K‘\u001b[01m\u001b[Klib\u001b[m\u001b[K’ may be used uninitialized [\u001b[01;35m\u001b[K\u001b]8;;https://gcc.gnu.org/onlinedocs/gcc/Warning-Options.html#index-Wmaybe-uninitialized\u0007-Wmaybe-uninitialized\u001b]8;;\u0007\u001b[m\u001b[K]\n",
      " 1683 |       if (\u001b[01;35m\u001b[KnbEmpty (lib [1])\u001b[m\u001b[K > nbEmpty (lib [0])) {\n",
      "      |           \u001b[01;35m\u001b[K~~~~~~~~^~~~~~~~~\u001b[m\u001b[K\n",
      "\u001b[01m\u001b[KBoard.h:1680:11:\u001b[m\u001b[K \u001b[01;36m\u001b[Knote: \u001b[m\u001b[K‘\u001b[01m\u001b[Klib\u001b[m\u001b[K’ declared here\n",
      " 1680 |       int \u001b[01;36m\u001b[Klib\u001b[m\u001b[K [2];\n",
      "      |           \u001b[01;36m\u001b[K^~~\u001b[m\u001b[K\n",
      "\u001b[01m\u001b[KBoard.h:1683:19:\u001b[m\u001b[K \u001b[01;35m\u001b[Kwarning: \u001b[m\u001b[K‘\u001b[01m\u001b[Klib\u001b[m\u001b[K’ may be used uninitialized [\u001b[01;35m\u001b[K\u001b]8;;https://gcc.gnu.org/onlinedocs/gcc/Warning-Options.html#index-Wmaybe-uninitialized\u0007-Wmaybe-uninitialized\u001b]8;;\u0007\u001b[m\u001b[K]\n",
      " 1683 |       if (\u001b[01;35m\u001b[KnbEmpty (lib [1])\u001b[m\u001b[K > nbEmpty (lib [0])) {\n",
      "      |           \u001b[01;35m\u001b[K~~~~~~~~^~~~~~~~~\u001b[m\u001b[K\n",
      "\u001b[01m\u001b[KBoard.h:1680:11:\u001b[m\u001b[K \u001b[01;36m\u001b[Knote: \u001b[m\u001b[K‘\u001b[01m\u001b[Klib\u001b[m\u001b[K’ declared here\n",
      " 1680 |       int \u001b[01;36m\u001b[Klib\u001b[m\u001b[K [2];\n",
      "      |           \u001b[01;36m\u001b[K^~~\u001b[m\u001b[K\n"
     ]
    }
   ],
   "source": [
    "!c++ -O3 -Wall -shared -std=c++11 -fsized-deallocation -fPIC `python3.9 -m pybind11 --includes` golois.cpp -o golois$(python3.9-config --extension-suffix)"
   ]
  },
  {
   "cell_type": "code",
   "execution_count": 8,
   "metadata": {
    "application/vnd.databricks.v1+cell": {
     "cellMetadata": {},
     "inputWidgets": {},
     "nuid": "185c2dd6-e5df-4f65-b51e-1f54a3319845",
     "showTitle": false,
     "title": ""
    },
    "colab": {
     "base_uri": "https://localhost:8080/"
    },
    "execution": {
     "iopub.execute_input": "2023-07-30T14:58:43.315644Z",
     "iopub.status.busy": "2023-07-30T14:58:43.315379Z",
     "iopub.status.idle": "2023-07-30T14:59:09.329555Z",
     "shell.execute_reply": "2023-07-30T14:59:09.328782Z",
     "shell.execute_reply.started": "2023-07-30T14:58:43.315623Z"
    },
    "id": "MzlgV2LWSa1r",
    "outputId": "f185b36a-735a-4df2-fc4c-36c099ae600b",
    "tags": []
   },
   "outputs": [
    {
     "name": "stdout",
     "output_type": "stream",
     "text": [
      "getValidation\n"
     ]
    },
    {
     "name": "stderr",
     "output_type": "stream",
     "text": [
      "r.shape = (20000, 19, 19, 31)\n",
      "nbExamples = 20000\n",
      "nbPositionsSGF = 29425326\n",
      "nbPositionsSGF = 29425326\n",
      "loading validation.data\n"
     ]
    }
   ],
   "source": [
    "planes = 31\n",
    "moves = 361\n",
    "N = 20000\n",
    "epochs = 200\n",
    "batch = 100\n",
    "filters = 48\n",
    "\n",
    "input_data = np.random.randint(2, size=(N, 19, 19, planes))\n",
    "input_data = input_data.astype ('float32')\n",
    "\n",
    "policy = np.random.randint(moves, size=(N,))\n",
    "policy = keras.utils.to_categorical (policy)\n",
    "\n",
    "value = np.random.randint(2, size=(N,))\n",
    "value = value.astype ('float32')\n",
    "\n",
    "end = np.random.randint(2, size=(N, 19, 19, 2))\n",
    "end = end.astype ('float32')\n",
    "\n",
    "groups = np.zeros((N, 19, 19, 1))\n",
    "groups = groups.astype ('float32')\n",
    "\n",
    "print (\"getValidation\", flush = True)\n",
    "golois.getValidation (input_data, policy, value, end)\n"
   ]
  },
  {
   "cell_type": "markdown",
   "metadata": {
    "id": "5R76tgXHPW_6"
   },
   "source": [
    "Inverted residual block:"
   ]
  },
  {
   "cell_type": "code",
   "execution_count": 21,
   "metadata": {
    "execution": {
     "iopub.execute_input": "2023-07-30T19:08:51.876150Z",
     "iopub.status.busy": "2023-07-30T19:08:51.875779Z",
     "iopub.status.idle": "2023-07-30T19:08:51.880855Z",
     "shell.execute_reply": "2023-07-30T19:08:51.880131Z",
     "shell.execute_reply.started": "2023-07-30T19:08:51.876124Z"
    },
    "tags": []
   },
   "outputs": [],
   "source": [
    "def SE_block(t,filters,ratio=filters):\n",
    "    se_shape = (1,1,filters)\n",
    "    se = GlobalAveragePooling2D()(t)\n",
    "    se = Reshape(se_shape)(se)\n",
    "    se = layers.Dense(filters//ratio,activation='relu', use_bias = False)(se)\n",
    "    se = layers.Dense(filters, activation='sigmoid', use_bias = False)(se)\n",
    "    x = layers.Multiply()([t,se])\n",
    "    return x\n"
   ]
  },
  {
   "cell_type": "code",
   "execution_count": 22,
   "metadata": {
    "execution": {
     "iopub.execute_input": "2023-07-30T19:08:54.703156Z",
     "iopub.status.busy": "2023-07-30T19:08:54.702748Z",
     "iopub.status.idle": "2023-07-30T19:08:54.709330Z",
     "shell.execute_reply": "2023-07-30T19:08:54.708399Z",
     "shell.execute_reply.started": "2023-07-30T19:08:54.703130Z"
    },
    "id": "kWj2-j8-P6XX",
    "tags": []
   },
   "outputs": [],
   "source": [
    "def bottleneck_block(x, expand=96, squeeze=filters):\n",
    "    m = layers.Conv2D(expand, (1,1), kernel_regularizer=regularizers.l2(0.0001), use_bias = False)(x)\n",
    "    m = layers.BatchNormalization()(m)\n",
    "    m = layers.Activation('relu')(m)\n",
    "    m = layers.DepthwiseConv2D((3,3), padding='same', kernel_regularizer=regularizers.l2(0.0001), use_bias = False)(m)\n",
    "    m = layers.BatchNormalization()(m)\n",
    "    m = layers.Activation('relu')(m)\n",
    "    m = layers.Conv2D(squeeze, (1,1), kernel_regularizer=regularizers.l2(0.0001), use_bias = False)(m)\n",
    "    m = layers.BatchNormalization()(m)\n",
    "    m = SE_block(m,filters)\n",
    "    return layers.Add()([m, x])"
   ]
  },
  {
   "cell_type": "code",
   "execution_count": 11,
   "metadata": {
    "application/vnd.databricks.v1+cell": {
     "cellMetadata": {},
     "inputWidgets": {},
     "nuid": "2ce872fe-9d22-4fa4-9ab3-4cf814795edc",
     "showTitle": false,
     "title": ""
    },
    "colab": {
     "base_uri": "https://localhost:8080/"
    },
    "execution": {
     "iopub.execute_input": "2023-07-30T14:59:09.346692Z",
     "iopub.status.busy": "2023-07-30T14:59:09.346353Z",
     "iopub.status.idle": "2023-07-30T14:59:10.440753Z",
     "shell.execute_reply": "2023-07-30T14:59:10.439975Z",
     "shell.execute_reply.started": "2023-07-30T14:59:09.346672Z"
    },
    "id": "PB7AYyIRSa1s",
    "outputId": "ecd80bd9-04b6-4679-d4f1-1cc081f22d4a",
    "tags": []
   },
   "outputs": [
    {
     "name": "stderr",
     "output_type": "stream",
     "text": [
      "2023-07-30 14:59:09.464214: I tensorflow/compiler/xla/stream_executor/cuda/cuda_gpu_executor.cc:995] successful NUMA node read from SysFS had negative value (-1), but there must be at least one NUMA node, so returning NUMA node zero. See more at https://github.com/torvalds/linux/blob/v6.0/Documentation/ABI/testing/sysfs-bus-pci#L344-L355\n",
      "2023-07-30 14:59:09.693872: W tensorflow/core/common_runtime/gpu/gpu_device.cc:1960] Cannot dlopen some GPU libraries. Please make sure the missing libraries mentioned above are installed properly if you would like to use GPU. Follow the guide at https://www.tensorflow.org/install/gpu for how to download and setup the required libraries for your platform.\n",
      "Skipping registering GPU devices...\n"
     ]
    },
    {
     "name": "stdout",
     "output_type": "stream",
     "text": [
      "Model: \"model\"\n",
      "__________________________________________________________________________________________________\n",
      " Layer (type)                Output Shape                 Param #   Connected to                  \n",
      "==================================================================================================\n",
      " board (InputLayer)          [(None, 19, 19, 31)]         0         []                            \n",
      "                                                                                                  \n",
      " conv2d (Conv2D)             (None, 19, 19, 48)           1536      ['board[0][0]']               \n",
      "                                                                                                  \n",
      " conv2d_1 (Conv2D)           (None, 19, 19, 96)           4608      ['conv2d[0][0]']              \n",
      "                                                                                                  \n",
      " batch_normalization (Batch  (None, 19, 19, 96)           384       ['conv2d_1[0][0]']            \n",
      " Normalization)                                                                                   \n",
      "                                                                                                  \n",
      " activation (Activation)     (None, 19, 19, 96)           0         ['batch_normalization[0][0]'] \n",
      "                                                                                                  \n",
      " depthwise_conv2d (Depthwis  (None, 19, 19, 96)           864       ['activation[0][0]']          \n",
      " eConv2D)                                                                                         \n",
      "                                                                                                  \n",
      " batch_normalization_1 (Bat  (None, 19, 19, 96)           384       ['depthwise_conv2d[0][0]']    \n",
      " chNormalization)                                                                                 \n",
      "                                                                                                  \n",
      " activation_1 (Activation)   (None, 19, 19, 96)           0         ['batch_normalization_1[0][0]'\n",
      "                                                                    ]                             \n",
      "                                                                                                  \n",
      " conv2d_2 (Conv2D)           (None, 19, 19, 48)           4608      ['activation_1[0][0]']        \n",
      "                                                                                                  \n",
      " batch_normalization_2 (Bat  (None, 19, 19, 48)           192       ['conv2d_2[0][0]']            \n",
      " chNormalization)                                                                                 \n",
      "                                                                                                  \n",
      " global_average_pooling2d (  (None, 48)                   0         ['batch_normalization_2[0][0]'\n",
      " GlobalAveragePooling2D)                                            ]                             \n",
      "                                                                                                  \n",
      " reshape (Reshape)           (None, 1, 1, 48)             0         ['global_average_pooling2d[0][\n",
      "                                                                    0]']                          \n",
      "                                                                                                  \n",
      " dense (Dense)               (None, 1, 1, 1)              48        ['reshape[0][0]']             \n",
      "                                                                                                  \n",
      " dense_1 (Dense)             (None, 1, 1, 48)             48        ['dense[0][0]']               \n",
      "                                                                                                  \n",
      " multiply (Multiply)         (None, 19, 19, 48)           0         ['batch_normalization_2[0][0]'\n",
      "                                                                    , 'dense_1[0][0]']            \n",
      "                                                                                                  \n",
      " add (Add)                   (None, 19, 19, 48)           0         ['multiply[0][0]',            \n",
      "                                                                     'conv2d[0][0]']              \n",
      "                                                                                                  \n",
      " conv2d_3 (Conv2D)           (None, 19, 19, 96)           4608      ['add[0][0]']                 \n",
      "                                                                                                  \n",
      " batch_normalization_3 (Bat  (None, 19, 19, 96)           384       ['conv2d_3[0][0]']            \n",
      " chNormalization)                                                                                 \n",
      "                                                                                                  \n",
      " activation_2 (Activation)   (None, 19, 19, 96)           0         ['batch_normalization_3[0][0]'\n",
      "                                                                    ]                             \n",
      "                                                                                                  \n",
      " depthwise_conv2d_1 (Depthw  (None, 19, 19, 96)           864       ['activation_2[0][0]']        \n",
      " iseConv2D)                                                                                       \n",
      "                                                                                                  \n",
      " batch_normalization_4 (Bat  (None, 19, 19, 96)           384       ['depthwise_conv2d_1[0][0]']  \n",
      " chNormalization)                                                                                 \n",
      "                                                                                                  \n",
      " activation_3 (Activation)   (None, 19, 19, 96)           0         ['batch_normalization_4[0][0]'\n",
      "                                                                    ]                             \n",
      "                                                                                                  \n",
      " conv2d_4 (Conv2D)           (None, 19, 19, 48)           4608      ['activation_3[0][0]']        \n",
      "                                                                                                  \n",
      " batch_normalization_5 (Bat  (None, 19, 19, 48)           192       ['conv2d_4[0][0]']            \n",
      " chNormalization)                                                                                 \n",
      "                                                                                                  \n",
      " global_average_pooling2d_1  (None, 48)                   0         ['batch_normalization_5[0][0]'\n",
      "  (GlobalAveragePooling2D)                                          ]                             \n",
      "                                                                                                  \n",
      " reshape_1 (Reshape)         (None, 1, 1, 48)             0         ['global_average_pooling2d_1[0\n",
      "                                                                    ][0]']                        \n",
      "                                                                                                  \n",
      " dense_2 (Dense)             (None, 1, 1, 1)              48        ['reshape_1[0][0]']           \n",
      "                                                                                                  \n",
      " dense_3 (Dense)             (None, 1, 1, 48)             48        ['dense_2[0][0]']             \n",
      "                                                                                                  \n",
      " multiply_1 (Multiply)       (None, 19, 19, 48)           0         ['batch_normalization_5[0][0]'\n",
      "                                                                    , 'dense_3[0][0]']            \n",
      "                                                                                                  \n",
      " add_1 (Add)                 (None, 19, 19, 48)           0         ['multiply_1[0][0]',          \n",
      "                                                                     'add[0][0]']                 \n",
      "                                                                                                  \n",
      " conv2d_5 (Conv2D)           (None, 19, 19, 96)           4608      ['add_1[0][0]']               \n",
      "                                                                                                  \n",
      " batch_normalization_6 (Bat  (None, 19, 19, 96)           384       ['conv2d_5[0][0]']            \n",
      " chNormalization)                                                                                 \n",
      "                                                                                                  \n",
      " activation_4 (Activation)   (None, 19, 19, 96)           0         ['batch_normalization_6[0][0]'\n",
      "                                                                    ]                             \n",
      "                                                                                                  \n",
      " depthwise_conv2d_2 (Depthw  (None, 19, 19, 96)           864       ['activation_4[0][0]']        \n",
      " iseConv2D)                                                                                       \n",
      "                                                                                                  \n",
      " batch_normalization_7 (Bat  (None, 19, 19, 96)           384       ['depthwise_conv2d_2[0][0]']  \n",
      " chNormalization)                                                                                 \n",
      "                                                                                                  \n",
      " activation_5 (Activation)   (None, 19, 19, 96)           0         ['batch_normalization_7[0][0]'\n",
      "                                                                    ]                             \n",
      "                                                                                                  \n",
      " conv2d_6 (Conv2D)           (None, 19, 19, 48)           4608      ['activation_5[0][0]']        \n",
      "                                                                                                  \n",
      " batch_normalization_8 (Bat  (None, 19, 19, 48)           192       ['conv2d_6[0][0]']            \n",
      " chNormalization)                                                                                 \n",
      "                                                                                                  \n",
      " global_average_pooling2d_2  (None, 48)                   0         ['batch_normalization_8[0][0]'\n",
      "  (GlobalAveragePooling2D)                                          ]                             \n",
      "                                                                                                  \n",
      " reshape_2 (Reshape)         (None, 1, 1, 48)             0         ['global_average_pooling2d_2[0\n",
      "                                                                    ][0]']                        \n",
      "                                                                                                  \n",
      " dense_4 (Dense)             (None, 1, 1, 1)              48        ['reshape_2[0][0]']           \n",
      "                                                                                                  \n",
      " dense_5 (Dense)             (None, 1, 1, 48)             48        ['dense_4[0][0]']             \n",
      "                                                                                                  \n",
      " multiply_2 (Multiply)       (None, 19, 19, 48)           0         ['batch_normalization_8[0][0]'\n",
      "                                                                    , 'dense_5[0][0]']            \n",
      "                                                                                                  \n",
      " add_2 (Add)                 (None, 19, 19, 48)           0         ['multiply_2[0][0]',          \n",
      "                                                                     'add_1[0][0]']               \n",
      "                                                                                                  \n",
      " conv2d_7 (Conv2D)           (None, 19, 19, 96)           4608      ['add_2[0][0]']               \n",
      "                                                                                                  \n",
      " batch_normalization_9 (Bat  (None, 19, 19, 96)           384       ['conv2d_7[0][0]']            \n",
      " chNormalization)                                                                                 \n",
      "                                                                                                  \n",
      " activation_6 (Activation)   (None, 19, 19, 96)           0         ['batch_normalization_9[0][0]'\n",
      "                                                                    ]                             \n",
      "                                                                                                  \n",
      " depthwise_conv2d_3 (Depthw  (None, 19, 19, 96)           864       ['activation_6[0][0]']        \n",
      " iseConv2D)                                                                                       \n",
      "                                                                                                  \n",
      " batch_normalization_10 (Ba  (None, 19, 19, 96)           384       ['depthwise_conv2d_3[0][0]']  \n",
      " tchNormalization)                                                                                \n",
      "                                                                                                  \n",
      " activation_7 (Activation)   (None, 19, 19, 96)           0         ['batch_normalization_10[0][0]\n",
      "                                                                    ']                            \n",
      "                                                                                                  \n",
      " conv2d_8 (Conv2D)           (None, 19, 19, 48)           4608      ['activation_7[0][0]']        \n",
      "                                                                                                  \n",
      " batch_normalization_11 (Ba  (None, 19, 19, 48)           192       ['conv2d_8[0][0]']            \n",
      " tchNormalization)                                                                                \n",
      "                                                                                                  \n",
      " global_average_pooling2d_3  (None, 48)                   0         ['batch_normalization_11[0][0]\n",
      "  (GlobalAveragePooling2D)                                          ']                            \n",
      "                                                                                                  \n",
      " reshape_3 (Reshape)         (None, 1, 1, 48)             0         ['global_average_pooling2d_3[0\n",
      "                                                                    ][0]']                        \n",
      "                                                                                                  \n",
      " dense_6 (Dense)             (None, 1, 1, 1)              48        ['reshape_3[0][0]']           \n",
      "                                                                                                  \n",
      " dense_7 (Dense)             (None, 1, 1, 48)             48        ['dense_6[0][0]']             \n",
      "                                                                                                  \n",
      " multiply_3 (Multiply)       (None, 19, 19, 48)           0         ['batch_normalization_11[0][0]\n",
      "                                                                    ',                            \n",
      "                                                                     'dense_7[0][0]']             \n",
      "                                                                                                  \n",
      " add_3 (Add)                 (None, 19, 19, 48)           0         ['multiply_3[0][0]',          \n",
      "                                                                     'add_2[0][0]']               \n",
      "                                                                                                  \n",
      " conv2d_9 (Conv2D)           (None, 19, 19, 96)           4608      ['add_3[0][0]']               \n",
      "                                                                                                  \n",
      " batch_normalization_12 (Ba  (None, 19, 19, 96)           384       ['conv2d_9[0][0]']            \n",
      " tchNormalization)                                                                                \n",
      "                                                                                                  \n",
      " activation_8 (Activation)   (None, 19, 19, 96)           0         ['batch_normalization_12[0][0]\n",
      "                                                                    ']                            \n",
      "                                                                                                  \n",
      " depthwise_conv2d_4 (Depthw  (None, 19, 19, 96)           864       ['activation_8[0][0]']        \n",
      " iseConv2D)                                                                                       \n",
      "                                                                                                  \n",
      " batch_normalization_13 (Ba  (None, 19, 19, 96)           384       ['depthwise_conv2d_4[0][0]']  \n",
      " tchNormalization)                                                                                \n",
      "                                                                                                  \n",
      " activation_9 (Activation)   (None, 19, 19, 96)           0         ['batch_normalization_13[0][0]\n",
      "                                                                    ']                            \n",
      "                                                                                                  \n",
      " conv2d_10 (Conv2D)          (None, 19, 19, 48)           4608      ['activation_9[0][0]']        \n",
      "                                                                                                  \n",
      " batch_normalization_14 (Ba  (None, 19, 19, 48)           192       ['conv2d_10[0][0]']           \n",
      " tchNormalization)                                                                                \n",
      "                                                                                                  \n",
      " global_average_pooling2d_4  (None, 48)                   0         ['batch_normalization_14[0][0]\n",
      "  (GlobalAveragePooling2D)                                          ']                            \n",
      "                                                                                                  \n",
      " reshape_4 (Reshape)         (None, 1, 1, 48)             0         ['global_average_pooling2d_4[0\n",
      "                                                                    ][0]']                        \n",
      "                                                                                                  \n",
      " dense_8 (Dense)             (None, 1, 1, 1)              48        ['reshape_4[0][0]']           \n",
      "                                                                                                  \n",
      " dense_9 (Dense)             (None, 1, 1, 48)             48        ['dense_8[0][0]']             \n",
      "                                                                                                  \n",
      " multiply_4 (Multiply)       (None, 19, 19, 48)           0         ['batch_normalization_14[0][0]\n",
      "                                                                    ',                            \n",
      "                                                                     'dense_9[0][0]']             \n",
      "                                                                                                  \n",
      " add_4 (Add)                 (None, 19, 19, 48)           0         ['multiply_4[0][0]',          \n",
      "                                                                     'add_3[0][0]']               \n",
      "                                                                                                  \n",
      " conv2d_12 (Conv2D)          (None, 19, 19, 1)            48        ['add_4[0][0]']               \n",
      "                                                                                                  \n",
      " conv2d_11 (Conv2D)          (None, 19, 19, 1)            48        ['add_4[0][0]']               \n",
      "                                                                                                  \n",
      " flatten_1 (Flatten)         (None, 361)                  0         ['conv2d_12[0][0]']           \n",
      "                                                                                                  \n",
      " flatten (Flatten)           (None, 361)                  0         ['conv2d_11[0][0]']           \n",
      "                                                                                                  \n",
      " dense_10 (Dense)            (None, 50)                   18100     ['flatten_1[0][0]']           \n",
      "                                                                                                  \n",
      " policy (Activation)         (None, 361)                  0         ['flatten[0][0]']             \n",
      "                                                                                                  \n",
      " value (Dense)               (None, 1)                    51        ['dense_10[0][0]']            \n",
      "                                                                                                  \n",
      "==================================================================================================\n",
      "Total params: 75463 (294.78 KB)\n",
      "Trainable params: 73063 (285.40 KB)\n",
      "Non-trainable params: 2400 (9.38 KB)\n",
      "__________________________________________________________________________________________________\n"
     ]
    }
   ],
   "source": [
    "\n",
    "\n",
    "input = keras.Input(shape=(19, 19, planes), name='board')\n",
    "x = layers.Conv2D(filters, 1, activation='relu', padding='same')(input)\n",
    "for i in range (5):\n",
    "    #x = layers.Conv2D(filters, 3, activation='relu', padding='same')(x)\n",
    "    x = bottleneck_block(x)\n",
    "policy_head = layers.Conv2D(1, 1, activation='relu', padding='same', use_bias = False, kernel_regularizer=regularizers.l2(0.0001))(x)\n",
    "policy_head = layers.Flatten()(policy_head)\n",
    "policy_head = layers.Activation('softmax', name='policy')(policy_head)\n",
    "\n",
    "value_head = layers.Conv2D(1, 1, activation='relu', padding='same', use_bias = False, kernel_regularizer=regularizers.l2(0.0001))(x)\n",
    "value_head = layers.Flatten()(value_head)\n",
    "value_head = layers.Dense(50, activation='relu', kernel_regularizer=regularizers.l2(0.0001))(value_head)\n",
    "value_head = layers.Dense(1, activation='sigmoid', name='value', kernel_regularizer=regularizers.l2(0.0001))(value_head)\n",
    "\n",
    "model = keras.Model(inputs=input, outputs=[policy_head, value_head])\n",
    "\n",
    "model.summary ()\n"
   ]
  },
  {
   "cell_type": "code",
   "execution_count": 12,
   "metadata": {
    "execution": {
     "iopub.execute_input": "2023-07-30T14:59:10.442715Z",
     "iopub.status.busy": "2023-07-30T14:59:10.442082Z",
     "iopub.status.idle": "2023-07-30T14:59:10.447138Z",
     "shell.execute_reply": "2023-07-30T14:59:10.446355Z",
     "shell.execute_reply.started": "2023-07-30T14:59:10.442679Z"
    },
    "tags": []
   },
   "outputs": [],
   "source": [
    "def scheduler(epoch, lr):\n",
    "    if epoch < 100 or epoch % 50 !=0:\n",
    "        return lr\n",
    "    else:\n",
    "        return lr*0.1"
   ]
  },
  {
   "cell_type": "code",
   "execution_count": 13,
   "metadata": {
    "execution": {
     "iopub.execute_input": "2023-07-30T14:59:10.448607Z",
     "iopub.status.busy": "2023-07-30T14:59:10.448291Z",
     "iopub.status.idle": "2023-07-30T18:28:02.270217Z",
     "shell.execute_reply": "2023-07-30T18:28:02.269329Z",
     "shell.execute_reply.started": "2023-07-30T14:59:10.448577Z"
    },
    "tags": []
   },
   "outputs": [
    {
     "name": "stderr",
     "output_type": "stream",
     "text": [
      "WARNING:absl:`lr` is deprecated in Keras optimizer, please use `learning_rate` or use the legacy optimizer, e.g.,tf.keras.optimizers.legacy.SGD.\n"
     ]
    },
    {
     "name": "stdout",
     "output_type": "stream",
     "text": [
      "epoch 1\n"
     ]
    },
    {
     "name": "stderr",
     "output_type": "stream",
     "text": [
      "r.shape = (20000, 19, 19, 31)\n",
      "nbExamples = 20000\n"
     ]
    },
    {
     "name": "stdout",
     "output_type": "stream",
     "text": [
      "200/200 [==============================] - 47s 218ms/step - loss: 4.6819 - policy_loss: 3.9083 - value_loss: 0.7001 - policy_categorical_accuracy: 0.1807 - value_mse: 0.1235 - lr: 0.0100\n",
      "epoch 2\n"
     ]
    },
    {
     "name": "stderr",
     "output_type": "stream",
     "text": [
      "r.shape = (20000, 19, 19, 31)\n",
      "nbExamples = 20000\n"
     ]
    },
    {
     "name": "stdout",
     "output_type": "stream",
     "text": [
      "200/200 [==============================] - 44s 221ms/step - loss: 3.9828 - policy_loss: 3.2155 - value_loss: 0.6935 - policy_categorical_accuracy: 0.2715 - value_mse: 0.1200 - lr: 0.0100\n",
      "epoch 3\n"
     ]
    },
    {
     "name": "stderr",
     "output_type": "stream",
     "text": [
      "r.shape = (20000, 19, 19, 31)\n",
      "nbExamples = 20000\n"
     ]
    },
    {
     "name": "stdout",
     "output_type": "stream",
     "text": [
      "200/200 [==============================] - 44s 221ms/step - loss: 3.8571 - policy_loss: 3.0902 - value_loss: 0.6930 - policy_categorical_accuracy: 0.2920 - value_mse: 0.1187 - lr: 0.0100\n",
      "epoch 4\n"
     ]
    },
    {
     "name": "stderr",
     "output_type": "stream",
     "text": [
      "r.shape = (20000, 19, 19, 31)\n",
      "nbExamples = 20000\n"
     ]
    },
    {
     "name": "stdout",
     "output_type": "stream",
     "text": [
      "200/200 [==============================] - 44s 221ms/step - loss: 3.7573 - policy_loss: 2.9903 - value_loss: 0.6931 - policy_categorical_accuracy: 0.3058 - value_mse: 0.1194 - lr: 0.0100\n",
      "epoch 5\n"
     ]
    },
    {
     "name": "stderr",
     "output_type": "stream",
     "text": [
      "r.shape = (20000, 19, 19, 31)\n",
      "nbExamples = 20000\n"
     ]
    },
    {
     "name": "stdout",
     "output_type": "stream",
     "text": [
      "200/200 [==============================] - 44s 222ms/step - loss: 3.6985 - policy_loss: 2.9316 - value_loss: 0.6930 - policy_categorical_accuracy: 0.3113 - value_mse: 0.1204 - lr: 0.0100\n",
      "epoch 6\n"
     ]
    },
    {
     "name": "stderr",
     "output_type": "stream",
     "text": [
      "r.shape = (20000, 19, 19, 31)\n",
      "nbExamples = 20000\n"
     ]
    },
    {
     "name": "stdout",
     "output_type": "stream",
     "text": [
      "200/200 [==============================] - 44s 220ms/step - loss: 3.6451 - policy_loss: 2.8785 - value_loss: 0.6927 - policy_categorical_accuracy: 0.3225 - value_mse: 0.1197 - lr: 0.0100\n",
      "epoch 7\n"
     ]
    },
    {
     "name": "stderr",
     "output_type": "stream",
     "text": [
      "r.shape = (20000, 19, 19, 31)\n",
      "nbExamples = 20000\n"
     ]
    },
    {
     "name": "stdout",
     "output_type": "stream",
     "text": [
      "200/200 [==============================] - 44s 220ms/step - loss: 3.6328 - policy_loss: 2.8661 - value_loss: 0.6929 - policy_categorical_accuracy: 0.3234 - value_mse: 0.1197 - lr: 0.0100\n",
      "epoch 8\n"
     ]
    },
    {
     "name": "stderr",
     "output_type": "stream",
     "text": [
      "r.shape = (20000, 19, 19, 31)\n",
      "nbExamples = 20000\n"
     ]
    },
    {
     "name": "stdout",
     "output_type": "stream",
     "text": [
      "200/200 [==============================] - 44s 220ms/step - loss: 3.6047 - policy_loss: 2.8382 - value_loss: 0.6928 - policy_categorical_accuracy: 0.3271 - value_mse: 0.1186 - lr: 0.0100\n",
      "epoch 9\n"
     ]
    },
    {
     "name": "stderr",
     "output_type": "stream",
     "text": [
      "r.shape = (20000, 19, 19, 31)\n",
      "nbExamples = 20000\n"
     ]
    },
    {
     "name": "stdout",
     "output_type": "stream",
     "text": [
      "200/200 [==============================] - 44s 218ms/step - loss: 3.5796 - policy_loss: 2.8129 - value_loss: 0.6931 - policy_categorical_accuracy: 0.3307 - value_mse: 0.1190 - lr: 0.0100\n",
      "epoch 10\n"
     ]
    },
    {
     "name": "stderr",
     "output_type": "stream",
     "text": [
      "r.shape = (20000, 19, 19, 31)\n",
      "nbExamples = 20000\n"
     ]
    },
    {
     "name": "stdout",
     "output_type": "stream",
     "text": [
      "200/200 [==============================] - 44s 220ms/step - loss: 3.5274 - policy_loss: 2.7611 - value_loss: 0.6927 - policy_categorical_accuracy: 0.3410 - value_mse: 0.1197 - lr: 0.0100\n",
      "epoch 11\n"
     ]
    },
    {
     "name": "stderr",
     "output_type": "stream",
     "text": [
      "r.shape = (20000, 19, 19, 31)\n",
      "nbExamples = 20000\n"
     ]
    },
    {
     "name": "stdout",
     "output_type": "stream",
     "text": [
      "200/200 [==============================] - 44s 220ms/step - loss: 3.5325 - policy_loss: 2.7661 - value_loss: 0.6930 - policy_categorical_accuracy: 0.3372 - value_mse: 0.1206 - lr: 0.0100\n",
      "epoch 12\n"
     ]
    },
    {
     "name": "stderr",
     "output_type": "stream",
     "text": [
      "r.shape = (20000, 19, 19, 31)\n",
      "nbExamples = 20000\n"
     ]
    },
    {
     "name": "stdout",
     "output_type": "stream",
     "text": [
      "200/200 [==============================] - 44s 220ms/step - loss: 3.5414 - policy_loss: 2.7751 - value_loss: 0.6930 - policy_categorical_accuracy: 0.3422 - value_mse: 0.1199 - lr: 0.0100\n",
      "epoch 13\n"
     ]
    },
    {
     "name": "stderr",
     "output_type": "stream",
     "text": [
      "r.shape = (20000, 19, 19, 31)\n",
      "nbExamples = 20000\n"
     ]
    },
    {
     "name": "stdout",
     "output_type": "stream",
     "text": [
      "200/200 [==============================] - 44s 219ms/step - loss: 3.5189 - policy_loss: 2.7525 - value_loss: 0.6931 - policy_categorical_accuracy: 0.3410 - value_mse: 0.1196 - lr: 0.0100\n",
      "epoch 14\n"
     ]
    },
    {
     "name": "stderr",
     "output_type": "stream",
     "text": [
      "r.shape = (20000, 19, 19, 31)\n",
      "nbExamples = 20000\n"
     ]
    },
    {
     "name": "stdout",
     "output_type": "stream",
     "text": [
      "200/200 [==============================] - 45s 225ms/step - loss: 3.4860 - policy_loss: 2.7197 - value_loss: 0.6932 - policy_categorical_accuracy: 0.3500 - value_mse: 0.1191 - lr: 0.0100\n",
      "epoch 15\n"
     ]
    },
    {
     "name": "stderr",
     "output_type": "stream",
     "text": [
      "r.shape = (20000, 19, 19, 31)\n",
      "nbExamples = 20000\n"
     ]
    },
    {
     "name": "stdout",
     "output_type": "stream",
     "text": [
      "200/200 [==============================] - 45s 224ms/step - loss: 3.4627 - policy_loss: 2.6966 - value_loss: 0.6930 - policy_categorical_accuracy: 0.3456 - value_mse: 0.1192 - lr: 0.0100\n",
      "epoch 16\n"
     ]
    },
    {
     "name": "stderr",
     "output_type": "stream",
     "text": [
      "r.shape = (20000, 19, 19, 31)\n",
      "nbExamples = 20000\n"
     ]
    },
    {
     "name": "stdout",
     "output_type": "stream",
     "text": [
      "200/200 [==============================] - 44s 222ms/step - loss: 3.4751 - policy_loss: 2.7093 - value_loss: 0.6929 - policy_categorical_accuracy: 0.3524 - value_mse: 0.1190 - lr: 0.0100\n",
      "epoch 17\n"
     ]
    },
    {
     "name": "stderr",
     "output_type": "stream",
     "text": [
      "r.shape = (20000, 19, 19, 31)\n",
      "nbExamples = 20000\n"
     ]
    },
    {
     "name": "stdout",
     "output_type": "stream",
     "text": [
      "200/200 [==============================] - 45s 223ms/step - loss: 3.4533 - policy_loss: 2.6880 - value_loss: 0.6926 - policy_categorical_accuracy: 0.3542 - value_mse: 0.1189 - lr: 0.0100\n",
      "epoch 18\n"
     ]
    },
    {
     "name": "stderr",
     "output_type": "stream",
     "text": [
      "r.shape = (20000, 19, 19, 31)\n",
      "nbExamples = 20000\n"
     ]
    },
    {
     "name": "stdout",
     "output_type": "stream",
     "text": [
      "200/200 [==============================] - 45s 223ms/step - loss: 3.4492 - policy_loss: 2.6836 - value_loss: 0.6929 - policy_categorical_accuracy: 0.3561 - value_mse: 0.1208 - lr: 0.0100\n",
      "epoch 19\n"
     ]
    },
    {
     "name": "stderr",
     "output_type": "stream",
     "text": [
      "r.shape = (20000, 19, 19, 31)\n",
      "nbExamples = 20000\n"
     ]
    },
    {
     "name": "stdout",
     "output_type": "stream",
     "text": [
      "200/200 [==============================] - 45s 223ms/step - loss: 3.4813 - policy_loss: 2.7159 - value_loss: 0.6929 - policy_categorical_accuracy: 0.3462 - value_mse: 0.1200 - lr: 0.0100\n",
      "epoch 20\n"
     ]
    },
    {
     "name": "stderr",
     "output_type": "stream",
     "text": [
      "r.shape = (20000, 19, 19, 31)\n",
      "nbExamples = 20000\n"
     ]
    },
    {
     "name": "stdout",
     "output_type": "stream",
     "text": [
      "200/200 [==============================] - 44s 221ms/step - loss: 3.4453 - policy_loss: 2.6799 - value_loss: 0.6929 - policy_categorical_accuracy: 0.3541 - value_mse: 0.1185 - lr: 0.0100\n"
     ]
    },
    {
     "name": "stderr",
     "output_type": "stream",
     "text": [
      "r.shape = (20000, 19, 19, 31)\n",
      "nbExamples = 20000\n"
     ]
    },
    {
     "name": "stdout",
     "output_type": "stream",
     "text": [
      "val = [3.430845260620117, 2.6654880046844482, 0.6929406523704529, 0.35225000977516174, 0.11965394020080566]\n",
      "epoch 21\n"
     ]
    },
    {
     "name": "stderr",
     "output_type": "stream",
     "text": [
      "/opt/saturncloud/envs/saturn/lib/python3.9/site-packages/keras/src/engine/training.py:3000: UserWarning: You are saving your model as an HDF5 file via `model.save()`. This file format is considered legacy. We recommend using instead the native Keras format, e.g. `model.save('my_model.keras')`.\n",
      "  saving_api.save_model(\n",
      "r.shape = (20000, 19, 19, 31)\n",
      "nbExamples = 20000\n"
     ]
    },
    {
     "name": "stdout",
     "output_type": "stream",
     "text": [
      "200/200 [==============================] - 44s 221ms/step - loss: 3.4240 - policy_loss: 2.6587 - value_loss: 0.6929 - policy_categorical_accuracy: 0.3514 - value_mse: 0.1206 - lr: 0.0100\n",
      "epoch 22\n"
     ]
    },
    {
     "name": "stderr",
     "output_type": "stream",
     "text": [
      "r.shape = (20000, 19, 19, 31)\n",
      "nbExamples = 20000\n"
     ]
    },
    {
     "name": "stdout",
     "output_type": "stream",
     "text": [
      "200/200 [==============================] - 45s 223ms/step - loss: 3.4198 - policy_loss: 2.6547 - value_loss: 0.6928 - policy_categorical_accuracy: 0.3513 - value_mse: 0.1198 - lr: 0.0100\n",
      "epoch 23\n"
     ]
    },
    {
     "name": "stderr",
     "output_type": "stream",
     "text": [
      "r.shape = (20000, 19, 19, 31)\n",
      "nbExamples = 20000\n"
     ]
    },
    {
     "name": "stdout",
     "output_type": "stream",
     "text": [
      "200/200 [==============================] - 45s 223ms/step - loss: 3.4123 - policy_loss: 2.6473 - value_loss: 0.6928 - policy_categorical_accuracy: 0.3575 - value_mse: 0.1202 - lr: 0.0100\n",
      "epoch 24\n"
     ]
    },
    {
     "name": "stderr",
     "output_type": "stream",
     "text": [
      "r.shape = (20000, 19, 19, 31)\n",
      "nbExamples = 20000\n"
     ]
    },
    {
     "name": "stdout",
     "output_type": "stream",
     "text": [
      "200/200 [==============================] - 44s 222ms/step - loss: 3.4244 - policy_loss: 2.6593 - value_loss: 0.6931 - policy_categorical_accuracy: 0.3514 - value_mse: 0.1202 - lr: 0.0100\n",
      "epoch 25\n"
     ]
    },
    {
     "name": "stderr",
     "output_type": "stream",
     "text": [
      "r.shape = (20000, 19, 19, 31)\n",
      "nbExamples = 20000\n"
     ]
    },
    {
     "name": "stdout",
     "output_type": "stream",
     "text": [
      "200/200 [==============================] - 44s 221ms/step - loss: 3.3947 - policy_loss: 2.6298 - value_loss: 0.6930 - policy_categorical_accuracy: 0.3584 - value_mse: 0.1203 - lr: 0.0100\n",
      "epoch 26\n"
     ]
    },
    {
     "name": "stderr",
     "output_type": "stream",
     "text": [
      "r.shape = (20000, 19, 19, 31)\n",
      "nbExamples = 20000\n"
     ]
    },
    {
     "name": "stdout",
     "output_type": "stream",
     "text": [
      "200/200 [==============================] - 44s 221ms/step - loss: 3.4150 - policy_loss: 2.6501 - value_loss: 0.6931 - policy_categorical_accuracy: 0.3568 - value_mse: 0.1191 - lr: 0.0100\n",
      "epoch 27\n"
     ]
    },
    {
     "name": "stderr",
     "output_type": "stream",
     "text": [
      "r.shape = (20000, 19, 19, 31)\n",
      "nbExamples = 20000\n"
     ]
    },
    {
     "name": "stdout",
     "output_type": "stream",
     "text": [
      "200/200 [==============================] - 44s 222ms/step - loss: 3.4132 - policy_loss: 2.6486 - value_loss: 0.6930 - policy_categorical_accuracy: 0.3557 - value_mse: 0.1192 - lr: 0.0100\n",
      "epoch 28\n"
     ]
    },
    {
     "name": "stderr",
     "output_type": "stream",
     "text": [
      "r.shape = (20000, 19, 19, 31)\n",
      "nbExamples = 20000\n"
     ]
    },
    {
     "name": "stdout",
     "output_type": "stream",
     "text": [
      "200/200 [==============================] - 44s 221ms/step - loss: 3.3764 - policy_loss: 2.6120 - value_loss: 0.6927 - policy_categorical_accuracy: 0.3620 - value_mse: 0.1207 - lr: 0.0100\n",
      "epoch 29\n"
     ]
    },
    {
     "name": "stderr",
     "output_type": "stream",
     "text": [
      "r.shape = (20000, 19, 19, 31)\n",
      "nbExamples = 20000\n"
     ]
    },
    {
     "name": "stdout",
     "output_type": "stream",
     "text": [
      "200/200 [==============================] - 45s 227ms/step - loss: 3.3796 - policy_loss: 2.6152 - value_loss: 0.6929 - policy_categorical_accuracy: 0.3623 - value_mse: 0.1198 - lr: 0.0100\n",
      "epoch 30\n"
     ]
    },
    {
     "name": "stderr",
     "output_type": "stream",
     "text": [
      "r.shape = (20000, 19, 19, 31)\n",
      "nbExamples = 20000\n"
     ]
    },
    {
     "name": "stdout",
     "output_type": "stream",
     "text": [
      "200/200 [==============================] - 45s 223ms/step - loss: 3.3864 - policy_loss: 2.6222 - value_loss: 0.6929 - policy_categorical_accuracy: 0.3573 - value_mse: 0.1193 - lr: 0.0100\n",
      "epoch 31\n"
     ]
    },
    {
     "name": "stderr",
     "output_type": "stream",
     "text": [
      "r.shape = (20000, 19, 19, 31)\n",
      "nbExamples = 20000\n"
     ]
    },
    {
     "name": "stdout",
     "output_type": "stream",
     "text": [
      "200/200 [==============================] - 45s 223ms/step - loss: 3.3813 - policy_loss: 2.6171 - value_loss: 0.6929 - policy_categorical_accuracy: 0.3584 - value_mse: 0.1194 - lr: 0.0100\n",
      "epoch 32\n"
     ]
    },
    {
     "name": "stderr",
     "output_type": "stream",
     "text": [
      "r.shape = (20000, 19, 19, 31)\n",
      "nbExamples = 20000\n"
     ]
    },
    {
     "name": "stdout",
     "output_type": "stream",
     "text": [
      "200/200 [==============================] - 45s 223ms/step - loss: 3.3852 - policy_loss: 2.6211 - value_loss: 0.6929 - policy_categorical_accuracy: 0.3595 - value_mse: 0.1209 - lr: 0.0100\n",
      "epoch 33\n"
     ]
    },
    {
     "name": "stderr",
     "output_type": "stream",
     "text": [
      "r.shape = (20000, 19, 19, 31)\n",
      "nbExamples = 20000\n"
     ]
    },
    {
     "name": "stdout",
     "output_type": "stream",
     "text": [
      "200/200 [==============================] - 45s 224ms/step - loss: 3.3576 - policy_loss: 2.5937 - value_loss: 0.6928 - policy_categorical_accuracy: 0.3656 - value_mse: 0.1188 - lr: 0.0100\n",
      "epoch 34\n"
     ]
    },
    {
     "name": "stderr",
     "output_type": "stream",
     "text": [
      "r.shape = (20000, 19, 19, 31)\n",
      "nbExamples = 20000\n"
     ]
    },
    {
     "name": "stdout",
     "output_type": "stream",
     "text": [
      "200/200 [==============================] - 45s 223ms/step - loss: 3.3531 - policy_loss: 2.5893 - value_loss: 0.6927 - policy_categorical_accuracy: 0.3607 - value_mse: 0.1211 - lr: 0.0100\n",
      "epoch 35\n"
     ]
    },
    {
     "name": "stderr",
     "output_type": "stream",
     "text": [
      "r.shape = (20000, 19, 19, 31)\n",
      "nbExamples = 20000\n"
     ]
    },
    {
     "name": "stdout",
     "output_type": "stream",
     "text": [
      "200/200 [==============================] - 45s 225ms/step - loss: 3.3777 - policy_loss: 2.6142 - value_loss: 0.6926 - policy_categorical_accuracy: 0.3606 - value_mse: 0.1197 - lr: 0.0100\n",
      "epoch 36\n"
     ]
    },
    {
     "name": "stderr",
     "output_type": "stream",
     "text": [
      "r.shape = (20000, 19, 19, 31)\n",
      "nbExamples = 20000\n"
     ]
    },
    {
     "name": "stdout",
     "output_type": "stream",
     "text": [
      "200/200 [==============================] - 45s 223ms/step - loss: 3.3617 - policy_loss: 2.5984 - value_loss: 0.6925 - policy_categorical_accuracy: 0.3634 - value_mse: 0.1193 - lr: 0.0100\n",
      "epoch 37\n"
     ]
    },
    {
     "name": "stderr",
     "output_type": "stream",
     "text": [
      "r.shape = (20000, 19, 19, 31)\n",
      "nbExamples = 20000\n"
     ]
    },
    {
     "name": "stdout",
     "output_type": "stream",
     "text": [
      "200/200 [==============================] - 44s 222ms/step - loss: 3.3351 - policy_loss: 2.5722 - value_loss: 0.6922 - policy_categorical_accuracy: 0.3656 - value_mse: 0.1187 - lr: 0.0100\n",
      "epoch 38\n"
     ]
    },
    {
     "name": "stderr",
     "output_type": "stream",
     "text": [
      "r.shape = (20000, 19, 19, 31)\n",
      "nbExamples = 20000\n"
     ]
    },
    {
     "name": "stdout",
     "output_type": "stream",
     "text": [
      "200/200 [==============================] - 45s 223ms/step - loss: 3.3506 - policy_loss: 2.5880 - value_loss: 0.6920 - policy_categorical_accuracy: 0.3658 - value_mse: 0.1177 - lr: 0.0100\n",
      "epoch 39\n"
     ]
    },
    {
     "name": "stderr",
     "output_type": "stream",
     "text": [
      "r.shape = (20000, 19, 19, 31)\n",
      "nbExamples = 20000\n"
     ]
    },
    {
     "name": "stdout",
     "output_type": "stream",
     "text": [
      "200/200 [==============================] - 44s 222ms/step - loss: 3.3399 - policy_loss: 2.5781 - value_loss: 0.6913 - policy_categorical_accuracy: 0.3645 - value_mse: 0.1191 - lr: 0.0100\n",
      "epoch 40\n"
     ]
    },
    {
     "name": "stderr",
     "output_type": "stream",
     "text": [
      "r.shape = (20000, 19, 19, 31)\n",
      "nbExamples = 20000\n"
     ]
    },
    {
     "name": "stdout",
     "output_type": "stream",
     "text": [
      "200/200 [==============================] - 45s 223ms/step - loss: 3.3299 - policy_loss: 2.5686 - value_loss: 0.6908 - policy_categorical_accuracy: 0.3670 - value_mse: 0.1178 - lr: 0.0100\n"
     ]
    },
    {
     "name": "stderr",
     "output_type": "stream",
     "text": [
      "r.shape = (20000, 19, 19, 31)\n",
      "nbExamples = 20000\n"
     ]
    },
    {
     "name": "stdout",
     "output_type": "stream",
     "text": [
      "val = [3.364349126815796, 2.6039066314697266, 0.6900443434715271, 0.36125001311302185, 0.11820860952138901]\n",
      "epoch 41\n"
     ]
    },
    {
     "name": "stderr",
     "output_type": "stream",
     "text": [
      "r.shape = (20000, 19, 19, 31)\n",
      "nbExamples = 20000\n"
     ]
    },
    {
     "name": "stdout",
     "output_type": "stream",
     "text": [
      "200/200 [==============================] - 44s 222ms/step - loss: 3.3453 - policy_loss: 2.5852 - value_loss: 0.6898 - policy_categorical_accuracy: 0.3620 - value_mse: 0.1173 - lr: 0.0100\n",
      "epoch 42\n"
     ]
    },
    {
     "name": "stderr",
     "output_type": "stream",
     "text": [
      "r.shape = (20000, 19, 19, 31)\n",
      "nbExamples = 20000\n"
     ]
    },
    {
     "name": "stdout",
     "output_type": "stream",
     "text": [
      "200/200 [==============================] - 45s 223ms/step - loss: 3.3270 - policy_loss: 2.5670 - value_loss: 0.6898 - policy_categorical_accuracy: 0.3686 - value_mse: 0.1172 - lr: 0.0100\n",
      "epoch 43\n"
     ]
    },
    {
     "name": "stderr",
     "output_type": "stream",
     "text": [
      "r.shape = (20000, 19, 19, 31)\n",
      "nbExamples = 20000\n"
     ]
    },
    {
     "name": "stdout",
     "output_type": "stream",
     "text": [
      "200/200 [==============================] - 44s 222ms/step - loss: 3.3234 - policy_loss: 2.5643 - value_loss: 0.6889 - policy_categorical_accuracy: 0.3681 - value_mse: 0.1172 - lr: 0.0100\n",
      "epoch 44\n"
     ]
    },
    {
     "name": "stderr",
     "output_type": "stream",
     "text": [
      "r.shape = (20000, 19, 19, 31)\n",
      "nbExamples = 20000\n"
     ]
    },
    {
     "name": "stdout",
     "output_type": "stream",
     "text": [
      "200/200 [==============================] - 44s 220ms/step - loss: 3.3074 - policy_loss: 2.5494 - value_loss: 0.6880 - policy_categorical_accuracy: 0.3666 - value_mse: 0.1177 - lr: 0.0100\n",
      "epoch 45\n"
     ]
    },
    {
     "name": "stderr",
     "output_type": "stream",
     "text": [
      "r.shape = (20000, 19, 19, 31)\n",
      "nbExamples = 20000\n"
     ]
    },
    {
     "name": "stdout",
     "output_type": "stream",
     "text": [
      "200/200 [==============================] - 44s 222ms/step - loss: 3.3151 - policy_loss: 2.5573 - value_loss: 0.6879 - policy_categorical_accuracy: 0.3692 - value_mse: 0.1181 - lr: 0.0100\n",
      "epoch 46\n"
     ]
    },
    {
     "name": "stderr",
     "output_type": "stream",
     "text": [
      "r.shape = (20000, 19, 19, 31)\n",
      "nbExamples = 20000\n"
     ]
    },
    {
     "name": "stdout",
     "output_type": "stream",
     "text": [
      "200/200 [==============================] - 44s 221ms/step - loss: 3.3270 - policy_loss: 2.5686 - value_loss: 0.6885 - policy_categorical_accuracy: 0.3659 - value_mse: 0.1174 - lr: 0.0100\n",
      "epoch 47\n"
     ]
    },
    {
     "name": "stderr",
     "output_type": "stream",
     "text": [
      "r.shape = (20000, 19, 19, 31)\n",
      "nbExamples = 20000\n"
     ]
    },
    {
     "name": "stdout",
     "output_type": "stream",
     "text": [
      "200/200 [==============================] - 44s 221ms/step - loss: 3.3126 - policy_loss: 2.5554 - value_loss: 0.6874 - policy_categorical_accuracy: 0.3636 - value_mse: 0.1173 - lr: 0.0100\n",
      "epoch 48\n"
     ]
    },
    {
     "name": "stderr",
     "output_type": "stream",
     "text": [
      "r.shape = (20000, 19, 19, 31)\n",
      "nbExamples = 20000\n"
     ]
    },
    {
     "name": "stdout",
     "output_type": "stream",
     "text": [
      "200/200 [==============================] - 44s 221ms/step - loss: 3.3022 - policy_loss: 2.5446 - value_loss: 0.6879 - policy_categorical_accuracy: 0.3688 - value_mse: 0.1176 - lr: 0.0100\n",
      "epoch 49\n"
     ]
    },
    {
     "name": "stderr",
     "output_type": "stream",
     "text": [
      "r.shape = (20000, 19, 19, 31)\n",
      "nbExamples = 20000\n"
     ]
    },
    {
     "name": "stdout",
     "output_type": "stream",
     "text": [
      "200/200 [==============================] - 44s 221ms/step - loss: 3.3070 - policy_loss: 2.5490 - value_loss: 0.6883 - policy_categorical_accuracy: 0.3708 - value_mse: 0.1179 - lr: 0.0100\n",
      "epoch 50\n"
     ]
    },
    {
     "name": "stderr",
     "output_type": "stream",
     "text": [
      "r.shape = (20000, 19, 19, 31)\n",
      "nbExamples = 20000\n"
     ]
    },
    {
     "name": "stdout",
     "output_type": "stream",
     "text": [
      "200/200 [==============================] - 44s 218ms/step - loss: 3.3119 - policy_loss: 2.5545 - value_loss: 0.6878 - policy_categorical_accuracy: 0.3668 - value_mse: 0.1173 - lr: 0.0100\n",
      "epoch 51\n"
     ]
    },
    {
     "name": "stderr",
     "output_type": "stream",
     "text": [
      "r.shape = (20000, 19, 19, 31)\n",
      "nbExamples = 20000\n"
     ]
    },
    {
     "name": "stdout",
     "output_type": "stream",
     "text": [
      "200/200 [==============================] - 44s 218ms/step - loss: 3.2889 - policy_loss: 2.5310 - value_loss: 0.6884 - policy_categorical_accuracy: 0.3734 - value_mse: 0.1173 - lr: 0.0100\n",
      "epoch 52\n"
     ]
    },
    {
     "name": "stderr",
     "output_type": "stream",
     "text": [
      "r.shape = (20000, 19, 19, 31)\n",
      "nbExamples = 20000\n"
     ]
    },
    {
     "name": "stdout",
     "output_type": "stream",
     "text": [
      "200/200 [==============================] - 44s 220ms/step - loss: 3.2924 - policy_loss: 2.5348 - value_loss: 0.6882 - policy_categorical_accuracy: 0.3664 - value_mse: 0.1164 - lr: 0.0100\n",
      "epoch 53\n"
     ]
    },
    {
     "name": "stderr",
     "output_type": "stream",
     "text": [
      "r.shape = (20000, 19, 19, 31)\n",
      "nbExamples = 20000\n"
     ]
    },
    {
     "name": "stdout",
     "output_type": "stream",
     "text": [
      "200/200 [==============================] - 44s 220ms/step - loss: 3.2891 - policy_loss: 2.5329 - value_loss: 0.6869 - policy_categorical_accuracy: 0.3683 - value_mse: 0.1171 - lr: 0.0100\n",
      "epoch 54\n"
     ]
    },
    {
     "name": "stderr",
     "output_type": "stream",
     "text": [
      "r.shape = (20000, 19, 19, 31)\n",
      "nbExamples = 20000\n"
     ]
    },
    {
     "name": "stdout",
     "output_type": "stream",
     "text": [
      "200/200 [==============================] - 44s 220ms/step - loss: 3.2813 - policy_loss: 2.5241 - value_loss: 0.6880 - policy_categorical_accuracy: 0.3745 - value_mse: 0.1180 - lr: 0.0100\n",
      "epoch 55\n"
     ]
    },
    {
     "name": "stderr",
     "output_type": "stream",
     "text": [
      "r.shape = (20000, 19, 19, 31)\n",
      "nbExamples = 20000\n"
     ]
    },
    {
     "name": "stdout",
     "output_type": "stream",
     "text": [
      "200/200 [==============================] - 44s 219ms/step - loss: 3.2778 - policy_loss: 2.5202 - value_loss: 0.6884 - policy_categorical_accuracy: 0.3735 - value_mse: 0.1159 - lr: 0.0100\n",
      "epoch 56\n"
     ]
    },
    {
     "name": "stderr",
     "output_type": "stream",
     "text": [
      "r.shape = (20000, 19, 19, 31)\n",
      "nbExamples = 20000\n"
     ]
    },
    {
     "name": "stdout",
     "output_type": "stream",
     "text": [
      "200/200 [==============================] - 44s 220ms/step - loss: 3.2785 - policy_loss: 2.5212 - value_loss: 0.6883 - policy_categorical_accuracy: 0.3692 - value_mse: 0.1173 - lr: 0.0100\n",
      "epoch 57\n"
     ]
    },
    {
     "name": "stderr",
     "output_type": "stream",
     "text": [
      "r.shape = (20000, 19, 19, 31)\n",
      "nbExamples = 20000\n"
     ]
    },
    {
     "name": "stdout",
     "output_type": "stream",
     "text": [
      "200/200 [==============================] - 44s 222ms/step - loss: 3.2763 - policy_loss: 2.5191 - value_loss: 0.6882 - policy_categorical_accuracy: 0.3753 - value_mse: 0.1169 - lr: 0.0100\n",
      "epoch 58\n"
     ]
    },
    {
     "name": "stderr",
     "output_type": "stream",
     "text": [
      "r.shape = (20000, 19, 19, 31)\n",
      "nbExamples = 20000\n"
     ]
    },
    {
     "name": "stdout",
     "output_type": "stream",
     "text": [
      "200/200 [==============================] - 45s 223ms/step - loss: 3.2555 - policy_loss: 2.4994 - value_loss: 0.6872 - policy_categorical_accuracy: 0.3783 - value_mse: 0.1180 - lr: 0.0100\n",
      "epoch 59\n"
     ]
    },
    {
     "name": "stderr",
     "output_type": "stream",
     "text": [
      "r.shape = (20000, 19, 19, 31)\n",
      "nbExamples = 20000\n"
     ]
    },
    {
     "name": "stdout",
     "output_type": "stream",
     "text": [
      "200/200 [==============================] - 45s 223ms/step - loss: 3.2629 - policy_loss: 2.5060 - value_loss: 0.6881 - policy_categorical_accuracy: 0.3740 - value_mse: 0.1153 - lr: 0.0100\n",
      "epoch 60\n"
     ]
    },
    {
     "name": "stderr",
     "output_type": "stream",
     "text": [
      "r.shape = (20000, 19, 19, 31)\n",
      "nbExamples = 20000\n"
     ]
    },
    {
     "name": "stdout",
     "output_type": "stream",
     "text": [
      "200/200 [==============================] - 45s 223ms/step - loss: 3.2759 - policy_loss: 2.5196 - value_loss: 0.6876 - policy_categorical_accuracy: 0.3758 - value_mse: 0.1162 - lr: 0.0100\n"
     ]
    },
    {
     "name": "stderr",
     "output_type": "stream",
     "text": [
      "r.shape = (20000, 19, 19, 31)\n",
      "nbExamples = 20000\n"
     ]
    },
    {
     "name": "stdout",
     "output_type": "stream",
     "text": [
      "val = [3.2781741619110107, 2.5225603580474854, 0.6868959665298462, 0.3735499978065491, 0.11664533615112305]\n",
      "epoch 61\n"
     ]
    },
    {
     "name": "stderr",
     "output_type": "stream",
     "text": [
      "r.shape = (20000, 19, 19, 31)\n",
      "nbExamples = 20000\n"
     ]
    },
    {
     "name": "stdout",
     "output_type": "stream",
     "text": [
      "200/200 [==============================] - 44s 220ms/step - loss: 3.2652 - policy_loss: 2.5095 - value_loss: 0.6870 - policy_categorical_accuracy: 0.3708 - value_mse: 0.1163 - lr: 0.0100\n",
      "epoch 62\n"
     ]
    },
    {
     "name": "stderr",
     "output_type": "stream",
     "text": [
      "r.shape = (20000, 19, 19, 31)\n",
      "nbExamples = 20000\n"
     ]
    },
    {
     "name": "stdout",
     "output_type": "stream",
     "text": [
      "200/200 [==============================] - 45s 223ms/step - loss: 3.2626 - policy_loss: 2.5069 - value_loss: 0.6871 - policy_categorical_accuracy: 0.3770 - value_mse: 0.1173 - lr: 0.0100\n",
      "epoch 63\n"
     ]
    },
    {
     "name": "stderr",
     "output_type": "stream",
     "text": [
      "r.shape = (20000, 19, 19, 31)\n",
      "nbExamples = 20000\n"
     ]
    },
    {
     "name": "stdout",
     "output_type": "stream",
     "text": [
      "200/200 [==============================] - 45s 223ms/step - loss: 3.2499 - policy_loss: 2.4934 - value_loss: 0.6880 - policy_categorical_accuracy: 0.3799 - value_mse: 0.1163 - lr: 0.0100\n",
      "epoch 64\n"
     ]
    },
    {
     "name": "stderr",
     "output_type": "stream",
     "text": [
      "r.shape = (20000, 19, 19, 31)\n",
      "nbExamples = 20000\n"
     ]
    },
    {
     "name": "stdout",
     "output_type": "stream",
     "text": [
      "200/200 [==============================] - 44s 221ms/step - loss: 3.2489 - policy_loss: 2.4930 - value_loss: 0.6874 - policy_categorical_accuracy: 0.3767 - value_mse: 0.1169 - lr: 0.0100\n",
      "epoch 65\n"
     ]
    },
    {
     "name": "stderr",
     "output_type": "stream",
     "text": [
      "r.shape = (20000, 19, 19, 31)\n",
      "nbExamples = 20000\n"
     ]
    },
    {
     "name": "stdout",
     "output_type": "stream",
     "text": [
      "200/200 [==============================] - 44s 220ms/step - loss: 3.2323 - policy_loss: 2.4774 - value_loss: 0.6865 - policy_categorical_accuracy: 0.3785 - value_mse: 0.1172 - lr: 0.0100\n",
      "epoch 66\n"
     ]
    },
    {
     "name": "stderr",
     "output_type": "stream",
     "text": [
      "r.shape = (20000, 19, 19, 31)\n",
      "nbExamples = 20000\n"
     ]
    },
    {
     "name": "stdout",
     "output_type": "stream",
     "text": [
      "200/200 [==============================] - 44s 219ms/step - loss: 3.2482 - policy_loss: 2.4923 - value_loss: 0.6876 - policy_categorical_accuracy: 0.3799 - value_mse: 0.1173 - lr: 0.0100\n",
      "epoch 67\n"
     ]
    },
    {
     "name": "stderr",
     "output_type": "stream",
     "text": [
      "r.shape = (20000, 19, 19, 31)\n",
      "nbExamples = 20000\n"
     ]
    },
    {
     "name": "stdout",
     "output_type": "stream",
     "text": [
      "200/200 [==============================] - 44s 222ms/step - loss: 3.2452 - policy_loss: 2.4896 - value_loss: 0.6874 - policy_categorical_accuracy: 0.3717 - value_mse: 0.1155 - lr: 0.0100\n",
      "epoch 68\n"
     ]
    },
    {
     "name": "stderr",
     "output_type": "stream",
     "text": [
      "r.shape = (20000, 19, 19, 31)\n",
      "nbExamples = 20000\n"
     ]
    },
    {
     "name": "stdout",
     "output_type": "stream",
     "text": [
      "200/200 [==============================] - 45s 224ms/step - loss: 3.2286 - policy_loss: 2.4729 - value_loss: 0.6875 - policy_categorical_accuracy: 0.3806 - value_mse: 0.1159 - lr: 0.0100\n",
      "epoch 69\n"
     ]
    },
    {
     "name": "stderr",
     "output_type": "stream",
     "text": [
      "r.shape = (20000, 19, 19, 31)\n",
      "nbExamples = 20000\n"
     ]
    },
    {
     "name": "stdout",
     "output_type": "stream",
     "text": [
      "200/200 [==============================] - 44s 222ms/step - loss: 3.2479 - policy_loss: 2.4935 - value_loss: 0.6863 - policy_categorical_accuracy: 0.3771 - value_mse: 0.1153 - lr: 0.0100\n",
      "epoch 70\n"
     ]
    },
    {
     "name": "stderr",
     "output_type": "stream",
     "text": [
      "r.shape = (20000, 19, 19, 31)\n",
      "nbExamples = 20000\n"
     ]
    },
    {
     "name": "stdout",
     "output_type": "stream",
     "text": [
      "200/200 [==============================] - 45s 224ms/step - loss: 3.2359 - policy_loss: 2.4806 - value_loss: 0.6873 - policy_categorical_accuracy: 0.3783 - value_mse: 0.1174 - lr: 0.0100\n",
      "epoch 71\n"
     ]
    },
    {
     "name": "stderr",
     "output_type": "stream",
     "text": [
      "r.shape = (20000, 19, 19, 31)\n",
      "nbExamples = 20000\n"
     ]
    },
    {
     "name": "stdout",
     "output_type": "stream",
     "text": [
      "200/200 [==============================] - 45s 223ms/step - loss: 3.2408 - policy_loss: 2.4846 - value_loss: 0.6883 - policy_categorical_accuracy: 0.3753 - value_mse: 0.1175 - lr: 0.0100\n",
      "epoch 72\n"
     ]
    },
    {
     "name": "stderr",
     "output_type": "stream",
     "text": [
      "r.shape = (20000, 19, 19, 31)\n",
      "nbExamples = 20000\n"
     ]
    },
    {
     "name": "stdout",
     "output_type": "stream",
     "text": [
      "200/200 [==============================] - 45s 223ms/step - loss: 3.2312 - policy_loss: 2.4759 - value_loss: 0.6874 - policy_categorical_accuracy: 0.3814 - value_mse: 0.1170 - lr: 0.0100\n",
      "epoch 73\n"
     ]
    },
    {
     "name": "stderr",
     "output_type": "stream",
     "text": [
      "r.shape = (20000, 19, 19, 31)\n",
      "nbExamples = 20000\n"
     ]
    },
    {
     "name": "stdout",
     "output_type": "stream",
     "text": [
      "200/200 [==============================] - 45s 227ms/step - loss: 3.2356 - policy_loss: 2.4805 - value_loss: 0.6873 - policy_categorical_accuracy: 0.3823 - value_mse: 0.1172 - lr: 0.0100\n",
      "epoch 74\n"
     ]
    },
    {
     "name": "stderr",
     "output_type": "stream",
     "text": [
      "r.shape = (20000, 19, 19, 31)\n",
      "nbExamples = 20000\n"
     ]
    },
    {
     "name": "stdout",
     "output_type": "stream",
     "text": [
      "200/200 [==============================] - 45s 223ms/step - loss: 3.2270 - policy_loss: 2.4712 - value_loss: 0.6880 - policy_categorical_accuracy: 0.3811 - value_mse: 0.1160 - lr: 0.0100\n",
      "epoch 75\n"
     ]
    },
    {
     "name": "stderr",
     "output_type": "stream",
     "text": [
      "r.shape = (20000, 19, 19, 31)\n",
      "nbExamples = 20000\n"
     ]
    },
    {
     "name": "stdout",
     "output_type": "stream",
     "text": [
      "200/200 [==============================] - 45s 223ms/step - loss: 3.2467 - policy_loss: 2.4920 - value_loss: 0.6869 - policy_categorical_accuracy: 0.3812 - value_mse: 0.1175 - lr: 0.0100\n",
      "epoch 76\n"
     ]
    },
    {
     "name": "stderr",
     "output_type": "stream",
     "text": [
      "r.shape = (20000, 19, 19, 31)\n",
      "nbExamples = 20000\n"
     ]
    },
    {
     "name": "stdout",
     "output_type": "stream",
     "text": [
      "200/200 [==============================] - 44s 220ms/step - loss: 3.2380 - policy_loss: 2.4832 - value_loss: 0.6870 - policy_categorical_accuracy: 0.3749 - value_mse: 0.1167 - lr: 0.0100\n",
      "epoch 77\n"
     ]
    },
    {
     "name": "stderr",
     "output_type": "stream",
     "text": [
      "r.shape = (20000, 19, 19, 31)\n",
      "nbExamples = 20000\n"
     ]
    },
    {
     "name": "stdout",
     "output_type": "stream",
     "text": [
      "200/200 [==============================] - 44s 220ms/step - loss: 3.2086 - policy_loss: 2.4530 - value_loss: 0.6880 - policy_categorical_accuracy: 0.3855 - value_mse: 0.1186 - lr: 0.0100\n",
      "epoch 78\n"
     ]
    },
    {
     "name": "stderr",
     "output_type": "stream",
     "text": [
      "r.shape = (20000, 19, 19, 31)\n",
      "nbExamples = 20000\n"
     ]
    },
    {
     "name": "stdout",
     "output_type": "stream",
     "text": [
      "200/200 [==============================] - 45s 223ms/step - loss: 3.2143 - policy_loss: 2.4596 - value_loss: 0.6871 - policy_categorical_accuracy: 0.3823 - value_mse: 0.1164 - lr: 0.0100\n",
      "epoch 79\n"
     ]
    },
    {
     "name": "stderr",
     "output_type": "stream",
     "text": [
      "r.shape = (20000, 19, 19, 31)\n",
      "nbExamples = 20000\n"
     ]
    },
    {
     "name": "stdout",
     "output_type": "stream",
     "text": [
      "200/200 [==============================] - 44s 219ms/step - loss: 3.2199 - policy_loss: 2.4648 - value_loss: 0.6876 - policy_categorical_accuracy: 0.3806 - value_mse: 0.1174 - lr: 0.0100\n",
      "epoch 80\n"
     ]
    },
    {
     "name": "stderr",
     "output_type": "stream",
     "text": [
      "r.shape = (20000, 19, 19, 31)\n",
      "nbExamples = 20000\n"
     ]
    },
    {
     "name": "stdout",
     "output_type": "stream",
     "text": [
      "200/200 [==============================] - 44s 219ms/step - loss: 3.2275 - policy_loss: 2.4725 - value_loss: 0.6875 - policy_categorical_accuracy: 0.3875 - value_mse: 0.1167 - lr: 0.0100\n"
     ]
    },
    {
     "name": "stderr",
     "output_type": "stream",
     "text": [
      "r.shape = (20000, 19, 19, 31)\n",
      "nbExamples = 20000\n"
     ]
    },
    {
     "name": "stdout",
     "output_type": "stream",
     "text": [
      "val = [3.2421059608459473, 2.487244129180908, 0.6873760223388672, 0.3779999911785126, 0.116875559091568]\n",
      "epoch 81\n"
     ]
    },
    {
     "name": "stderr",
     "output_type": "stream",
     "text": [
      "r.shape = (20000, 19, 19, 31)\n",
      "nbExamples = 20000\n"
     ]
    },
    {
     "name": "stdout",
     "output_type": "stream",
     "text": [
      "200/200 [==============================] - 44s 221ms/step - loss: 3.2029 - policy_loss: 2.4481 - value_loss: 0.6873 - policy_categorical_accuracy: 0.3882 - value_mse: 0.1177 - lr: 0.0100\n",
      "epoch 82\n"
     ]
    },
    {
     "name": "stderr",
     "output_type": "stream",
     "text": [
      "r.shape = (20000, 19, 19, 31)\n",
      "nbExamples = 20000\n"
     ]
    },
    {
     "name": "stdout",
     "output_type": "stream",
     "text": [
      "200/200 [==============================] - 45s 223ms/step - loss: 3.2204 - policy_loss: 2.4655 - value_loss: 0.6874 - policy_categorical_accuracy: 0.3799 - value_mse: 0.1176 - lr: 0.0100\n",
      "epoch 83\n"
     ]
    },
    {
     "name": "stderr",
     "output_type": "stream",
     "text": [
      "r.shape = (20000, 19, 19, 31)\n",
      "nbExamples = 20000\n"
     ]
    },
    {
     "name": "stdout",
     "output_type": "stream",
     "text": [
      "200/200 [==============================] - 44s 221ms/step - loss: 3.1826 - policy_loss: 2.4284 - value_loss: 0.6868 - policy_categorical_accuracy: 0.3873 - value_mse: 0.1168 - lr: 0.0100\n",
      "epoch 84\n"
     ]
    },
    {
     "name": "stderr",
     "output_type": "stream",
     "text": [
      "r.shape = (20000, 19, 19, 31)\n",
      "nbExamples = 20000\n"
     ]
    },
    {
     "name": "stdout",
     "output_type": "stream",
     "text": [
      "200/200 [==============================] - 44s 221ms/step - loss: 3.1997 - policy_loss: 2.4453 - value_loss: 0.6871 - policy_categorical_accuracy: 0.3898 - value_mse: 0.1159 - lr: 0.0100\n",
      "epoch 85\n"
     ]
    },
    {
     "name": "stderr",
     "output_type": "stream",
     "text": [
      "r.shape = (20000, 19, 19, 31)\n",
      "nbExamples = 20000\n"
     ]
    },
    {
     "name": "stdout",
     "output_type": "stream",
     "text": [
      "200/200 [==============================] - 45s 223ms/step - loss: 3.2262 - policy_loss: 2.4710 - value_loss: 0.6880 - policy_categorical_accuracy: 0.3778 - value_mse: 0.1157 - lr: 0.0100\n",
      "epoch 86\n"
     ]
    },
    {
     "name": "stderr",
     "output_type": "stream",
     "text": [
      "r.shape = (20000, 19, 19, 31)\n",
      "nbExamples = 20000\n"
     ]
    },
    {
     "name": "stdout",
     "output_type": "stream",
     "text": [
      "200/200 [==============================] - 44s 222ms/step - loss: 3.1907 - policy_loss: 2.4369 - value_loss: 0.6866 - policy_categorical_accuracy: 0.3869 - value_mse: 0.1173 - lr: 0.0100\n",
      "epoch 87\n"
     ]
    },
    {
     "name": "stderr",
     "output_type": "stream",
     "text": [
      "r.shape = (20000, 19, 19, 31)\n",
      "nbExamples = 20000\n"
     ]
    },
    {
     "name": "stdout",
     "output_type": "stream",
     "text": [
      "200/200 [==============================] - 44s 220ms/step - loss: 3.1819 - policy_loss: 2.4279 - value_loss: 0.6868 - policy_categorical_accuracy: 0.3863 - value_mse: 0.1174 - lr: 0.0100\n",
      "epoch 88\n"
     ]
    },
    {
     "name": "stderr",
     "output_type": "stream",
     "text": [
      "r.shape = (20000, 19, 19, 31)\n",
      "nbExamples = 20000\n"
     ]
    },
    {
     "name": "stdout",
     "output_type": "stream",
     "text": [
      "200/200 [==============================] - 44s 221ms/step - loss: 3.2055 - policy_loss: 2.4523 - value_loss: 0.6862 - policy_categorical_accuracy: 0.3866 - value_mse: 0.1158 - lr: 0.0100\n",
      "epoch 89\n"
     ]
    },
    {
     "name": "stderr",
     "output_type": "stream",
     "text": [
      "r.shape = (20000, 19, 19, 31)\n",
      "nbExamples = 20000\n"
     ]
    },
    {
     "name": "stdout",
     "output_type": "stream",
     "text": [
      "200/200 [==============================] - 44s 219ms/step - loss: 3.2250 - policy_loss: 2.4704 - value_loss: 0.6876 - policy_categorical_accuracy: 0.3808 - value_mse: 0.1171 - lr: 0.0100\n",
      "epoch 90\n"
     ]
    },
    {
     "name": "stderr",
     "output_type": "stream",
     "text": [
      "r.shape = (20000, 19, 19, 31)\n",
      "nbExamples = 20000\n"
     ]
    },
    {
     "name": "stdout",
     "output_type": "stream",
     "text": [
      "200/200 [==============================] - 45s 223ms/step - loss: 3.1820 - policy_loss: 2.4270 - value_loss: 0.6880 - policy_categorical_accuracy: 0.3881 - value_mse: 0.1168 - lr: 0.0100\n",
      "epoch 91\n"
     ]
    },
    {
     "name": "stderr",
     "output_type": "stream",
     "text": [
      "r.shape = (20000, 19, 19, 31)\n",
      "nbExamples = 20000\n"
     ]
    },
    {
     "name": "stdout",
     "output_type": "stream",
     "text": [
      "200/200 [==============================] - 44s 221ms/step - loss: 3.2004 - policy_loss: 2.4462 - value_loss: 0.6872 - policy_categorical_accuracy: 0.3840 - value_mse: 0.1176 - lr: 0.0100\n",
      "epoch 92\n"
     ]
    },
    {
     "name": "stderr",
     "output_type": "stream",
     "text": [
      "r.shape = (20000, 19, 19, 31)\n",
      "nbExamples = 20000\n"
     ]
    },
    {
     "name": "stdout",
     "output_type": "stream",
     "text": [
      "200/200 [==============================] - 44s 220ms/step - loss: 3.2031 - policy_loss: 2.4496 - value_loss: 0.6866 - policy_categorical_accuracy: 0.3834 - value_mse: 0.1169 - lr: 0.0100\n",
      "epoch 93\n"
     ]
    },
    {
     "name": "stderr",
     "output_type": "stream",
     "text": [
      "r.shape = (20000, 19, 19, 31)\n",
      "nbExamples = 20000\n"
     ]
    },
    {
     "name": "stdout",
     "output_type": "stream",
     "text": [
      "200/200 [==============================] - 44s 220ms/step - loss: 3.1912 - policy_loss: 2.4378 - value_loss: 0.6865 - policy_categorical_accuracy: 0.3825 - value_mse: 0.1177 - lr: 0.0100\n",
      "epoch 94\n"
     ]
    },
    {
     "name": "stderr",
     "output_type": "stream",
     "text": [
      "r.shape = (20000, 19, 19, 31)\n",
      "nbExamples = 20000\n"
     ]
    },
    {
     "name": "stdout",
     "output_type": "stream",
     "text": [
      "200/200 [==============================] - 44s 219ms/step - loss: 3.1850 - policy_loss: 2.4313 - value_loss: 0.6869 - policy_categorical_accuracy: 0.3834 - value_mse: 0.1167 - lr: 0.0100\n",
      "epoch 95\n"
     ]
    },
    {
     "name": "stderr",
     "output_type": "stream",
     "text": [
      "r.shape = (20000, 19, 19, 31)\n",
      "nbExamples = 20000\n"
     ]
    },
    {
     "name": "stdout",
     "output_type": "stream",
     "text": [
      "200/200 [==============================] - 44s 221ms/step - loss: 3.1732 - policy_loss: 2.4201 - value_loss: 0.6863 - policy_categorical_accuracy: 0.3871 - value_mse: 0.1175 - lr: 0.0100\n",
      "epoch 96\n"
     ]
    },
    {
     "name": "stderr",
     "output_type": "stream",
     "text": [
      "r.shape = (20000, 19, 19, 31)\n",
      "nbExamples = 20000\n"
     ]
    },
    {
     "name": "stdout",
     "output_type": "stream",
     "text": [
      "200/200 [==============================] - 44s 219ms/step - loss: 3.1641 - policy_loss: 2.4105 - value_loss: 0.6868 - policy_categorical_accuracy: 0.3896 - value_mse: 0.1164 - lr: 0.0100\n",
      "epoch 97\n"
     ]
    },
    {
     "name": "stderr",
     "output_type": "stream",
     "text": [
      "r.shape = (20000, 19, 19, 31)\n",
      "nbExamples = 20000\n"
     ]
    },
    {
     "name": "stdout",
     "output_type": "stream",
     "text": [
      "200/200 [==============================] - 44s 222ms/step - loss: 3.1939 - policy_loss: 2.4406 - value_loss: 0.6866 - policy_categorical_accuracy: 0.3821 - value_mse: 0.1169 - lr: 0.0100\n",
      "epoch 98\n"
     ]
    },
    {
     "name": "stderr",
     "output_type": "stream",
     "text": [
      "r.shape = (20000, 19, 19, 31)\n",
      "nbExamples = 20000\n"
     ]
    },
    {
     "name": "stdout",
     "output_type": "stream",
     "text": [
      "200/200 [==============================] - 45s 223ms/step - loss: 3.1822 - policy_loss: 2.4287 - value_loss: 0.6868 - policy_categorical_accuracy: 0.3881 - value_mse: 0.1171 - lr: 0.0100\n",
      "epoch 99\n"
     ]
    },
    {
     "name": "stderr",
     "output_type": "stream",
     "text": [
      "r.shape = (20000, 19, 19, 31)\n",
      "nbExamples = 20000\n"
     ]
    },
    {
     "name": "stdout",
     "output_type": "stream",
     "text": [
      "200/200 [==============================] - 44s 221ms/step - loss: 3.1855 - policy_loss: 2.4329 - value_loss: 0.6860 - policy_categorical_accuracy: 0.3837 - value_mse: 0.1166 - lr: 0.0100\n",
      "epoch 100\n"
     ]
    },
    {
     "name": "stderr",
     "output_type": "stream",
     "text": [
      "r.shape = (20000, 19, 19, 31)\n",
      "nbExamples = 20000\n"
     ]
    },
    {
     "name": "stdout",
     "output_type": "stream",
     "text": [
      "200/200 [==============================] - 44s 219ms/step - loss: 3.1880 - policy_loss: 2.4340 - value_loss: 0.6874 - policy_categorical_accuracy: 0.3801 - value_mse: 0.1156 - lr: 0.0100\n"
     ]
    },
    {
     "name": "stderr",
     "output_type": "stream",
     "text": [
      "r.shape = (20000, 19, 19, 31)\n",
      "nbExamples = 20000\n"
     ]
    },
    {
     "name": "stdout",
     "output_type": "stream",
     "text": [
      "val = [3.1824347972869873, 2.4277312755584717, 0.6881232857704163, 0.3887999951839447, 0.11725801974534988]\n",
      "epoch 101\n"
     ]
    },
    {
     "name": "stderr",
     "output_type": "stream",
     "text": [
      "r.shape = (20000, 19, 19, 31)\n",
      "nbExamples = 20000\n"
     ]
    },
    {
     "name": "stdout",
     "output_type": "stream",
     "text": [
      "200/200 [==============================] - 44s 222ms/step - loss: 3.1758 - policy_loss: 2.4228 - value_loss: 0.6864 - policy_categorical_accuracy: 0.3898 - value_mse: 0.1174 - lr: 0.0100\n",
      "learning rate is: 0.01\n",
      "epoch 102\n"
     ]
    },
    {
     "name": "stderr",
     "output_type": "stream",
     "text": [
      "r.shape = (20000, 19, 19, 31)\n",
      "nbExamples = 20000\n"
     ]
    },
    {
     "name": "stdout",
     "output_type": "stream",
     "text": [
      "200/200 [==============================] - 44s 220ms/step - loss: 3.1705 - policy_loss: 2.4176 - value_loss: 0.6864 - policy_categorical_accuracy: 0.3913 - value_mse: 0.1160 - lr: 0.0100\n",
      "epoch 103\n"
     ]
    },
    {
     "name": "stderr",
     "output_type": "stream",
     "text": [
      "r.shape = (20000, 19, 19, 31)\n",
      "nbExamples = 20000\n"
     ]
    },
    {
     "name": "stdout",
     "output_type": "stream",
     "text": [
      "200/200 [==============================] - 44s 221ms/step - loss: 3.1761 - policy_loss: 2.4223 - value_loss: 0.6873 - policy_categorical_accuracy: 0.3860 - value_mse: 0.1163 - lr: 0.0100\n",
      "epoch 104\n"
     ]
    },
    {
     "name": "stderr",
     "output_type": "stream",
     "text": [
      "r.shape = (20000, 19, 19, 31)\n",
      "nbExamples = 20000\n"
     ]
    },
    {
     "name": "stdout",
     "output_type": "stream",
     "text": [
      "200/200 [==============================] - 44s 221ms/step - loss: 3.1640 - policy_loss: 2.4105 - value_loss: 0.6870 - policy_categorical_accuracy: 0.3884 - value_mse: 0.1170 - lr: 0.0100\n",
      "epoch 105\n"
     ]
    },
    {
     "name": "stderr",
     "output_type": "stream",
     "text": [
      "r.shape = (20000, 19, 19, 31)\n",
      "nbExamples = 20000\n"
     ]
    },
    {
     "name": "stdout",
     "output_type": "stream",
     "text": [
      "200/200 [==============================] - 44s 219ms/step - loss: 3.1702 - policy_loss: 2.4159 - value_loss: 0.6878 - policy_categorical_accuracy: 0.3891 - value_mse: 0.1174 - lr: 0.0100\n",
      "epoch 106\n"
     ]
    },
    {
     "name": "stderr",
     "output_type": "stream",
     "text": [
      "r.shape = (20000, 19, 19, 31)\n",
      "nbExamples = 20000\n"
     ]
    },
    {
     "name": "stdout",
     "output_type": "stream",
     "text": [
      "200/200 [==============================] - 44s 222ms/step - loss: 3.1547 - policy_loss: 2.4004 - value_loss: 0.6879 - policy_categorical_accuracy: 0.3926 - value_mse: 0.1177 - lr: 0.0100\n",
      "epoch 107\n"
     ]
    },
    {
     "name": "stderr",
     "output_type": "stream",
     "text": [
      "r.shape = (20000, 19, 19, 31)\n",
      "nbExamples = 20000\n"
     ]
    },
    {
     "name": "stdout",
     "output_type": "stream",
     "text": [
      "200/200 [==============================] - 45s 223ms/step - loss: 3.1613 - policy_loss: 2.4089 - value_loss: 0.6860 - policy_categorical_accuracy: 0.3925 - value_mse: 0.1162 - lr: 0.0100\n",
      "epoch 108\n"
     ]
    },
    {
     "name": "stderr",
     "output_type": "stream",
     "text": [
      "r.shape = (20000, 19, 19, 31)\n",
      "nbExamples = 20000\n"
     ]
    },
    {
     "name": "stdout",
     "output_type": "stream",
     "text": [
      "200/200 [==============================] - 44s 222ms/step - loss: 3.1688 - policy_loss: 2.4151 - value_loss: 0.6873 - policy_categorical_accuracy: 0.3880 - value_mse: 0.1168 - lr: 0.0100\n",
      "epoch 109\n"
     ]
    },
    {
     "name": "stderr",
     "output_type": "stream",
     "text": [
      "r.shape = (20000, 19, 19, 31)\n",
      "nbExamples = 20000\n"
     ]
    },
    {
     "name": "stdout",
     "output_type": "stream",
     "text": [
      "200/200 [==============================] - 44s 219ms/step - loss: 3.1763 - policy_loss: 2.4228 - value_loss: 0.6872 - policy_categorical_accuracy: 0.3843 - value_mse: 0.1165 - lr: 0.0100\n",
      "epoch 110\n"
     ]
    },
    {
     "name": "stderr",
     "output_type": "stream",
     "text": [
      "r.shape = (20000, 19, 19, 31)\n",
      "nbExamples = 20000\n"
     ]
    },
    {
     "name": "stdout",
     "output_type": "stream",
     "text": [
      "200/200 [==============================] - 45s 223ms/step - loss: 3.1535 - policy_loss: 2.4007 - value_loss: 0.6866 - policy_categorical_accuracy: 0.3865 - value_mse: 0.1172 - lr: 0.0100\n",
      "epoch 111\n"
     ]
    },
    {
     "name": "stderr",
     "output_type": "stream",
     "text": [
      "r.shape = (20000, 19, 19, 31)\n",
      "nbExamples = 20000\n"
     ]
    },
    {
     "name": "stdout",
     "output_type": "stream",
     "text": [
      "200/200 [==============================] - 44s 222ms/step - loss: 3.1739 - policy_loss: 2.4207 - value_loss: 0.6870 - policy_categorical_accuracy: 0.3893 - value_mse: 0.1159 - lr: 0.0100\n",
      "epoch 112\n"
     ]
    },
    {
     "name": "stderr",
     "output_type": "stream",
     "text": [
      "r.shape = (20000, 19, 19, 31)\n",
      "nbExamples = 20000\n"
     ]
    },
    {
     "name": "stdout",
     "output_type": "stream",
     "text": [
      "200/200 [==============================] - 45s 225ms/step - loss: 3.1351 - policy_loss: 2.3821 - value_loss: 0.6868 - policy_categorical_accuracy: 0.3931 - value_mse: 0.1165 - lr: 0.0100\n",
      "epoch 113\n"
     ]
    },
    {
     "name": "stderr",
     "output_type": "stream",
     "text": [
      "r.shape = (20000, 19, 19, 31)\n",
      "nbExamples = 20000\n"
     ]
    },
    {
     "name": "stdout",
     "output_type": "stream",
     "text": [
      "200/200 [==============================] - 45s 224ms/step - loss: 3.1551 - policy_loss: 2.4017 - value_loss: 0.6872 - policy_categorical_accuracy: 0.3857 - value_mse: 0.1184 - lr: 0.0100\n",
      "epoch 114\n"
     ]
    },
    {
     "name": "stderr",
     "output_type": "stream",
     "text": [
      "r.shape = (20000, 19, 19, 31)\n",
      "nbExamples = 20000\n"
     ]
    },
    {
     "name": "stdout",
     "output_type": "stream",
     "text": [
      "200/200 [==============================] - 45s 223ms/step - loss: 3.1819 - policy_loss: 2.4289 - value_loss: 0.6868 - policy_categorical_accuracy: 0.3857 - value_mse: 0.1159 - lr: 0.0100\n",
      "epoch 115\n"
     ]
    },
    {
     "name": "stderr",
     "output_type": "stream",
     "text": [
      "r.shape = (20000, 19, 19, 31)\n",
      "nbExamples = 20000\n"
     ]
    },
    {
     "name": "stdout",
     "output_type": "stream",
     "text": [
      "200/200 [==============================] - 45s 226ms/step - loss: 3.1435 - policy_loss: 2.3903 - value_loss: 0.6871 - policy_categorical_accuracy: 0.3879 - value_mse: 0.1154 - lr: 0.0100\n",
      "epoch 116\n"
     ]
    },
    {
     "name": "stderr",
     "output_type": "stream",
     "text": [
      "r.shape = (20000, 19, 19, 31)\n",
      "nbExamples = 20000\n"
     ]
    },
    {
     "name": "stdout",
     "output_type": "stream",
     "text": [
      "200/200 [==============================] - 45s 224ms/step - loss: 3.1739 - policy_loss: 2.4207 - value_loss: 0.6870 - policy_categorical_accuracy: 0.3884 - value_mse: 0.1157 - lr: 0.0100\n",
      "epoch 117\n"
     ]
    },
    {
     "name": "stderr",
     "output_type": "stream",
     "text": [
      "r.shape = (20000, 19, 19, 31)\n",
      "nbExamples = 20000\n"
     ]
    },
    {
     "name": "stdout",
     "output_type": "stream",
     "text": [
      "200/200 [==============================] - 45s 225ms/step - loss: 3.1608 - policy_loss: 2.4081 - value_loss: 0.6866 - policy_categorical_accuracy: 0.3914 - value_mse: 0.1162 - lr: 0.0100\n",
      "epoch 118\n"
     ]
    },
    {
     "name": "stderr",
     "output_type": "stream",
     "text": [
      "r.shape = (20000, 19, 19, 31)\n",
      "nbExamples = 20000\n"
     ]
    },
    {
     "name": "stdout",
     "output_type": "stream",
     "text": [
      "200/200 [==============================] - 45s 223ms/step - loss: 3.1574 - policy_loss: 2.4040 - value_loss: 0.6873 - policy_categorical_accuracy: 0.3911 - value_mse: 0.1162 - lr: 0.0100\n",
      "epoch 119\n"
     ]
    },
    {
     "name": "stderr",
     "output_type": "stream",
     "text": [
      "r.shape = (20000, 19, 19, 31)\n",
      "nbExamples = 20000\n"
     ]
    },
    {
     "name": "stdout",
     "output_type": "stream",
     "text": [
      "200/200 [==============================] - 45s 224ms/step - loss: 3.1380 - policy_loss: 2.3843 - value_loss: 0.6876 - policy_categorical_accuracy: 0.3950 - value_mse: 0.1171 - lr: 0.0100\n",
      "epoch 120\n"
     ]
    },
    {
     "name": "stderr",
     "output_type": "stream",
     "text": [
      "r.shape = (20000, 19, 19, 31)\n",
      "nbExamples = 20000\n"
     ]
    },
    {
     "name": "stdout",
     "output_type": "stream",
     "text": [
      "200/200 [==============================] - 45s 226ms/step - loss: 3.1536 - policy_loss: 2.4018 - value_loss: 0.6858 - policy_categorical_accuracy: 0.3899 - value_mse: 0.1150 - lr: 0.0100\n"
     ]
    },
    {
     "name": "stderr",
     "output_type": "stream",
     "text": [
      "r.shape = (20000, 19, 19, 31)\n",
      "nbExamples = 20000\n"
     ]
    },
    {
     "name": "stdout",
     "output_type": "stream",
     "text": [
      "val = [3.166341543197632, 2.413846015930176, 0.6864297986030579, 0.3922500014305115, 0.11641830950975418]\n",
      "epoch 121\n"
     ]
    },
    {
     "name": "stderr",
     "output_type": "stream",
     "text": [
      "r.shape = (20000, 19, 19, 31)\n",
      "nbExamples = 20000\n"
     ]
    },
    {
     "name": "stdout",
     "output_type": "stream",
     "text": [
      "200/200 [==============================] - 45s 224ms/step - loss: 3.1485 - policy_loss: 2.3953 - value_loss: 0.6871 - policy_categorical_accuracy: 0.3875 - value_mse: 0.1167 - lr: 0.0100\n",
      "epoch 122\n"
     ]
    },
    {
     "name": "stderr",
     "output_type": "stream",
     "text": [
      "r.shape = (20000, 19, 19, 31)\n",
      "nbExamples = 20000\n"
     ]
    },
    {
     "name": "stdout",
     "output_type": "stream",
     "text": [
      "200/200 [==============================] - 45s 223ms/step - loss: 3.1511 - policy_loss: 2.3986 - value_loss: 0.6864 - policy_categorical_accuracy: 0.3945 - value_mse: 0.1164 - lr: 0.0100\n",
      "epoch 123\n"
     ]
    },
    {
     "name": "stderr",
     "output_type": "stream",
     "text": [
      "r.shape = (20000, 19, 19, 31)\n",
      "nbExamples = 20000\n"
     ]
    },
    {
     "name": "stdout",
     "output_type": "stream",
     "text": [
      "200/200 [==============================] - 45s 223ms/step - loss: 3.1665 - policy_loss: 2.4136 - value_loss: 0.6868 - policy_categorical_accuracy: 0.3910 - value_mse: 0.1168 - lr: 0.0100\n",
      "epoch 124\n"
     ]
    },
    {
     "name": "stderr",
     "output_type": "stream",
     "text": [
      "r.shape = (20000, 19, 19, 31)\n",
      "nbExamples = 20000\n"
     ]
    },
    {
     "name": "stdout",
     "output_type": "stream",
     "text": [
      "200/200 [==============================] - 44s 222ms/step - loss: 3.1341 - policy_loss: 2.3811 - value_loss: 0.6870 - policy_categorical_accuracy: 0.3952 - value_mse: 0.1168 - lr: 0.0100\n",
      "epoch 125\n"
     ]
    },
    {
     "name": "stderr",
     "output_type": "stream",
     "text": [
      "r.shape = (20000, 19, 19, 31)\n",
      "nbExamples = 20000\n"
     ]
    },
    {
     "name": "stdout",
     "output_type": "stream",
     "text": [
      "200/200 [==============================] - 44s 221ms/step - loss: 3.1442 - policy_loss: 2.3918 - value_loss: 0.6863 - policy_categorical_accuracy: 0.3916 - value_mse: 0.1155 - lr: 0.0100\n",
      "epoch 126\n"
     ]
    },
    {
     "name": "stderr",
     "output_type": "stream",
     "text": [
      "r.shape = (20000, 19, 19, 31)\n",
      "nbExamples = 20000\n"
     ]
    },
    {
     "name": "stdout",
     "output_type": "stream",
     "text": [
      "200/200 [==============================] - 44s 221ms/step - loss: 3.1350 - policy_loss: 2.3831 - value_loss: 0.6859 - policy_categorical_accuracy: 0.3933 - value_mse: 0.1156 - lr: 0.0100\n",
      "epoch 127\n"
     ]
    },
    {
     "name": "stderr",
     "output_type": "stream",
     "text": [
      "r.shape = (20000, 19, 19, 31)\n",
      "nbExamples = 20000\n"
     ]
    },
    {
     "name": "stdout",
     "output_type": "stream",
     "text": [
      "200/200 [==============================] - 44s 221ms/step - loss: 3.1556 - policy_loss: 2.4031 - value_loss: 0.6866 - policy_categorical_accuracy: 0.3896 - value_mse: 0.1163 - lr: 0.0100\n",
      "epoch 128\n"
     ]
    },
    {
     "name": "stderr",
     "output_type": "stream",
     "text": [
      "r.shape = (20000, 19, 19, 31)\n",
      "nbExamples = 20000\n"
     ]
    },
    {
     "name": "stdout",
     "output_type": "stream",
     "text": [
      "200/200 [==============================] - 44s 221ms/step - loss: 3.1337 - policy_loss: 2.3804 - value_loss: 0.6874 - policy_categorical_accuracy: 0.3886 - value_mse: 0.1174 - lr: 0.0100\n",
      "epoch 129\n"
     ]
    },
    {
     "name": "stderr",
     "output_type": "stream",
     "text": [
      "r.shape = (20000, 19, 19, 31)\n",
      "nbExamples = 20000\n"
     ]
    },
    {
     "name": "stdout",
     "output_type": "stream",
     "text": [
      "200/200 [==============================] - 45s 227ms/step - loss: 3.1462 - policy_loss: 2.3929 - value_loss: 0.6875 - policy_categorical_accuracy: 0.3906 - value_mse: 0.1159 - lr: 0.0100\n",
      "epoch 130\n"
     ]
    },
    {
     "name": "stderr",
     "output_type": "stream",
     "text": [
      "r.shape = (20000, 19, 19, 31)\n",
      "nbExamples = 20000\n"
     ]
    },
    {
     "name": "stdout",
     "output_type": "stream",
     "text": [
      "200/200 [==============================] - 45s 225ms/step - loss: 3.1460 - policy_loss: 2.3937 - value_loss: 0.6864 - policy_categorical_accuracy: 0.3939 - value_mse: 0.1173 - lr: 0.0100\n",
      "epoch 131\n"
     ]
    },
    {
     "name": "stderr",
     "output_type": "stream",
     "text": [
      "r.shape = (20000, 19, 19, 31)\n",
      "nbExamples = 20000\n"
     ]
    },
    {
     "name": "stdout",
     "output_type": "stream",
     "text": [
      "200/200 [==============================] - 45s 223ms/step - loss: 3.1378 - policy_loss: 2.3846 - value_loss: 0.6873 - policy_categorical_accuracy: 0.3898 - value_mse: 0.1162 - lr: 0.0100\n",
      "epoch 132\n"
     ]
    },
    {
     "name": "stderr",
     "output_type": "stream",
     "text": [
      "r.shape = (20000, 19, 19, 31)\n",
      "nbExamples = 20000\n"
     ]
    },
    {
     "name": "stdout",
     "output_type": "stream",
     "text": [
      "200/200 [==============================] - 45s 224ms/step - loss: 3.1339 - policy_loss: 2.3801 - value_loss: 0.6879 - policy_categorical_accuracy: 0.3953 - value_mse: 0.1161 - lr: 0.0100\n",
      "epoch 133\n"
     ]
    },
    {
     "name": "stderr",
     "output_type": "stream",
     "text": [
      "r.shape = (20000, 19, 19, 31)\n",
      "nbExamples = 20000\n"
     ]
    },
    {
     "name": "stdout",
     "output_type": "stream",
     "text": [
      "200/200 [==============================] - 45s 224ms/step - loss: 3.1178 - policy_loss: 2.3651 - value_loss: 0.6869 - policy_categorical_accuracy: 0.3965 - value_mse: 0.1168 - lr: 0.0100\n",
      "epoch 134\n"
     ]
    },
    {
     "name": "stderr",
     "output_type": "stream",
     "text": [
      "r.shape = (20000, 19, 19, 31)\n",
      "nbExamples = 20000\n"
     ]
    },
    {
     "name": "stdout",
     "output_type": "stream",
     "text": [
      "200/200 [==============================] - 44s 221ms/step - loss: 3.1148 - policy_loss: 2.3617 - value_loss: 0.6873 - policy_categorical_accuracy: 0.3954 - value_mse: 0.1154 - lr: 0.0100\n",
      "epoch 135\n"
     ]
    },
    {
     "name": "stderr",
     "output_type": "stream",
     "text": [
      "r.shape = (20000, 19, 19, 31)\n",
      "nbExamples = 20000\n"
     ]
    },
    {
     "name": "stdout",
     "output_type": "stream",
     "text": [
      "200/200 [==============================] - 44s 222ms/step - loss: 3.1221 - policy_loss: 2.3691 - value_loss: 0.6871 - policy_categorical_accuracy: 0.3984 - value_mse: 0.1154 - lr: 0.0100\n",
      "epoch 136\n"
     ]
    },
    {
     "name": "stderr",
     "output_type": "stream",
     "text": [
      "r.shape = (20000, 19, 19, 31)\n",
      "nbExamples = 20000\n"
     ]
    },
    {
     "name": "stdout",
     "output_type": "stream",
     "text": [
      "200/200 [==============================] - 44s 221ms/step - loss: 3.1370 - policy_loss: 2.3842 - value_loss: 0.6870 - policy_categorical_accuracy: 0.3916 - value_mse: 0.1156 - lr: 0.0100\n",
      "epoch 137\n"
     ]
    },
    {
     "name": "stderr",
     "output_type": "stream",
     "text": [
      "r.shape = (20000, 19, 19, 31)\n",
      "nbExamples = 20000\n"
     ]
    },
    {
     "name": "stdout",
     "output_type": "stream",
     "text": [
      "200/200 [==============================] - 44s 220ms/step - loss: 3.1290 - policy_loss: 2.3765 - value_loss: 0.6867 - policy_categorical_accuracy: 0.3922 - value_mse: 0.1171 - lr: 0.0100\n",
      "epoch 138\n"
     ]
    },
    {
     "name": "stderr",
     "output_type": "stream",
     "text": [
      "r.shape = (20000, 19, 19, 31)\n",
      "nbExamples = 20000\n"
     ]
    },
    {
     "name": "stdout",
     "output_type": "stream",
     "text": [
      "200/200 [==============================] - 45s 224ms/step - loss: 3.1372 - policy_loss: 2.3842 - value_loss: 0.6872 - policy_categorical_accuracy: 0.3910 - value_mse: 0.1165 - lr: 0.0100\n",
      "epoch 139\n"
     ]
    },
    {
     "name": "stderr",
     "output_type": "stream",
     "text": [
      "r.shape = (20000, 19, 19, 31)\n",
      "nbExamples = 20000\n"
     ]
    },
    {
     "name": "stdout",
     "output_type": "stream",
     "text": [
      "200/200 [==============================] - 45s 224ms/step - loss: 3.1378 - policy_loss: 2.3855 - value_loss: 0.6865 - policy_categorical_accuracy: 0.3929 - value_mse: 0.1157 - lr: 0.0100\n",
      "epoch 140\n"
     ]
    },
    {
     "name": "stderr",
     "output_type": "stream",
     "text": [
      "r.shape = (20000, 19, 19, 31)\n",
      "nbExamples = 20000\n"
     ]
    },
    {
     "name": "stdout",
     "output_type": "stream",
     "text": [
      "200/200 [==============================] - 45s 223ms/step - loss: 3.1038 - policy_loss: 2.3513 - value_loss: 0.6868 - policy_categorical_accuracy: 0.3980 - value_mse: 0.1170 - lr: 0.0100\n"
     ]
    },
    {
     "name": "stderr",
     "output_type": "stream",
     "text": [
      "r.shape = (20000, 19, 19, 31)\n",
      "nbExamples = 20000\n"
     ]
    },
    {
     "name": "stdout",
     "output_type": "stream",
     "text": [
      "val = [3.1354401111602783, 2.382704973220825, 0.6869840621948242, 0.395550012588501, 0.11668964475393295]\n",
      "epoch 141\n"
     ]
    },
    {
     "name": "stderr",
     "output_type": "stream",
     "text": [
      "r.shape = (20000, 19, 19, 31)\n",
      "nbExamples = 20000\n"
     ]
    },
    {
     "name": "stdout",
     "output_type": "stream",
     "text": [
      "200/200 [==============================] - 44s 221ms/step - loss: 3.1348 - policy_loss: 2.3826 - value_loss: 0.6865 - policy_categorical_accuracy: 0.3936 - value_mse: 0.1164 - lr: 0.0100\n",
      "epoch 142\n"
     ]
    },
    {
     "name": "stderr",
     "output_type": "stream",
     "text": [
      "r.shape = (20000, 19, 19, 31)\n",
      "nbExamples = 20000\n"
     ]
    },
    {
     "name": "stdout",
     "output_type": "stream",
     "text": [
      "200/200 [==============================] - 44s 221ms/step - loss: 3.1398 - policy_loss: 2.3873 - value_loss: 0.6868 - policy_categorical_accuracy: 0.3963 - value_mse: 0.1171 - lr: 0.0100\n",
      "epoch 143\n"
     ]
    },
    {
     "name": "stderr",
     "output_type": "stream",
     "text": [
      "r.shape = (20000, 19, 19, 31)\n",
      "nbExamples = 20000\n"
     ]
    },
    {
     "name": "stdout",
     "output_type": "stream",
     "text": [
      "200/200 [==============================] - 44s 222ms/step - loss: 3.0940 - policy_loss: 2.3409 - value_loss: 0.6873 - policy_categorical_accuracy: 0.4031 - value_mse: 0.1164 - lr: 0.0100\n",
      "epoch 144\n"
     ]
    },
    {
     "name": "stderr",
     "output_type": "stream",
     "text": [
      "r.shape = (20000, 19, 19, 31)\n",
      "nbExamples = 20000\n"
     ]
    },
    {
     "name": "stdout",
     "output_type": "stream",
     "text": [
      "200/200 [==============================] - 45s 223ms/step - loss: 3.1348 - policy_loss: 2.3827 - value_loss: 0.6864 - policy_categorical_accuracy: 0.3931 - value_mse: 0.1149 - lr: 0.0100\n",
      "epoch 145\n"
     ]
    },
    {
     "name": "stderr",
     "output_type": "stream",
     "text": [
      "r.shape = (20000, 19, 19, 31)\n",
      "nbExamples = 20000\n"
     ]
    },
    {
     "name": "stdout",
     "output_type": "stream",
     "text": [
      "200/200 [==============================] - 44s 221ms/step - loss: 3.1301 - policy_loss: 2.3776 - value_loss: 0.6868 - policy_categorical_accuracy: 0.3975 - value_mse: 0.1165 - lr: 0.0100\n",
      "epoch 146\n"
     ]
    },
    {
     "name": "stderr",
     "output_type": "stream",
     "text": [
      "r.shape = (20000, 19, 19, 31)\n",
      "nbExamples = 20000\n"
     ]
    },
    {
     "name": "stdout",
     "output_type": "stream",
     "text": [
      "200/200 [==============================] - 44s 220ms/step - loss: 3.1326 - policy_loss: 2.3801 - value_loss: 0.6868 - policy_categorical_accuracy: 0.3893 - value_mse: 0.1168 - lr: 0.0100\n",
      "epoch 147\n"
     ]
    },
    {
     "name": "stderr",
     "output_type": "stream",
     "text": [
      "r.shape = (20000, 19, 19, 31)\n",
      "nbExamples = 20000\n"
     ]
    },
    {
     "name": "stdout",
     "output_type": "stream",
     "text": [
      "200/200 [==============================] - 45s 223ms/step - loss: 3.1043 - policy_loss: 2.3516 - value_loss: 0.6869 - policy_categorical_accuracy: 0.3979 - value_mse: 0.1160 - lr: 0.0100\n",
      "epoch 148\n"
     ]
    },
    {
     "name": "stderr",
     "output_type": "stream",
     "text": [
      "r.shape = (20000, 19, 19, 31)\n",
      "nbExamples = 20000\n"
     ]
    },
    {
     "name": "stdout",
     "output_type": "stream",
     "text": [
      "200/200 [==============================] - 45s 224ms/step - loss: 3.1337 - policy_loss: 2.3813 - value_loss: 0.6867 - policy_categorical_accuracy: 0.3895 - value_mse: 0.1161 - lr: 0.0100\n",
      "epoch 149\n"
     ]
    },
    {
     "name": "stderr",
     "output_type": "stream",
     "text": [
      "r.shape = (20000, 19, 19, 31)\n",
      "nbExamples = 20000\n"
     ]
    },
    {
     "name": "stdout",
     "output_type": "stream",
     "text": [
      "200/200 [==============================] - 45s 224ms/step - loss: 3.1037 - policy_loss: 2.3511 - value_loss: 0.6868 - policy_categorical_accuracy: 0.3983 - value_mse: 0.1172 - lr: 0.0100\n",
      "epoch 150\n"
     ]
    },
    {
     "name": "stderr",
     "output_type": "stream",
     "text": [
      "r.shape = (20000, 19, 19, 31)\n",
      "nbExamples = 20000\n"
     ]
    },
    {
     "name": "stdout",
     "output_type": "stream",
     "text": [
      "200/200 [==============================] - 45s 225ms/step - loss: 3.1277 - policy_loss: 2.3762 - value_loss: 0.6857 - policy_categorical_accuracy: 0.3878 - value_mse: 0.1162 - lr: 0.0100\n",
      "epoch 151\n"
     ]
    },
    {
     "name": "stderr",
     "output_type": "stream",
     "text": [
      "r.shape = (20000, 19, 19, 31)\n",
      "nbExamples = 20000\n"
     ]
    },
    {
     "name": "stdout",
     "output_type": "stream",
     "text": [
      "200/200 [==============================] - 45s 224ms/step - loss: 3.1122 - policy_loss: 2.3606 - value_loss: 0.6859 - policy_categorical_accuracy: 0.4020 - value_mse: 0.1168 - lr: 0.0100\n",
      "epoch 152\n"
     ]
    },
    {
     "name": "stderr",
     "output_type": "stream",
     "text": [
      "r.shape = (20000, 19, 19, 31)\n",
      "nbExamples = 20000\n"
     ]
    },
    {
     "name": "stdout",
     "output_type": "stream",
     "text": [
      "200/200 [==============================] - 44s 221ms/step - loss: 3.1212 - policy_loss: 2.3686 - value_loss: 0.6869 - policy_categorical_accuracy: 0.3934 - value_mse: 0.1170 - lr: 0.0100\n",
      "epoch 153\n"
     ]
    },
    {
     "name": "stderr",
     "output_type": "stream",
     "text": [
      "r.shape = (20000, 19, 19, 31)\n",
      "nbExamples = 20000\n"
     ]
    },
    {
     "name": "stdout",
     "output_type": "stream",
     "text": [
      "200/200 [==============================] - 44s 221ms/step - loss: 3.1010 - policy_loss: 2.3485 - value_loss: 0.6867 - policy_categorical_accuracy: 0.3966 - value_mse: 0.1173 - lr: 0.0100\n",
      "epoch 154\n"
     ]
    },
    {
     "name": "stderr",
     "output_type": "stream",
     "text": [
      "r.shape = (20000, 19, 19, 31)\n",
      "nbExamples = 20000\n"
     ]
    },
    {
     "name": "stdout",
     "output_type": "stream",
     "text": [
      "200/200 [==============================] - 44s 222ms/step - loss: 3.1245 - policy_loss: 2.3724 - value_loss: 0.6863 - policy_categorical_accuracy: 0.3902 - value_mse: 0.1174 - lr: 0.0100\n",
      "epoch 155\n"
     ]
    },
    {
     "name": "stderr",
     "output_type": "stream",
     "text": [
      "r.shape = (20000, 19, 19, 31)\n",
      "nbExamples = 20000\n"
     ]
    },
    {
     "name": "stdout",
     "output_type": "stream",
     "text": [
      "200/200 [==============================] - 44s 221ms/step - loss: 3.1067 - policy_loss: 2.3539 - value_loss: 0.6872 - policy_categorical_accuracy: 0.3914 - value_mse: 0.1164 - lr: 0.0100\n",
      "epoch 156\n"
     ]
    },
    {
     "name": "stderr",
     "output_type": "stream",
     "text": [
      "r.shape = (20000, 19, 19, 31)\n",
      "nbExamples = 20000\n"
     ]
    },
    {
     "name": "stdout",
     "output_type": "stream",
     "text": [
      "200/200 [==============================] - 45s 225ms/step - loss: 3.0909 - policy_loss: 2.3396 - value_loss: 0.6856 - policy_categorical_accuracy: 0.3943 - value_mse: 0.1169 - lr: 0.0100\n",
      "epoch 157\n"
     ]
    },
    {
     "name": "stderr",
     "output_type": "stream",
     "text": [
      "r.shape = (20000, 19, 19, 31)\n",
      "nbExamples = 20000\n"
     ]
    },
    {
     "name": "stdout",
     "output_type": "stream",
     "text": [
      "200/200 [==============================] - 45s 224ms/step - loss: 3.1274 - policy_loss: 2.3753 - value_loss: 0.6864 - policy_categorical_accuracy: 0.3929 - value_mse: 0.1172 - lr: 0.0100\n",
      "epoch 158\n"
     ]
    },
    {
     "name": "stderr",
     "output_type": "stream",
     "text": [
      "r.shape = (20000, 19, 19, 31)\n",
      "nbExamples = 20000\n"
     ]
    },
    {
     "name": "stdout",
     "output_type": "stream",
     "text": [
      "200/200 [==============================] - 45s 224ms/step - loss: 3.1150 - policy_loss: 2.3624 - value_loss: 0.6870 - policy_categorical_accuracy: 0.3934 - value_mse: 0.1154 - lr: 0.0100\n",
      "epoch 159\n"
     ]
    },
    {
     "name": "stderr",
     "output_type": "stream",
     "text": [
      "r.shape = (20000, 19, 19, 31)\n",
      "nbExamples = 20000\n"
     ]
    },
    {
     "name": "stdout",
     "output_type": "stream",
     "text": [
      "200/200 [==============================] - 45s 224ms/step - loss: 3.1314 - policy_loss: 2.3784 - value_loss: 0.6873 - policy_categorical_accuracy: 0.3927 - value_mse: 0.1171 - lr: 0.0100\n",
      "epoch 160\n"
     ]
    },
    {
     "name": "stderr",
     "output_type": "stream",
     "text": [
      "r.shape = (20000, 19, 19, 31)\n",
      "nbExamples = 20000\n"
     ]
    },
    {
     "name": "stdout",
     "output_type": "stream",
     "text": [
      "200/200 [==============================] - 45s 223ms/step - loss: 3.0973 - policy_loss: 2.3451 - value_loss: 0.6866 - policy_categorical_accuracy: 0.3979 - value_mse: 0.1156 - lr: 0.0100\n"
     ]
    },
    {
     "name": "stderr",
     "output_type": "stream",
     "text": [
      "r.shape = (20000, 19, 19, 31)\n",
      "nbExamples = 20000\n"
     ]
    },
    {
     "name": "stdout",
     "output_type": "stream",
     "text": [
      "val = [3.108234405517578, 2.356597423553467, 0.6859804391860962, 0.396699994802475, 0.11619313061237335]\n",
      "epoch 161\n"
     ]
    },
    {
     "name": "stderr",
     "output_type": "stream",
     "text": [
      "r.shape = (20000, 19, 19, 31)\n",
      "nbExamples = 20000\n"
     ]
    },
    {
     "name": "stdout",
     "output_type": "stream",
     "text": [
      "200/200 [==============================] - 45s 224ms/step - loss: 3.1026 - policy_loss: 2.3501 - value_loss: 0.6868 - policy_categorical_accuracy: 0.3963 - value_mse: 0.1160 - lr: 0.0100\n",
      "epoch 162\n"
     ]
    },
    {
     "name": "stderr",
     "output_type": "stream",
     "text": [
      "r.shape = (20000, 19, 19, 31)\n",
      "nbExamples = 20000\n"
     ]
    },
    {
     "name": "stdout",
     "output_type": "stream",
     "text": [
      "200/200 [==============================] - 45s 224ms/step - loss: 3.0997 - policy_loss: 2.3476 - value_loss: 0.6864 - policy_categorical_accuracy: 0.3964 - value_mse: 0.1158 - lr: 0.0100\n",
      "epoch 163\n"
     ]
    },
    {
     "name": "stderr",
     "output_type": "stream",
     "text": [
      "r.shape = (20000, 19, 19, 31)\n",
      "nbExamples = 20000\n"
     ]
    },
    {
     "name": "stdout",
     "output_type": "stream",
     "text": [
      "200/200 [==============================] - 45s 224ms/step - loss: 3.0978 - policy_loss: 2.3454 - value_loss: 0.6868 - policy_categorical_accuracy: 0.4002 - value_mse: 0.1170 - lr: 0.0100\n",
      "epoch 164\n"
     ]
    },
    {
     "name": "stderr",
     "output_type": "stream",
     "text": [
      "r.shape = (20000, 19, 19, 31)\n",
      "nbExamples = 20000\n"
     ]
    },
    {
     "name": "stdout",
     "output_type": "stream",
     "text": [
      "200/200 [==============================] - 45s 225ms/step - loss: 3.1197 - policy_loss: 2.3660 - value_loss: 0.6882 - policy_categorical_accuracy: 0.3942 - value_mse: 0.1161 - lr: 0.0100\n",
      "epoch 165\n"
     ]
    },
    {
     "name": "stderr",
     "output_type": "stream",
     "text": [
      "r.shape = (20000, 19, 19, 31)\n",
      "nbExamples = 20000\n"
     ]
    },
    {
     "name": "stdout",
     "output_type": "stream",
     "text": [
      "200/200 [==============================] - 45s 223ms/step - loss: 3.1098 - policy_loss: 2.3570 - value_loss: 0.6872 - policy_categorical_accuracy: 0.3952 - value_mse: 0.1156 - lr: 0.0100\n",
      "epoch 166\n"
     ]
    },
    {
     "name": "stderr",
     "output_type": "stream",
     "text": [
      "r.shape = (20000, 19, 19, 31)\n",
      "nbExamples = 20000\n"
     ]
    },
    {
     "name": "stdout",
     "output_type": "stream",
     "text": [
      "200/200 [==============================] - 45s 224ms/step - loss: 3.0999 - policy_loss: 2.3479 - value_loss: 0.6863 - policy_categorical_accuracy: 0.4022 - value_mse: 0.1160 - lr: 0.0100\n",
      "epoch 167\n"
     ]
    },
    {
     "name": "stderr",
     "output_type": "stream",
     "text": [
      "r.shape = (20000, 19, 19, 31)\n",
      "nbExamples = 20000\n"
     ]
    },
    {
     "name": "stdout",
     "output_type": "stream",
     "text": [
      "200/200 [==============================] - 45s 224ms/step - loss: 3.1030 - policy_loss: 2.3508 - value_loss: 0.6866 - policy_categorical_accuracy: 0.3952 - value_mse: 0.1171 - lr: 0.0100\n",
      "epoch 168\n"
     ]
    },
    {
     "name": "stderr",
     "output_type": "stream",
     "text": [
      "r.shape = (20000, 19, 19, 31)\n",
      "nbExamples = 20000\n"
     ]
    },
    {
     "name": "stdout",
     "output_type": "stream",
     "text": [
      "200/200 [==============================] - 45s 225ms/step - loss: 3.1067 - policy_loss: 2.3545 - value_loss: 0.6866 - policy_categorical_accuracy: 0.3956 - value_mse: 0.1187 - lr: 0.0100\n",
      "epoch 169\n"
     ]
    },
    {
     "name": "stderr",
     "output_type": "stream",
     "text": [
      "r.shape = (20000, 19, 19, 31)\n",
      "nbExamples = 20000\n"
     ]
    },
    {
     "name": "stdout",
     "output_type": "stream",
     "text": [
      "200/200 [==============================] - 45s 224ms/step - loss: 3.1103 - policy_loss: 2.3582 - value_loss: 0.6865 - policy_categorical_accuracy: 0.3969 - value_mse: 0.1166 - lr: 0.0100\n",
      "epoch 170\n"
     ]
    },
    {
     "name": "stderr",
     "output_type": "stream",
     "text": [
      "r.shape = (20000, 19, 19, 31)\n",
      "nbExamples = 20000\n"
     ]
    },
    {
     "name": "stdout",
     "output_type": "stream",
     "text": [
      "200/200 [==============================] - 45s 224ms/step - loss: 3.0843 - policy_loss: 2.3324 - value_loss: 0.6863 - policy_categorical_accuracy: 0.4059 - value_mse: 0.1164 - lr: 0.0100\n",
      "epoch 171\n"
     ]
    },
    {
     "name": "stderr",
     "output_type": "stream",
     "text": [
      "r.shape = (20000, 19, 19, 31)\n",
      "nbExamples = 20000\n"
     ]
    },
    {
     "name": "stdout",
     "output_type": "stream",
     "text": [
      "200/200 [==============================] - 45s 225ms/step - loss: 3.1250 - policy_loss: 2.3733 - value_loss: 0.6861 - policy_categorical_accuracy: 0.3914 - value_mse: 0.1164 - lr: 0.0100\n",
      "epoch 172\n"
     ]
    },
    {
     "name": "stderr",
     "output_type": "stream",
     "text": [
      "r.shape = (20000, 19, 19, 31)\n",
      "nbExamples = 20000\n"
     ]
    },
    {
     "name": "stdout",
     "output_type": "stream",
     "text": [
      "200/200 [==============================] - 45s 225ms/step - loss: 3.1241 - policy_loss: 2.3721 - value_loss: 0.6864 - policy_categorical_accuracy: 0.3942 - value_mse: 0.1165 - lr: 0.0100\n",
      "epoch 173\n"
     ]
    },
    {
     "name": "stderr",
     "output_type": "stream",
     "text": [
      "r.shape = (20000, 19, 19, 31)\n",
      "nbExamples = 20000\n"
     ]
    },
    {
     "name": "stdout",
     "output_type": "stream",
     "text": [
      "200/200 [==============================] - 45s 224ms/step - loss: 3.1012 - policy_loss: 2.3498 - value_loss: 0.6858 - policy_categorical_accuracy: 0.3975 - value_mse: 0.1154 - lr: 0.0100\n",
      "epoch 174\n"
     ]
    },
    {
     "name": "stderr",
     "output_type": "stream",
     "text": [
      "r.shape = (20000, 19, 19, 31)\n",
      "nbExamples = 20000\n"
     ]
    },
    {
     "name": "stdout",
     "output_type": "stream",
     "text": [
      "200/200 [==============================] - 45s 224ms/step - loss: 3.0853 - policy_loss: 2.3344 - value_loss: 0.6853 - policy_categorical_accuracy: 0.3981 - value_mse: 0.1155 - lr: 0.0100\n",
      "epoch 175\n"
     ]
    },
    {
     "name": "stderr",
     "output_type": "stream",
     "text": [
      "r.shape = (20000, 19, 19, 31)\n",
      "nbExamples = 20000\n"
     ]
    },
    {
     "name": "stdout",
     "output_type": "stream",
     "text": [
      "200/200 [==============================] - 45s 224ms/step - loss: 3.0910 - policy_loss: 2.3403 - value_loss: 0.6851 - policy_categorical_accuracy: 0.3975 - value_mse: 0.1152 - lr: 0.0100\n",
      "epoch 176\n"
     ]
    },
    {
     "name": "stderr",
     "output_type": "stream",
     "text": [
      "r.shape = (20000, 19, 19, 31)\n",
      "nbExamples = 20000\n"
     ]
    },
    {
     "name": "stdout",
     "output_type": "stream",
     "text": [
      "200/200 [==============================] - 45s 227ms/step - loss: 3.0843 - policy_loss: 2.3326 - value_loss: 0.6861 - policy_categorical_accuracy: 0.4040 - value_mse: 0.1154 - lr: 0.0100\n",
      "epoch 177\n"
     ]
    },
    {
     "name": "stderr",
     "output_type": "stream",
     "text": [
      "r.shape = (20000, 19, 19, 31)\n",
      "nbExamples = 20000\n"
     ]
    },
    {
     "name": "stdout",
     "output_type": "stream",
     "text": [
      "200/200 [==============================] - 45s 224ms/step - loss: 3.1058 - policy_loss: 2.3545 - value_loss: 0.6857 - policy_categorical_accuracy: 0.3906 - value_mse: 0.1163 - lr: 0.0100\n",
      "epoch 178\n"
     ]
    },
    {
     "name": "stderr",
     "output_type": "stream",
     "text": [
      "r.shape = (20000, 19, 19, 31)\n",
      "nbExamples = 20000\n"
     ]
    },
    {
     "name": "stdout",
     "output_type": "stream",
     "text": [
      "200/200 [==============================] - 45s 224ms/step - loss: 3.0988 - policy_loss: 2.3473 - value_loss: 0.6859 - policy_categorical_accuracy: 0.3972 - value_mse: 0.1167 - lr: 0.0100\n",
      "epoch 179\n"
     ]
    },
    {
     "name": "stderr",
     "output_type": "stream",
     "text": [
      "r.shape = (20000, 19, 19, 31)\n",
      "nbExamples = 20000\n"
     ]
    },
    {
     "name": "stdout",
     "output_type": "stream",
     "text": [
      "200/200 [==============================] - 45s 225ms/step - loss: 3.0953 - policy_loss: 2.3442 - value_loss: 0.6855 - policy_categorical_accuracy: 0.3947 - value_mse: 0.1173 - lr: 0.0100\n",
      "epoch 180\n"
     ]
    },
    {
     "name": "stderr",
     "output_type": "stream",
     "text": [
      "r.shape = (20000, 19, 19, 31)\n",
      "nbExamples = 20000\n"
     ]
    },
    {
     "name": "stdout",
     "output_type": "stream",
     "text": [
      "200/200 [==============================] - 45s 225ms/step - loss: 3.0946 - policy_loss: 2.3432 - value_loss: 0.6859 - policy_categorical_accuracy: 0.3984 - value_mse: 0.1153 - lr: 0.0100\n"
     ]
    },
    {
     "name": "stderr",
     "output_type": "stream",
     "text": [
      "r.shape = (20000, 19, 19, 31)\n",
      "nbExamples = 20000\n"
     ]
    },
    {
     "name": "stdout",
     "output_type": "stream",
     "text": [
      "val = [3.0829758644104004, 2.330779790878296, 0.6866468191146851, 0.4032000005245209, 0.11652509868144989]\n",
      "epoch 181\n"
     ]
    },
    {
     "name": "stderr",
     "output_type": "stream",
     "text": [
      "r.shape = (20000, 19, 19, 31)\n",
      "nbExamples = 20000\n"
     ]
    },
    {
     "name": "stdout",
     "output_type": "stream",
     "text": [
      "200/200 [==============================] - 45s 224ms/step - loss: 3.0837 - policy_loss: 2.3319 - value_loss: 0.6862 - policy_categorical_accuracy: 0.4008 - value_mse: 0.1165 - lr: 0.0100\n",
      "epoch 182\n"
     ]
    },
    {
     "name": "stderr",
     "output_type": "stream",
     "text": [
      "r.shape = (20000, 19, 19, 31)\n",
      "nbExamples = 20000\n"
     ]
    },
    {
     "name": "stdout",
     "output_type": "stream",
     "text": [
      "200/200 [==============================] - 44s 222ms/step - loss: 3.0827 - policy_loss: 2.3322 - value_loss: 0.6850 - policy_categorical_accuracy: 0.3995 - value_mse: 0.1169 - lr: 0.0100\n",
      "epoch 183\n"
     ]
    },
    {
     "name": "stderr",
     "output_type": "stream",
     "text": [
      "r.shape = (20000, 19, 19, 31)\n",
      "nbExamples = 20000\n"
     ]
    },
    {
     "name": "stdout",
     "output_type": "stream",
     "text": [
      "200/200 [==============================] - 44s 221ms/step - loss: 3.0930 - policy_loss: 2.3423 - value_loss: 0.6851 - policy_categorical_accuracy: 0.3995 - value_mse: 0.1164 - lr: 0.0100\n",
      "epoch 184\n"
     ]
    },
    {
     "name": "stderr",
     "output_type": "stream",
     "text": [
      "r.shape = (20000, 19, 19, 31)\n",
      "nbExamples = 20000\n"
     ]
    },
    {
     "name": "stdout",
     "output_type": "stream",
     "text": [
      "200/200 [==============================] - 45s 224ms/step - loss: 3.0995 - policy_loss: 2.3478 - value_loss: 0.6861 - policy_categorical_accuracy: 0.4003 - value_mse: 0.1162 - lr: 0.0100\n",
      "epoch 185\n"
     ]
    },
    {
     "name": "stderr",
     "output_type": "stream",
     "text": [
      "r.shape = (20000, 19, 19, 31)\n",
      "nbExamples = 20000\n"
     ]
    },
    {
     "name": "stdout",
     "output_type": "stream",
     "text": [
      "200/200 [==============================] - 45s 225ms/step - loss: 3.0989 - policy_loss: 2.3484 - value_loss: 0.6849 - policy_categorical_accuracy: 0.3981 - value_mse: 0.1172 - lr: 0.0100\n",
      "epoch 186\n"
     ]
    },
    {
     "name": "stderr",
     "output_type": "stream",
     "text": [
      "r.shape = (20000, 19, 19, 31)\n",
      "nbExamples = 20000\n"
     ]
    },
    {
     "name": "stdout",
     "output_type": "stream",
     "text": [
      "200/200 [==============================] - 44s 221ms/step - loss: 3.1017 - policy_loss: 2.3512 - value_loss: 0.6850 - policy_categorical_accuracy: 0.3936 - value_mse: 0.1160 - lr: 0.0100\n",
      "epoch 187\n"
     ]
    },
    {
     "name": "stderr",
     "output_type": "stream",
     "text": [
      "r.shape = (20000, 19, 19, 31)\n",
      "nbExamples = 20000\n"
     ]
    },
    {
     "name": "stdout",
     "output_type": "stream",
     "text": [
      "200/200 [==============================] - 45s 225ms/step - loss: 3.0602 - policy_loss: 2.3098 - value_loss: 0.6847 - policy_categorical_accuracy: 0.4038 - value_mse: 0.1167 - lr: 0.0100\n",
      "epoch 188\n"
     ]
    },
    {
     "name": "stderr",
     "output_type": "stream",
     "text": [
      "r.shape = (20000, 19, 19, 31)\n",
      "nbExamples = 20000\n"
     ]
    },
    {
     "name": "stdout",
     "output_type": "stream",
     "text": [
      "200/200 [==============================] - 45s 225ms/step - loss: 3.0976 - policy_loss: 2.3480 - value_loss: 0.6840 - policy_categorical_accuracy: 0.3943 - value_mse: 0.1150 - lr: 0.0100\n",
      "epoch 189\n"
     ]
    },
    {
     "name": "stderr",
     "output_type": "stream",
     "text": [
      "r.shape = (20000, 19, 19, 31)\n",
      "nbExamples = 20000\n"
     ]
    },
    {
     "name": "stdout",
     "output_type": "stream",
     "text": [
      "200/200 [==============================] - 45s 225ms/step - loss: 3.0910 - policy_loss: 2.3420 - value_loss: 0.6834 - policy_categorical_accuracy: 0.4018 - value_mse: 0.1157 - lr: 0.0100\n",
      "epoch 190\n"
     ]
    },
    {
     "name": "stderr",
     "output_type": "stream",
     "text": [
      "r.shape = (20000, 19, 19, 31)\n",
      "nbExamples = 20000\n"
     ]
    },
    {
     "name": "stdout",
     "output_type": "stream",
     "text": [
      "200/200 [==============================] - 45s 224ms/step - loss: 3.0713 - policy_loss: 2.3215 - value_loss: 0.6842 - policy_categorical_accuracy: 0.4017 - value_mse: 0.1156 - lr: 0.0100\n",
      "epoch 191\n"
     ]
    },
    {
     "name": "stderr",
     "output_type": "stream",
     "text": [
      "r.shape = (20000, 19, 19, 31)\n",
      "nbExamples = 20000\n"
     ]
    },
    {
     "name": "stdout",
     "output_type": "stream",
     "text": [
      "200/200 [==============================] - 44s 221ms/step - loss: 3.0764 - policy_loss: 2.3274 - value_loss: 0.6834 - policy_categorical_accuracy: 0.4030 - value_mse: 0.1159 - lr: 0.0100\n",
      "epoch 192\n"
     ]
    },
    {
     "name": "stderr",
     "output_type": "stream",
     "text": [
      "r.shape = (20000, 19, 19, 31)\n",
      "nbExamples = 20000\n"
     ]
    },
    {
     "name": "stdout",
     "output_type": "stream",
     "text": [
      "200/200 [==============================] - 44s 221ms/step - loss: 3.0817 - policy_loss: 2.3335 - value_loss: 0.6825 - policy_categorical_accuracy: 0.3970 - value_mse: 0.1145 - lr: 0.0100\n",
      "epoch 193\n"
     ]
    },
    {
     "name": "stderr",
     "output_type": "stream",
     "text": [
      "r.shape = (20000, 19, 19, 31)\n",
      "nbExamples = 20000\n"
     ]
    },
    {
     "name": "stdout",
     "output_type": "stream",
     "text": [
      "200/200 [==============================] - 44s 222ms/step - loss: 3.0953 - policy_loss: 2.3463 - value_loss: 0.6833 - policy_categorical_accuracy: 0.4011 - value_mse: 0.1146 - lr: 0.0100\n",
      "epoch 194\n"
     ]
    },
    {
     "name": "stderr",
     "output_type": "stream",
     "text": [
      "r.shape = (20000, 19, 19, 31)\n",
      "nbExamples = 20000\n"
     ]
    },
    {
     "name": "stdout",
     "output_type": "stream",
     "text": [
      "200/200 [==============================] - 44s 221ms/step - loss: 3.0947 - policy_loss: 2.3468 - value_loss: 0.6822 - policy_categorical_accuracy: 0.3950 - value_mse: 0.1132 - lr: 0.0100\n",
      "epoch 195\n"
     ]
    },
    {
     "name": "stderr",
     "output_type": "stream",
     "text": [
      "r.shape = (20000, 19, 19, 31)\n",
      "nbExamples = 20000\n"
     ]
    },
    {
     "name": "stdout",
     "output_type": "stream",
     "text": [
      "200/200 [==============================] - 45s 225ms/step - loss: 3.0724 - policy_loss: 2.3254 - value_loss: 0.6813 - policy_categorical_accuracy: 0.3930 - value_mse: 0.1137 - lr: 0.0100\n",
      "epoch 196\n"
     ]
    },
    {
     "name": "stderr",
     "output_type": "stream",
     "text": [
      "r.shape = (20000, 19, 19, 31)\n",
      "nbExamples = 20000\n"
     ]
    },
    {
     "name": "stdout",
     "output_type": "stream",
     "text": [
      "200/200 [==============================] - 45s 224ms/step - loss: 3.0877 - policy_loss: 2.3401 - value_loss: 0.6818 - policy_categorical_accuracy: 0.3959 - value_mse: 0.1146 - lr: 0.0100\n",
      "epoch 197\n"
     ]
    },
    {
     "name": "stderr",
     "output_type": "stream",
     "text": [
      "r.shape = (20000, 19, 19, 31)\n",
      "nbExamples = 20000\n"
     ]
    },
    {
     "name": "stdout",
     "output_type": "stream",
     "text": [
      "200/200 [==============================] - 45s 224ms/step - loss: 3.0754 - policy_loss: 2.3286 - value_loss: 0.6811 - policy_categorical_accuracy: 0.4016 - value_mse: 0.1133 - lr: 0.0100\n",
      "epoch 198\n"
     ]
    },
    {
     "name": "stderr",
     "output_type": "stream",
     "text": [
      "r.shape = (20000, 19, 19, 31)\n",
      "nbExamples = 20000\n"
     ]
    },
    {
     "name": "stdout",
     "output_type": "stream",
     "text": [
      "200/200 [==============================] - 44s 222ms/step - loss: 3.0817 - policy_loss: 2.3373 - value_loss: 0.6786 - policy_categorical_accuracy: 0.4074 - value_mse: 0.1124 - lr: 0.0100\n",
      "epoch 199\n"
     ]
    },
    {
     "name": "stderr",
     "output_type": "stream",
     "text": [
      "r.shape = (20000, 19, 19, 31)\n",
      "nbExamples = 20000\n"
     ]
    },
    {
     "name": "stdout",
     "output_type": "stream",
     "text": [
      "200/200 [==============================] - 44s 222ms/step - loss: 3.0671 - policy_loss: 2.3206 - value_loss: 0.6808 - policy_categorical_accuracy: 0.4041 - value_mse: 0.1125 - lr: 0.0100\n",
      "epoch 200\n"
     ]
    },
    {
     "name": "stderr",
     "output_type": "stream",
     "text": [
      "r.shape = (20000, 19, 19, 31)\n",
      "nbExamples = 20000\n"
     ]
    },
    {
     "name": "stdout",
     "output_type": "stream",
     "text": [
      "200/200 [==============================] - 44s 221ms/step - loss: 3.0613 - policy_loss: 2.3159 - value_loss: 0.6796 - policy_categorical_accuracy: 0.4029 - value_mse: 0.1126 - lr: 0.0100\n"
     ]
    },
    {
     "name": "stderr",
     "output_type": "stream",
     "text": [
      "r.shape = (20000, 19, 19, 31)\n",
      "nbExamples = 20000\n"
     ]
    },
    {
     "name": "stdout",
     "output_type": "stream",
     "text": [
      "val = [3.0761635303497314, 2.3276774883270264, 0.6826831698417664, 0.40459999442100525, 0.11459622532129288]\n"
     ]
    }
   ],
   "source": [
    "callback = tf.keras.callbacks.LearningRateScheduler(scheduler)\n",
    "optimizer = keras.optimizers.SGD(lr=0.0005, momentum=0.9)\n",
    "\n",
    "model.compile(optimizer=optimizer,\n",
    "              loss={'policy': 'categorical_crossentropy', 'value': 'binary_crossentropy'},\n",
    "              loss_weights={'policy' : 1.0, 'value' : 1.0},\n",
    "              metrics={'policy': 'categorical_accuracy', 'value': 'mse'})\n",
    "\n",
    "for i in range (1, epochs + 1):\n",
    "    print ('epoch ' + str (i))\n",
    "    golois.getBatch (input_data, policy, value, end, groups, i * N)\n",
    "    history = model.fit(input_data,\n",
    "                        {'policy': policy, 'value': value},\n",
    "                        epochs=1, batch_size=batch, callbacks=[callback])\n",
    "    if (i % 5 == 0):\n",
    "        gc.collect ()\n",
    "    if (i % 20 == 0):\n",
    "        golois.getValidation (input_data, policy, value, end)\n",
    "        val = model.evaluate (input_data,\n",
    "                              [policy, value], verbose = 0, batch_size=batch)\n",
    "        print (\"val =\", val)\n",
    "        model.save ('arij.h5')\n"
   ]
  },
  {
   "cell_type": "code",
   "execution_count": 18,
   "metadata": {
    "execution": {
     "iopub.execute_input": "2023-07-30T19:06:06.045346Z",
     "iopub.status.busy": "2023-07-30T19:06:06.044765Z",
     "iopub.status.idle": "2023-07-30T19:06:06.050333Z",
     "shell.execute_reply": "2023-07-30T19:06:06.049451Z",
     "shell.execute_reply.started": "2023-07-30T19:06:06.045320Z"
    },
    "id": "Hp3OZ7SYZR6Q",
    "tags": []
   },
   "outputs": [
    {
     "name": "stdout",
     "output_type": "stream",
     "text": [
      "dict_values([[3.061296224594116], [2.31587815284729], [0.6796125769615173], [0.4028500020503998], [0.11259542405605316], [0.01]])\n"
     ]
    }
   ],
   "source": [
    "print(history.history.values())"
   ]
  },
  {
   "cell_type": "code",
   "execution_count": null,
   "metadata": {},
   "outputs": [],
   "source": [
    "import matplotlib.pyplot as plt"
   ]
  },
  {
   "cell_type": "markdown",
   "metadata": {},
   "source": [
    "Model 2:"
   ]
  },
  {
   "cell_type": "code",
   "execution_count": 19,
   "metadata": {
    "execution": {
     "iopub.execute_input": "2023-07-30T19:07:03.685123Z",
     "iopub.status.busy": "2023-07-30T19:07:03.684735Z",
     "iopub.status.idle": "2023-07-30T19:07:08.238131Z",
     "shell.execute_reply": "2023-07-30T19:07:08.237263Z",
     "shell.execute_reply.started": "2023-07-30T19:07:03.685099Z"
    },
    "tags": []
   },
   "outputs": [
    {
     "name": "stdout",
     "output_type": "stream",
     "text": [
      "getValidation\n"
     ]
    },
    {
     "name": "stderr",
     "output_type": "stream",
     "text": [
      "r.shape = (20000, 19, 19, 31)\n",
      "nbExamples = 20000\n"
     ]
    }
   ],
   "source": [
    "planes = 31\n",
    "moves = 361\n",
    "N = 20000\n",
    "epochs = 150\n",
    "batch = 512\n",
    "filters = 64\n",
    "\n",
    "input_data = np.random.randint(2, size=(N, 19, 19, planes))\n",
    "input_data = input_data.astype ('float32')\n",
    "\n",
    "policy = np.random.randint(moves, size=(N,))\n",
    "policy = keras.utils.to_categorical (policy)\n",
    "\n",
    "value = np.random.randint(2, size=(N,))\n",
    "value = value.astype ('float32')\n",
    "\n",
    "end = np.random.randint(2, size=(N, 19, 19, 2))\n",
    "end = end.astype ('float32')\n",
    "\n",
    "groups = np.zeros((N, 19, 19, 1))\n",
    "groups = groups.astype ('float32')\n",
    "\n",
    "print (\"getValidation\", flush = True)\n",
    "golois.getValidation (input_data, policy, value, end)\n"
   ]
  },
  {
   "cell_type": "code",
   "execution_count": 23,
   "metadata": {
    "execution": {
     "iopub.execute_input": "2023-07-30T19:09:04.655479Z",
     "iopub.status.busy": "2023-07-30T19:09:04.655088Z",
     "iopub.status.idle": "2023-07-30T19:09:05.328210Z",
     "shell.execute_reply": "2023-07-30T19:09:05.327458Z",
     "shell.execute_reply.started": "2023-07-30T19:09:04.655454Z"
    },
    "tags": []
   },
   "outputs": [
    {
     "name": "stdout",
     "output_type": "stream",
     "text": [
      "Model: \"model_1\"\n",
      "__________________________________________________________________________________________________\n",
      " Layer (type)                Output Shape                 Param #   Connected to                  \n",
      "==================================================================================================\n",
      " board (InputLayer)          [(None, 19, 19, 31)]         0         []                            \n",
      "                                                                                                  \n",
      " conv2d_16 (Conv2D)          (None, 19, 19, 64)           2048      ['board[0][0]']               \n",
      "                                                                                                  \n",
      " conv2d_17 (Conv2D)          (None, 19, 19, 96)           6144      ['conv2d_16[0][0]']           \n",
      "                                                                                                  \n",
      " batch_normalization_18 (Ba  (None, 19, 19, 96)           384       ['conv2d_17[0][0]']           \n",
      " tchNormalization)                                                                                \n",
      "                                                                                                  \n",
      " activation_12 (Activation)  (None, 19, 19, 96)           0         ['batch_normalization_18[0][0]\n",
      "                                                                    ']                            \n",
      "                                                                                                  \n",
      " depthwise_conv2d_6 (Depthw  (None, 19, 19, 96)           864       ['activation_12[0][0]']       \n",
      " iseConv2D)                                                                                       \n",
      "                                                                                                  \n",
      " batch_normalization_19 (Ba  (None, 19, 19, 96)           384       ['depthwise_conv2d_6[0][0]']  \n",
      " tchNormalization)                                                                                \n",
      "                                                                                                  \n",
      " activation_13 (Activation)  (None, 19, 19, 96)           0         ['batch_normalization_19[0][0]\n",
      "                                                                    ']                            \n",
      "                                                                                                  \n",
      " conv2d_18 (Conv2D)          (None, 19, 19, 64)           6144      ['activation_13[0][0]']       \n",
      "                                                                                                  \n",
      " batch_normalization_20 (Ba  (None, 19, 19, 64)           256       ['conv2d_18[0][0]']           \n",
      " tchNormalization)                                                                                \n",
      "                                                                                                  \n",
      " global_average_pooling2d_6  (None, 64)                   0         ['batch_normalization_20[0][0]\n",
      "  (GlobalAveragePooling2D)                                          ']                            \n",
      "                                                                                                  \n",
      " reshape_6 (Reshape)         (None, 1, 1, 64)             0         ['global_average_pooling2d_6[0\n",
      "                                                                    ][0]']                        \n",
      "                                                                                                  \n",
      " dense_11 (Dense)            (None, 1, 1, 1)              64        ['reshape_6[0][0]']           \n",
      "                                                                                                  \n",
      " dense_12 (Dense)            (None, 1, 1, 64)             64        ['dense_11[0][0]']            \n",
      "                                                                                                  \n",
      " multiply_5 (Multiply)       (None, 19, 19, 64)           0         ['batch_normalization_20[0][0]\n",
      "                                                                    ',                            \n",
      "                                                                     'dense_12[0][0]']            \n",
      "                                                                                                  \n",
      " add_5 (Add)                 (None, 19, 19, 64)           0         ['multiply_5[0][0]',          \n",
      "                                                                     'conv2d_16[0][0]']           \n",
      "                                                                                                  \n",
      " conv2d_19 (Conv2D)          (None, 19, 19, 96)           6144      ['add_5[0][0]']               \n",
      "                                                                                                  \n",
      " batch_normalization_21 (Ba  (None, 19, 19, 96)           384       ['conv2d_19[0][0]']           \n",
      " tchNormalization)                                                                                \n",
      "                                                                                                  \n",
      " activation_14 (Activation)  (None, 19, 19, 96)           0         ['batch_normalization_21[0][0]\n",
      "                                                                    ']                            \n",
      "                                                                                                  \n",
      " depthwise_conv2d_7 (Depthw  (None, 19, 19, 96)           864       ['activation_14[0][0]']       \n",
      " iseConv2D)                                                                                       \n",
      "                                                                                                  \n",
      " batch_normalization_22 (Ba  (None, 19, 19, 96)           384       ['depthwise_conv2d_7[0][0]']  \n",
      " tchNormalization)                                                                                \n",
      "                                                                                                  \n",
      " activation_15 (Activation)  (None, 19, 19, 96)           0         ['batch_normalization_22[0][0]\n",
      "                                                                    ']                            \n",
      "                                                                                                  \n",
      " conv2d_20 (Conv2D)          (None, 19, 19, 64)           6144      ['activation_15[0][0]']       \n",
      "                                                                                                  \n",
      " batch_normalization_23 (Ba  (None, 19, 19, 64)           256       ['conv2d_20[0][0]']           \n",
      " tchNormalization)                                                                                \n",
      "                                                                                                  \n",
      " global_average_pooling2d_7  (None, 64)                   0         ['batch_normalization_23[0][0]\n",
      "  (GlobalAveragePooling2D)                                          ']                            \n",
      "                                                                                                  \n",
      " reshape_7 (Reshape)         (None, 1, 1, 64)             0         ['global_average_pooling2d_7[0\n",
      "                                                                    ][0]']                        \n",
      "                                                                                                  \n",
      " dense_13 (Dense)            (None, 1, 1, 1)              64        ['reshape_7[0][0]']           \n",
      "                                                                                                  \n",
      " dense_14 (Dense)            (None, 1, 1, 64)             64        ['dense_13[0][0]']            \n",
      "                                                                                                  \n",
      " multiply_6 (Multiply)       (None, 19, 19, 64)           0         ['batch_normalization_23[0][0]\n",
      "                                                                    ',                            \n",
      "                                                                     'dense_14[0][0]']            \n",
      "                                                                                                  \n",
      " add_6 (Add)                 (None, 19, 19, 64)           0         ['multiply_6[0][0]',          \n",
      "                                                                     'add_5[0][0]']               \n",
      "                                                                                                  \n",
      " conv2d_21 (Conv2D)          (None, 19, 19, 96)           6144      ['add_6[0][0]']               \n",
      "                                                                                                  \n",
      " batch_normalization_24 (Ba  (None, 19, 19, 96)           384       ['conv2d_21[0][0]']           \n",
      " tchNormalization)                                                                                \n",
      "                                                                                                  \n",
      " activation_16 (Activation)  (None, 19, 19, 96)           0         ['batch_normalization_24[0][0]\n",
      "                                                                    ']                            \n",
      "                                                                                                  \n",
      " depthwise_conv2d_8 (Depthw  (None, 19, 19, 96)           864       ['activation_16[0][0]']       \n",
      " iseConv2D)                                                                                       \n",
      "                                                                                                  \n",
      " batch_normalization_25 (Ba  (None, 19, 19, 96)           384       ['depthwise_conv2d_8[0][0]']  \n",
      " tchNormalization)                                                                                \n",
      "                                                                                                  \n",
      " activation_17 (Activation)  (None, 19, 19, 96)           0         ['batch_normalization_25[0][0]\n",
      "                                                                    ']                            \n",
      "                                                                                                  \n",
      " conv2d_22 (Conv2D)          (None, 19, 19, 64)           6144      ['activation_17[0][0]']       \n",
      "                                                                                                  \n",
      " batch_normalization_26 (Ba  (None, 19, 19, 64)           256       ['conv2d_22[0][0]']           \n",
      " tchNormalization)                                                                                \n",
      "                                                                                                  \n",
      " global_average_pooling2d_8  (None, 64)                   0         ['batch_normalization_26[0][0]\n",
      "  (GlobalAveragePooling2D)                                          ']                            \n",
      "                                                                                                  \n",
      " reshape_8 (Reshape)         (None, 1, 1, 64)             0         ['global_average_pooling2d_8[0\n",
      "                                                                    ][0]']                        \n",
      "                                                                                                  \n",
      " dense_15 (Dense)            (None, 1, 1, 1)              64        ['reshape_8[0][0]']           \n",
      "                                                                                                  \n",
      " dense_16 (Dense)            (None, 1, 1, 64)             64        ['dense_15[0][0]']            \n",
      "                                                                                                  \n",
      " multiply_7 (Multiply)       (None, 19, 19, 64)           0         ['batch_normalization_26[0][0]\n",
      "                                                                    ',                            \n",
      "                                                                     'dense_16[0][0]']            \n",
      "                                                                                                  \n",
      " add_7 (Add)                 (None, 19, 19, 64)           0         ['multiply_7[0][0]',          \n",
      "                                                                     'add_6[0][0]']               \n",
      "                                                                                                  \n",
      " conv2d_23 (Conv2D)          (None, 19, 19, 96)           6144      ['add_7[0][0]']               \n",
      "                                                                                                  \n",
      " batch_normalization_27 (Ba  (None, 19, 19, 96)           384       ['conv2d_23[0][0]']           \n",
      " tchNormalization)                                                                                \n",
      "                                                                                                  \n",
      " activation_18 (Activation)  (None, 19, 19, 96)           0         ['batch_normalization_27[0][0]\n",
      "                                                                    ']                            \n",
      "                                                                                                  \n",
      " depthwise_conv2d_9 (Depthw  (None, 19, 19, 96)           864       ['activation_18[0][0]']       \n",
      " iseConv2D)                                                                                       \n",
      "                                                                                                  \n",
      " batch_normalization_28 (Ba  (None, 19, 19, 96)           384       ['depthwise_conv2d_9[0][0]']  \n",
      " tchNormalization)                                                                                \n",
      "                                                                                                  \n",
      " activation_19 (Activation)  (None, 19, 19, 96)           0         ['batch_normalization_28[0][0]\n",
      "                                                                    ']                            \n",
      "                                                                                                  \n",
      " conv2d_24 (Conv2D)          (None, 19, 19, 64)           6144      ['activation_19[0][0]']       \n",
      "                                                                                                  \n",
      " batch_normalization_29 (Ba  (None, 19, 19, 64)           256       ['conv2d_24[0][0]']           \n",
      " tchNormalization)                                                                                \n",
      "                                                                                                  \n",
      " global_average_pooling2d_9  (None, 64)                   0         ['batch_normalization_29[0][0]\n",
      "  (GlobalAveragePooling2D)                                          ']                            \n",
      "                                                                                                  \n",
      " reshape_9 (Reshape)         (None, 1, 1, 64)             0         ['global_average_pooling2d_9[0\n",
      "                                                                    ][0]']                        \n",
      "                                                                                                  \n",
      " dense_17 (Dense)            (None, 1, 1, 1)              64        ['reshape_9[0][0]']           \n",
      "                                                                                                  \n",
      " dense_18 (Dense)            (None, 1, 1, 64)             64        ['dense_17[0][0]']            \n",
      "                                                                                                  \n",
      " multiply_8 (Multiply)       (None, 19, 19, 64)           0         ['batch_normalization_29[0][0]\n",
      "                                                                    ',                            \n",
      "                                                                     'dense_18[0][0]']            \n",
      "                                                                                                  \n",
      " add_8 (Add)                 (None, 19, 19, 64)           0         ['multiply_8[0][0]',          \n",
      "                                                                     'add_7[0][0]']               \n",
      "                                                                                                  \n",
      " conv2d_25 (Conv2D)          (None, 19, 19, 96)           6144      ['add_8[0][0]']               \n",
      "                                                                                                  \n",
      " batch_normalization_30 (Ba  (None, 19, 19, 96)           384       ['conv2d_25[0][0]']           \n",
      " tchNormalization)                                                                                \n",
      "                                                                                                  \n",
      " activation_20 (Activation)  (None, 19, 19, 96)           0         ['batch_normalization_30[0][0]\n",
      "                                                                    ']                            \n",
      "                                                                                                  \n",
      " depthwise_conv2d_10 (Depth  (None, 19, 19, 96)           864       ['activation_20[0][0]']       \n",
      " wiseConv2D)                                                                                      \n",
      "                                                                                                  \n",
      " batch_normalization_31 (Ba  (None, 19, 19, 96)           384       ['depthwise_conv2d_10[0][0]'] \n",
      " tchNormalization)                                                                                \n",
      "                                                                                                  \n",
      " activation_21 (Activation)  (None, 19, 19, 96)           0         ['batch_normalization_31[0][0]\n",
      "                                                                    ']                            \n",
      "                                                                                                  \n",
      " conv2d_26 (Conv2D)          (None, 19, 19, 64)           6144      ['activation_21[0][0]']       \n",
      "                                                                                                  \n",
      " batch_normalization_32 (Ba  (None, 19, 19, 64)           256       ['conv2d_26[0][0]']           \n",
      " tchNormalization)                                                                                \n",
      "                                                                                                  \n",
      " global_average_pooling2d_1  (None, 64)                   0         ['batch_normalization_32[0][0]\n",
      " 0 (GlobalAveragePooling2D)                                         ']                            \n",
      "                                                                                                  \n",
      " reshape_10 (Reshape)        (None, 1, 1, 64)             0         ['global_average_pooling2d_10[\n",
      "                                                                    0][0]']                       \n",
      "                                                                                                  \n",
      " dense_19 (Dense)            (None, 1, 1, 1)              64        ['reshape_10[0][0]']          \n",
      "                                                                                                  \n",
      " dense_20 (Dense)            (None, 1, 1, 64)             64        ['dense_19[0][0]']            \n",
      "                                                                                                  \n",
      " multiply_9 (Multiply)       (None, 19, 19, 64)           0         ['batch_normalization_32[0][0]\n",
      "                                                                    ',                            \n",
      "                                                                     'dense_20[0][0]']            \n",
      "                                                                                                  \n",
      " add_9 (Add)                 (None, 19, 19, 64)           0         ['multiply_9[0][0]',          \n",
      "                                                                     'add_8[0][0]']               \n",
      "                                                                                                  \n",
      " conv2d_28 (Conv2D)          (None, 19, 19, 1)            64        ['add_9[0][0]']               \n",
      "                                                                                                  \n",
      " conv2d_27 (Conv2D)          (None, 19, 19, 1)            64        ['add_9[0][0]']               \n",
      "                                                                                                  \n",
      " flatten_3 (Flatten)         (None, 361)                  0         ['conv2d_28[0][0]']           \n",
      "                                                                                                  \n",
      " flatten_2 (Flatten)         (None, 361)                  0         ['conv2d_27[0][0]']           \n",
      "                                                                                                  \n",
      " dense_21 (Dense)            (None, 50)                   18100     ['flatten_3[0][0]']           \n",
      "                                                                                                  \n",
      " policy (Activation)         (None, 361)                  0         ['flatten_2[0][0]']           \n",
      "                                                                                                  \n",
      " value (Dense)               (None, 1)                    51        ['dense_21[0][0]']            \n",
      "                                                                                                  \n",
      "==================================================================================================\n",
      "Total params: 91847 (358.78 KB)\n",
      "Trainable params: 89287 (348.78 KB)\n",
      "Non-trainable params: 2560 (10.00 KB)\n",
      "__________________________________________________________________________________________________\n"
     ]
    }
   ],
   "source": [
    "\n",
    "\n",
    "input = keras.Input(shape=(19, 19, planes), name='board')\n",
    "x = layers.Conv2D(filters, 1, activation='relu', padding='same')(input)\n",
    "for i in range (5):\n",
    "    #x = layers.Conv2D(filters, 3, activation='relu', padding='same')(x)\n",
    "    x = bottleneck_block(x)\n",
    "policy_head = layers.Conv2D(1, 1, activation='relu', padding='same', use_bias = False, kernel_regularizer=regularizers.l2(0.0001))(x)\n",
    "policy_head = layers.Flatten()(policy_head)\n",
    "policy_head = layers.Activation('softmax', name='policy')(policy_head)\n",
    "\n",
    "value_head = layers.Conv2D(1, 1, activation='relu', padding='same', use_bias = False, kernel_regularizer=regularizers.l2(0.0001))(x)\n",
    "value_head = layers.Flatten()(value_head)\n",
    "value_head = layers.Dense(50, activation='relu', kernel_regularizer=regularizers.l2(0.0001))(value_head)\n",
    "value_head = layers.Dense(1, activation='sigmoid', name='value', kernel_regularizer=regularizers.l2(0.0001))(value_head)\n",
    "\n",
    "model = keras.Model(inputs=input, outputs=[policy_head, value_head])\n",
    "\n",
    "model.summary ()\n"
   ]
  },
  {
   "cell_type": "code",
   "execution_count": 24,
   "metadata": {
    "execution": {
     "iopub.execute_input": "2023-07-30T19:12:56.936038Z",
     "iopub.status.busy": "2023-07-30T19:12:56.935654Z",
     "iopub.status.idle": "2023-07-30T21:51:51.318134Z",
     "shell.execute_reply": "2023-07-30T21:51:51.317332Z",
     "shell.execute_reply.started": "2023-07-30T19:12:56.936012Z"
    },
    "tags": []
   },
   "outputs": [
    {
     "name": "stderr",
     "output_type": "stream",
     "text": [
      "WARNING:absl:`lr` is deprecated in Keras optimizer, please use `learning_rate` or use the legacy optimizer, e.g.,tf.keras.optimizers.legacy.SGD.\n",
      "r.shape = (20000, 19, 19, 31)\n",
      "nbExamples = 20000\n"
     ]
    },
    {
     "name": "stdout",
     "output_type": "stream",
     "text": [
      "epoch 1\n",
      "40/40 [==============================] - 54s 1s/step - loss: 5.5765 - policy_loss: 4.7649 - value_loss: 0.7256 - policy_categorical_accuracy: 0.0874 - value_mse: 0.1337\n",
      "epoch 2\n"
     ]
    },
    {
     "name": "stderr",
     "output_type": "stream",
     "text": [
      "r.shape = (20000, 19, 19, 31)\n",
      "nbExamples = 20000\n"
     ]
    },
    {
     "name": "stdout",
     "output_type": "stream",
     "text": [
      "40/40 [==============================] - 51s 1s/step - loss: 4.4457 - policy_loss: 3.6636 - value_loss: 0.6961 - policy_categorical_accuracy: 0.2046 - value_mse: 0.1212\n",
      "epoch 3\n"
     ]
    },
    {
     "name": "stderr",
     "output_type": "stream",
     "text": [
      "r.shape = (20000, 19, 19, 31)\n",
      "nbExamples = 20000\n"
     ]
    },
    {
     "name": "stdout",
     "output_type": "stream",
     "text": [
      "40/40 [==============================] - 50s 1s/step - loss: 4.2087 - policy_loss: 3.4291 - value_loss: 0.6936 - policy_categorical_accuracy: 0.2484 - value_mse: 0.1190\n",
      "epoch 4\n"
     ]
    },
    {
     "name": "stderr",
     "output_type": "stream",
     "text": [
      "r.shape = (20000, 19, 19, 31)\n",
      "nbExamples = 20000\n"
     ]
    },
    {
     "name": "stdout",
     "output_type": "stream",
     "text": [
      "40/40 [==============================] - 49s 1s/step - loss: 4.0716 - policy_loss: 3.2926 - value_loss: 0.6931 - policy_categorical_accuracy: 0.2675 - value_mse: 0.1193\n",
      "epoch 5\n"
     ]
    },
    {
     "name": "stderr",
     "output_type": "stream",
     "text": [
      "r.shape = (20000, 19, 19, 31)\n",
      "nbExamples = 20000\n"
     ]
    },
    {
     "name": "stdout",
     "output_type": "stream",
     "text": [
      "40/40 [==============================] - 49s 1s/step - loss: 3.9807 - policy_loss: 3.2018 - value_loss: 0.6931 - policy_categorical_accuracy: 0.2788 - value_mse: 0.1205\n",
      "epoch 6\n"
     ]
    },
    {
     "name": "stderr",
     "output_type": "stream",
     "text": [
      "r.shape = (20000, 19, 19, 31)\n",
      "nbExamples = 20000\n"
     ]
    },
    {
     "name": "stdout",
     "output_type": "stream",
     "text": [
      "40/40 [==============================] - 50s 1s/step - loss: 3.8925 - policy_loss: 3.1149 - value_loss: 0.6919 - policy_categorical_accuracy: 0.2905 - value_mse: 0.1193\n",
      "epoch 7\n"
     ]
    },
    {
     "name": "stderr",
     "output_type": "stream",
     "text": [
      "r.shape = (20000, 19, 19, 31)\n",
      "nbExamples = 20000\n"
     ]
    },
    {
     "name": "stdout",
     "output_type": "stream",
     "text": [
      "40/40 [==============================] - 49s 1s/step - loss: 3.8662 - policy_loss: 3.0891 - value_loss: 0.6913 - policy_categorical_accuracy: 0.2932 - value_mse: 0.1189\n",
      "epoch 8\n"
     ]
    },
    {
     "name": "stderr",
     "output_type": "stream",
     "text": [
      "r.shape = (20000, 19, 19, 31)\n",
      "nbExamples = 20000\n"
     ]
    },
    {
     "name": "stdout",
     "output_type": "stream",
     "text": [
      "40/40 [==============================] - 49s 1s/step - loss: 3.8235 - policy_loss: 3.0466 - value_loss: 0.6913 - policy_categorical_accuracy: 0.3002 - value_mse: 0.1178\n",
      "epoch 9\n"
     ]
    },
    {
     "name": "stderr",
     "output_type": "stream",
     "text": [
      "r.shape = (20000, 19, 19, 31)\n",
      "nbExamples = 20000\n"
     ]
    },
    {
     "name": "stdout",
     "output_type": "stream",
     "text": [
      "40/40 [==============================] - 49s 1s/step - loss: 3.7852 - policy_loss: 3.0077 - value_loss: 0.6919 - policy_categorical_accuracy: 0.3052 - value_mse: 0.1184\n",
      "epoch 10\n"
     ]
    },
    {
     "name": "stderr",
     "output_type": "stream",
     "text": [
      "r.shape = (20000, 19, 19, 31)\n",
      "nbExamples = 20000\n"
     ]
    },
    {
     "name": "stdout",
     "output_type": "stream",
     "text": [
      "40/40 [==============================] - 49s 1s/step - loss: 3.7501 - policy_loss: 2.9739 - value_loss: 0.6907 - policy_categorical_accuracy: 0.3086 - value_mse: 0.1186\n",
      "epoch 11\n"
     ]
    },
    {
     "name": "stderr",
     "output_type": "stream",
     "text": [
      "r.shape = (20000, 19, 19, 31)\n",
      "nbExamples = 20000\n"
     ]
    },
    {
     "name": "stdout",
     "output_type": "stream",
     "text": [
      "40/40 [==============================] - 49s 1s/step - loss: 3.7318 - policy_loss: 2.9561 - value_loss: 0.6903 - policy_categorical_accuracy: 0.3124 - value_mse: 0.1193\n",
      "epoch 12\n"
     ]
    },
    {
     "name": "stderr",
     "output_type": "stream",
     "text": [
      "r.shape = (20000, 19, 19, 31)\n",
      "nbExamples = 20000\n"
     ]
    },
    {
     "name": "stdout",
     "output_type": "stream",
     "text": [
      "40/40 [==============================] - 50s 1s/step - loss: 3.7461 - policy_loss: 2.9703 - value_loss: 0.6905 - policy_categorical_accuracy: 0.3158 - value_mse: 0.1187\n",
      "epoch 13\n"
     ]
    },
    {
     "name": "stderr",
     "output_type": "stream",
     "text": [
      "r.shape = (20000, 19, 19, 31)\n",
      "nbExamples = 20000\n"
     ]
    },
    {
     "name": "stdout",
     "output_type": "stream",
     "text": [
      "40/40 [==============================] - 50s 1s/step - loss: 3.7063 - policy_loss: 2.9303 - value_loss: 0.6907 - policy_categorical_accuracy: 0.3194 - value_mse: 0.1184\n",
      "epoch 14\n"
     ]
    },
    {
     "name": "stderr",
     "output_type": "stream",
     "text": [
      "r.shape = (20000, 19, 19, 31)\n",
      "nbExamples = 20000\n"
     ]
    },
    {
     "name": "stdout",
     "output_type": "stream",
     "text": [
      "40/40 [==============================] - 50s 1s/step - loss: 3.6566 - policy_loss: 2.8810 - value_loss: 0.6903 - policy_categorical_accuracy: 0.3264 - value_mse: 0.1177\n",
      "epoch 15\n"
     ]
    },
    {
     "name": "stderr",
     "output_type": "stream",
     "text": [
      "r.shape = (20000, 19, 19, 31)\n",
      "nbExamples = 20000\n"
     ]
    },
    {
     "name": "stdout",
     "output_type": "stream",
     "text": [
      "40/40 [==============================] - 50s 1s/step - loss: 3.6432 - policy_loss: 2.8691 - value_loss: 0.6889 - policy_categorical_accuracy: 0.3251 - value_mse: 0.1172\n",
      "epoch 16\n"
     ]
    },
    {
     "name": "stderr",
     "output_type": "stream",
     "text": [
      "r.shape = (20000, 19, 19, 31)\n",
      "nbExamples = 20000\n"
     ]
    },
    {
     "name": "stdout",
     "output_type": "stream",
     "text": [
      "40/40 [==============================] - 50s 1s/step - loss: 3.6453 - policy_loss: 2.8715 - value_loss: 0.6887 - policy_categorical_accuracy: 0.3284 - value_mse: 0.1169\n",
      "epoch 17\n"
     ]
    },
    {
     "name": "stderr",
     "output_type": "stream",
     "text": [
      "r.shape = (20000, 19, 19, 31)\n",
      "nbExamples = 20000\n"
     ]
    },
    {
     "name": "stdout",
     "output_type": "stream",
     "text": [
      "40/40 [==============================] - 50s 1s/step - loss: 3.6323 - policy_loss: 2.8575 - value_loss: 0.6898 - policy_categorical_accuracy: 0.3293 - value_mse: 0.1175\n",
      "epoch 18\n"
     ]
    },
    {
     "name": "stderr",
     "output_type": "stream",
     "text": [
      "r.shape = (20000, 19, 19, 31)\n",
      "nbExamples = 20000\n"
     ]
    },
    {
     "name": "stdout",
     "output_type": "stream",
     "text": [
      "40/40 [==============================] - 50s 1s/step - loss: 3.6217 - policy_loss: 2.8484 - value_loss: 0.6884 - policy_categorical_accuracy: 0.3295 - value_mse: 0.1185\n",
      "epoch 19\n"
     ]
    },
    {
     "name": "stderr",
     "output_type": "stream",
     "text": [
      "r.shape = (20000, 19, 19, 31)\n",
      "nbExamples = 20000\n"
     ]
    },
    {
     "name": "stdout",
     "output_type": "stream",
     "text": [
      "40/40 [==============================] - 49s 1s/step - loss: 3.6420 - policy_loss: 2.8688 - value_loss: 0.6884 - policy_categorical_accuracy: 0.3207 - value_mse: 0.1178\n",
      "epoch 20\n"
     ]
    },
    {
     "name": "stderr",
     "output_type": "stream",
     "text": [
      "r.shape = (20000, 19, 19, 31)\n",
      "nbExamples = 20000\n"
     ]
    },
    {
     "name": "stdout",
     "output_type": "stream",
     "text": [
      "40/40 [==============================] - 50s 1s/step - loss: 3.6223 - policy_loss: 2.8491 - value_loss: 0.6885 - policy_categorical_accuracy: 0.3304 - value_mse: 0.1164\n"
     ]
    },
    {
     "name": "stderr",
     "output_type": "stream",
     "text": [
      "r.shape = (20000, 19, 19, 31)\n",
      "nbExamples = 20000\n"
     ]
    },
    {
     "name": "stdout",
     "output_type": "stream",
     "text": [
      "val = [3.5931320190429688, 2.8196065425872803, 0.6888090968132019, 0.33730000257492065, 0.11760163307189941]\n",
      "epoch 21\n"
     ]
    },
    {
     "name": "stderr",
     "output_type": "stream",
     "text": [
      "/opt/saturncloud/envs/saturn/lib/python3.9/site-packages/keras/src/engine/training.py:3000: UserWarning: You are saving your model as an HDF5 file via `model.save()`. This file format is considered legacy. We recommend using instead the native Keras format, e.g. `model.save('my_model.keras')`.\n",
      "  saving_api.save_model(\n",
      "r.shape = (20000, 19, 19, 31)\n",
      "nbExamples = 20000\n"
     ]
    },
    {
     "name": "stdout",
     "output_type": "stream",
     "text": [
      "40/40 [==============================] - 50s 1s/step - loss: 3.5890 - policy_loss: 2.8161 - value_loss: 0.6882 - policy_categorical_accuracy: 0.3315 - value_mse: 0.1183\n",
      "epoch 22\n"
     ]
    },
    {
     "name": "stderr",
     "output_type": "stream",
     "text": [
      "r.shape = (20000, 19, 19, 31)\n",
      "nbExamples = 20000\n"
     ]
    },
    {
     "name": "stdout",
     "output_type": "stream",
     "text": [
      "40/40 [==============================] - 49s 1s/step - loss: 3.5790 - policy_loss: 2.8056 - value_loss: 0.6888 - policy_categorical_accuracy: 0.3325 - value_mse: 0.1177\n",
      "epoch 23\n"
     ]
    },
    {
     "name": "stderr",
     "output_type": "stream",
     "text": [
      "r.shape = (20000, 19, 19, 31)\n",
      "nbExamples = 20000\n"
     ]
    },
    {
     "name": "stdout",
     "output_type": "stream",
     "text": [
      "40/40 [==============================] - 50s 1s/step - loss: 3.5654 - policy_loss: 2.7929 - value_loss: 0.6880 - policy_categorical_accuracy: 0.3391 - value_mse: 0.1178\n",
      "epoch 24\n"
     ]
    },
    {
     "name": "stderr",
     "output_type": "stream",
     "text": [
      "r.shape = (20000, 19, 19, 31)\n",
      "nbExamples = 20000\n"
     ]
    },
    {
     "name": "stdout",
     "output_type": "stream",
     "text": [
      "40/40 [==============================] - 50s 1s/step - loss: 3.5797 - policy_loss: 2.8066 - value_loss: 0.6887 - policy_categorical_accuracy: 0.3332 - value_mse: 0.1180\n",
      "epoch 25\n"
     ]
    },
    {
     "name": "stderr",
     "output_type": "stream",
     "text": [
      "r.shape = (20000, 19, 19, 31)\n",
      "nbExamples = 20000\n"
     ]
    },
    {
     "name": "stdout",
     "output_type": "stream",
     "text": [
      "40/40 [==============================] - 50s 1s/step - loss: 3.5458 - policy_loss: 2.7739 - value_loss: 0.6876 - policy_categorical_accuracy: 0.3406 - value_mse: 0.1176\n",
      "epoch 26\n"
     ]
    },
    {
     "name": "stderr",
     "output_type": "stream",
     "text": [
      "r.shape = (20000, 19, 19, 31)\n",
      "nbExamples = 20000\n"
     ]
    },
    {
     "name": "stdout",
     "output_type": "stream",
     "text": [
      "40/40 [==============================] - 49s 1s/step - loss: 3.5722 - policy_loss: 2.7994 - value_loss: 0.6886 - policy_categorical_accuracy: 0.3345 - value_mse: 0.1168\n",
      "epoch 27\n"
     ]
    },
    {
     "name": "stderr",
     "output_type": "stream",
     "text": [
      "r.shape = (20000, 19, 19, 31)\n",
      "nbExamples = 20000\n"
     ]
    },
    {
     "name": "stdout",
     "output_type": "stream",
     "text": [
      "40/40 [==============================] - 50s 1s/step - loss: 3.5636 - policy_loss: 2.7917 - value_loss: 0.6876 - policy_categorical_accuracy: 0.3380 - value_mse: 0.1165\n",
      "epoch 28\n"
     ]
    },
    {
     "name": "stderr",
     "output_type": "stream",
     "text": [
      "r.shape = (20000, 19, 19, 31)\n",
      "nbExamples = 20000\n"
     ]
    },
    {
     "name": "stdout",
     "output_type": "stream",
     "text": [
      "40/40 [==============================] - 49s 1s/step - loss: 3.5335 - policy_loss: 2.7610 - value_loss: 0.6884 - policy_categorical_accuracy: 0.3426 - value_mse: 0.1186\n",
      "epoch 29\n"
     ]
    },
    {
     "name": "stderr",
     "output_type": "stream",
     "text": [
      "r.shape = (20000, 19, 19, 31)\n",
      "nbExamples = 20000\n"
     ]
    },
    {
     "name": "stdout",
     "output_type": "stream",
     "text": [
      "40/40 [==============================] - 49s 1s/step - loss: 3.5416 - policy_loss: 2.7702 - value_loss: 0.6874 - policy_categorical_accuracy: 0.3408 - value_mse: 0.1171\n",
      "epoch 30\n"
     ]
    },
    {
     "name": "stderr",
     "output_type": "stream",
     "text": [
      "r.shape = (20000, 19, 19, 31)\n",
      "nbExamples = 20000\n"
     ]
    },
    {
     "name": "stdout",
     "output_type": "stream",
     "text": [
      "40/40 [==============================] - 49s 1s/step - loss: 3.5360 - policy_loss: 2.7644 - value_loss: 0.6876 - policy_categorical_accuracy: 0.3386 - value_mse: 0.1166\n",
      "epoch 31\n"
     ]
    },
    {
     "name": "stderr",
     "output_type": "stream",
     "text": [
      "r.shape = (20000, 19, 19, 31)\n",
      "nbExamples = 20000\n"
     ]
    },
    {
     "name": "stdout",
     "output_type": "stream",
     "text": [
      "40/40 [==============================] - 49s 1s/step - loss: 3.5301 - policy_loss: 2.7592 - value_loss: 0.6870 - policy_categorical_accuracy: 0.3381 - value_mse: 0.1165\n",
      "epoch 32\n"
     ]
    },
    {
     "name": "stderr",
     "output_type": "stream",
     "text": [
      "r.shape = (20000, 19, 19, 31)\n",
      "nbExamples = 20000\n"
     ]
    },
    {
     "name": "stdout",
     "output_type": "stream",
     "text": [
      "40/40 [==============================] - 49s 1s/step - loss: 3.5366 - policy_loss: 2.7639 - value_loss: 0.6889 - policy_categorical_accuracy: 0.3390 - value_mse: 0.1189\n",
      "epoch 33\n"
     ]
    },
    {
     "name": "stderr",
     "output_type": "stream",
     "text": [
      "r.shape = (20000, 19, 19, 31)\n",
      "nbExamples = 20000\n"
     ]
    },
    {
     "name": "stdout",
     "output_type": "stream",
     "text": [
      "40/40 [==============================] - 49s 1s/step - loss: 3.5215 - policy_loss: 2.7507 - value_loss: 0.6871 - policy_categorical_accuracy: 0.3422 - value_mse: 0.1159\n",
      "epoch 34\n"
     ]
    },
    {
     "name": "stderr",
     "output_type": "stream",
     "text": [
      "r.shape = (20000, 19, 19, 31)\n",
      "nbExamples = 20000\n"
     ]
    },
    {
     "name": "stdout",
     "output_type": "stream",
     "text": [
      "40/40 [==============================] - 49s 1s/step - loss: 3.5042 - policy_loss: 2.7332 - value_loss: 0.6873 - policy_categorical_accuracy: 0.3424 - value_mse: 0.1184\n",
      "epoch 35\n"
     ]
    },
    {
     "name": "stderr",
     "output_type": "stream",
     "text": [
      "r.shape = (20000, 19, 19, 31)\n",
      "nbExamples = 20000\n"
     ]
    },
    {
     "name": "stdout",
     "output_type": "stream",
     "text": [
      "40/40 [==============================] - 49s 1s/step - loss: 3.5319 - policy_loss: 2.7620 - value_loss: 0.6864 - policy_categorical_accuracy: 0.3418 - value_mse: 0.1166\n",
      "epoch 36\n"
     ]
    },
    {
     "name": "stderr",
     "output_type": "stream",
     "text": [
      "r.shape = (20000, 19, 19, 31)\n",
      "nbExamples = 20000\n"
     ]
    },
    {
     "name": "stdout",
     "output_type": "stream",
     "text": [
      "40/40 [==============================] - 49s 1s/step - loss: 3.5178 - policy_loss: 2.7464 - value_loss: 0.6879 - policy_categorical_accuracy: 0.3445 - value_mse: 0.1170\n",
      "epoch 37\n"
     ]
    },
    {
     "name": "stderr",
     "output_type": "stream",
     "text": [
      "r.shape = (20000, 19, 19, 31)\n",
      "nbExamples = 20000\n"
     ]
    },
    {
     "name": "stdout",
     "output_type": "stream",
     "text": [
      "40/40 [==============================] - 49s 1s/step - loss: 3.4770 - policy_loss: 2.7061 - value_loss: 0.6874 - policy_categorical_accuracy: 0.3485 - value_mse: 0.1163\n",
      "epoch 38\n"
     ]
    },
    {
     "name": "stderr",
     "output_type": "stream",
     "text": [
      "r.shape = (20000, 19, 19, 31)\n",
      "nbExamples = 20000\n"
     ]
    },
    {
     "name": "stdout",
     "output_type": "stream",
     "text": [
      "40/40 [==============================] - 49s 1s/step - loss: 3.5203 - policy_loss: 2.7491 - value_loss: 0.6878 - policy_categorical_accuracy: 0.3404 - value_mse: 0.1156\n",
      "epoch 39\n"
     ]
    },
    {
     "name": "stderr",
     "output_type": "stream",
     "text": [
      "r.shape = (20000, 19, 19, 31)\n",
      "nbExamples = 20000\n"
     ]
    },
    {
     "name": "stdout",
     "output_type": "stream",
     "text": [
      "40/40 [==============================] - 49s 1s/step - loss: 3.4879 - policy_loss: 2.7178 - value_loss: 0.6867 - policy_categorical_accuracy: 0.3460 - value_mse: 0.1169\n",
      "epoch 40\n"
     ]
    },
    {
     "name": "stderr",
     "output_type": "stream",
     "text": [
      "r.shape = (20000, 19, 19, 31)\n",
      "nbExamples = 20000\n"
     ]
    },
    {
     "name": "stdout",
     "output_type": "stream",
     "text": [
      "40/40 [==============================] - 49s 1s/step - loss: 3.4770 - policy_loss: 2.7063 - value_loss: 0.6875 - policy_categorical_accuracy: 0.3467 - value_mse: 0.1161\n"
     ]
    },
    {
     "name": "stderr",
     "output_type": "stream",
     "text": [
      "r.shape = (20000, 19, 19, 31)\n",
      "nbExamples = 20000\n"
     ]
    },
    {
     "name": "stdout",
     "output_type": "stream",
     "text": [
      "val = [3.4921863079071045, 2.7210147380828857, 0.6879683136940002, 0.3467499911785126, 0.11718183755874634]\n",
      "epoch 41\n"
     ]
    },
    {
     "name": "stderr",
     "output_type": "stream",
     "text": [
      "r.shape = (20000, 19, 19, 31)\n",
      "nbExamples = 20000\n"
     ]
    },
    {
     "name": "stdout",
     "output_type": "stream",
     "text": [
      "40/40 [==============================] - 49s 1s/step - loss: 3.5061 - policy_loss: 2.7355 - value_loss: 0.6875 - policy_categorical_accuracy: 0.3415 - value_mse: 0.1161\n",
      "epoch 42\n"
     ]
    },
    {
     "name": "stderr",
     "output_type": "stream",
     "text": [
      "r.shape = (20000, 19, 19, 31)\n",
      "nbExamples = 20000\n"
     ]
    },
    {
     "name": "stdout",
     "output_type": "stream",
     "text": [
      "40/40 [==============================] - 49s 1s/step - loss: 3.4820 - policy_loss: 2.7109 - value_loss: 0.6880 - policy_categorical_accuracy: 0.3478 - value_mse: 0.1163\n",
      "epoch 43\n"
     ]
    },
    {
     "name": "stderr",
     "output_type": "stream",
     "text": [
      "r.shape = (20000, 19, 19, 31)\n",
      "nbExamples = 20000\n"
     ]
    },
    {
     "name": "stdout",
     "output_type": "stream",
     "text": [
      "40/40 [==============================] - 49s 1s/step - loss: 3.4814 - policy_loss: 2.7112 - value_loss: 0.6872 - policy_categorical_accuracy: 0.3476 - value_mse: 0.1163\n",
      "epoch 44\n"
     ]
    },
    {
     "name": "stderr",
     "output_type": "stream",
     "text": [
      "r.shape = (20000, 19, 19, 31)\n",
      "nbExamples = 20000\n"
     ]
    },
    {
     "name": "stdout",
     "output_type": "stream",
     "text": [
      "40/40 [==============================] - 49s 1s/step - loss: 3.4709 - policy_loss: 2.7020 - value_loss: 0.6859 - policy_categorical_accuracy: 0.3473 - value_mse: 0.1167\n",
      "epoch 45\n"
     ]
    },
    {
     "name": "stderr",
     "output_type": "stream",
     "text": [
      "r.shape = (20000, 19, 19, 31)\n",
      "nbExamples = 20000\n"
     ]
    },
    {
     "name": "stdout",
     "output_type": "stream",
     "text": [
      "40/40 [==============================] - 49s 1s/step - loss: 3.4746 - policy_loss: 2.7056 - value_loss: 0.6862 - policy_categorical_accuracy: 0.3454 - value_mse: 0.1172\n",
      "epoch 46\n"
     ]
    },
    {
     "name": "stderr",
     "output_type": "stream",
     "text": [
      "r.shape = (20000, 19, 19, 31)\n",
      "nbExamples = 20000\n"
     ]
    },
    {
     "name": "stdout",
     "output_type": "stream",
     "text": [
      "40/40 [==============================] - 49s 1s/step - loss: 3.4765 - policy_loss: 2.7065 - value_loss: 0.6872 - policy_categorical_accuracy: 0.3509 - value_mse: 0.1168\n",
      "epoch 47\n"
     ]
    },
    {
     "name": "stderr",
     "output_type": "stream",
     "text": [
      "r.shape = (20000, 19, 19, 31)\n",
      "nbExamples = 20000\n"
     ]
    },
    {
     "name": "stdout",
     "output_type": "stream",
     "text": [
      "40/40 [==============================] - 49s 1s/step - loss: 3.4704 - policy_loss: 2.7013 - value_loss: 0.6864 - policy_categorical_accuracy: 0.3471 - value_mse: 0.1168\n",
      "epoch 48\n"
     ]
    },
    {
     "name": "stderr",
     "output_type": "stream",
     "text": [
      "r.shape = (20000, 19, 19, 31)\n",
      "nbExamples = 20000\n"
     ]
    },
    {
     "name": "stdout",
     "output_type": "stream",
     "text": [
      "40/40 [==============================] - 49s 1s/step - loss: 3.4519 - policy_loss: 2.6819 - value_loss: 0.6873 - policy_categorical_accuracy: 0.3514 - value_mse: 0.1173\n",
      "epoch 49\n"
     ]
    },
    {
     "name": "stderr",
     "output_type": "stream",
     "text": [
      "r.shape = (20000, 19, 19, 31)\n",
      "nbExamples = 20000\n"
     ]
    },
    {
     "name": "stdout",
     "output_type": "stream",
     "text": [
      "40/40 [==============================] - 49s 1s/step - loss: 3.4690 - policy_loss: 2.6990 - value_loss: 0.6874 - policy_categorical_accuracy: 0.3456 - value_mse: 0.1175\n",
      "epoch 50\n"
     ]
    },
    {
     "name": "stderr",
     "output_type": "stream",
     "text": [
      "r.shape = (20000, 19, 19, 31)\n",
      "nbExamples = 20000\n"
     ]
    },
    {
     "name": "stdout",
     "output_type": "stream",
     "text": [
      "40/40 [==============================] - 49s 1s/step - loss: 3.4549 - policy_loss: 2.6850 - value_loss: 0.6874 - policy_categorical_accuracy: 0.3492 - value_mse: 0.1171\n",
      "epoch 51\n"
     ]
    },
    {
     "name": "stderr",
     "output_type": "stream",
     "text": [
      "r.shape = (20000, 19, 19, 31)\n",
      "nbExamples = 20000\n"
     ]
    },
    {
     "name": "stdout",
     "output_type": "stream",
     "text": [
      "40/40 [==============================] - 49s 1s/step - loss: 3.4486 - policy_loss: 2.6784 - value_loss: 0.6877 - policy_categorical_accuracy: 0.3514 - value_mse: 0.1170\n",
      "epoch 52\n"
     ]
    },
    {
     "name": "stderr",
     "output_type": "stream",
     "text": [
      "r.shape = (20000, 19, 19, 31)\n",
      "nbExamples = 20000\n"
     ]
    },
    {
     "name": "stdout",
     "output_type": "stream",
     "text": [
      "40/40 [==============================] - 49s 1s/step - loss: 3.4439 - policy_loss: 2.6744 - value_loss: 0.6872 - policy_categorical_accuracy: 0.3484 - value_mse: 0.1159\n",
      "epoch 53\n"
     ]
    },
    {
     "name": "stderr",
     "output_type": "stream",
     "text": [
      "r.shape = (20000, 19, 19, 31)\n",
      "nbExamples = 20000\n"
     ]
    },
    {
     "name": "stdout",
     "output_type": "stream",
     "text": [
      "40/40 [==============================] - 49s 1s/step - loss: 3.4429 - policy_loss: 2.6743 - value_loss: 0.6864 - policy_categorical_accuracy: 0.3507 - value_mse: 0.1169\n",
      "epoch 54\n"
     ]
    },
    {
     "name": "stderr",
     "output_type": "stream",
     "text": [
      "r.shape = (20000, 19, 19, 31)\n",
      "nbExamples = 20000\n"
     ]
    },
    {
     "name": "stdout",
     "output_type": "stream",
     "text": [
      "40/40 [==============================] - 50s 1s/step - loss: 3.4323 - policy_loss: 2.6627 - value_loss: 0.6874 - policy_categorical_accuracy: 0.3530 - value_mse: 0.1177\n",
      "epoch 55\n"
     ]
    },
    {
     "name": "stderr",
     "output_type": "stream",
     "text": [
      "r.shape = (20000, 19, 19, 31)\n",
      "nbExamples = 20000\n"
     ]
    },
    {
     "name": "stdout",
     "output_type": "stream",
     "text": [
      "40/40 [==============================] - 51s 1s/step - loss: 3.4369 - policy_loss: 2.6682 - value_loss: 0.6866 - policy_categorical_accuracy: 0.3532 - value_mse: 0.1151\n",
      "epoch 56\n"
     ]
    },
    {
     "name": "stderr",
     "output_type": "stream",
     "text": [
      "r.shape = (20000, 19, 19, 31)\n",
      "nbExamples = 20000\n"
     ]
    },
    {
     "name": "stdout",
     "output_type": "stream",
     "text": [
      "40/40 [==============================] - 50s 1s/step - loss: 3.4285 - policy_loss: 2.6592 - value_loss: 0.6873 - policy_categorical_accuracy: 0.3518 - value_mse: 0.1169\n",
      "epoch 57\n"
     ]
    },
    {
     "name": "stderr",
     "output_type": "stream",
     "text": [
      "r.shape = (20000, 19, 19, 31)\n",
      "nbExamples = 20000\n"
     ]
    },
    {
     "name": "stdout",
     "output_type": "stream",
     "text": [
      "40/40 [==============================] - 51s 1s/step - loss: 3.4211 - policy_loss: 2.6519 - value_loss: 0.6873 - policy_categorical_accuracy: 0.3559 - value_mse: 0.1165\n",
      "epoch 58\n"
     ]
    },
    {
     "name": "stderr",
     "output_type": "stream",
     "text": [
      "r.shape = (20000, 19, 19, 31)\n",
      "nbExamples = 20000\n"
     ]
    },
    {
     "name": "stdout",
     "output_type": "stream",
     "text": [
      "40/40 [==============================] - 51s 1s/step - loss: 3.4090 - policy_loss: 2.6408 - value_loss: 0.6863 - policy_categorical_accuracy: 0.3589 - value_mse: 0.1176\n",
      "epoch 59\n"
     ]
    },
    {
     "name": "stderr",
     "output_type": "stream",
     "text": [
      "r.shape = (20000, 19, 19, 31)\n",
      "nbExamples = 20000\n"
     ]
    },
    {
     "name": "stdout",
     "output_type": "stream",
     "text": [
      "40/40 [==============================] - 51s 1s/step - loss: 3.4321 - policy_loss: 2.6631 - value_loss: 0.6872 - policy_categorical_accuracy: 0.3521 - value_mse: 0.1148\n",
      "epoch 60\n"
     ]
    },
    {
     "name": "stderr",
     "output_type": "stream",
     "text": [
      "r.shape = (20000, 19, 19, 31)\n",
      "nbExamples = 20000\n"
     ]
    },
    {
     "name": "stdout",
     "output_type": "stream",
     "text": [
      "40/40 [==============================] - 50s 1s/step - loss: 3.4292 - policy_loss: 2.6606 - value_loss: 0.6869 - policy_categorical_accuracy: 0.3532 - value_mse: 0.1159\n"
     ]
    },
    {
     "name": "stderr",
     "output_type": "stream",
     "text": [
      "r.shape = (20000, 19, 19, 31)\n",
      "nbExamples = 20000\n"
     ]
    },
    {
     "name": "stdout",
     "output_type": "stream",
     "text": [
      "val = [3.4384851455688477, 2.669893264770508, 0.6868895292282104, 0.35420000553131104, 0.11664979159832001]\n",
      "epoch 61\n"
     ]
    },
    {
     "name": "stderr",
     "output_type": "stream",
     "text": [
      "r.shape = (20000, 19, 19, 31)\n",
      "nbExamples = 20000\n"
     ]
    },
    {
     "name": "stdout",
     "output_type": "stream",
     "text": [
      "40/40 [==============================] - 51s 1s/step - loss: 3.4147 - policy_loss: 2.6466 - value_loss: 0.6864 - policy_categorical_accuracy: 0.3564 - value_mse: 0.1161\n",
      "epoch 62\n"
     ]
    },
    {
     "name": "stderr",
     "output_type": "stream",
     "text": [
      "r.shape = (20000, 19, 19, 31)\n",
      "nbExamples = 20000\n"
     ]
    },
    {
     "name": "stdout",
     "output_type": "stream",
     "text": [
      "40/40 [==============================] - 51s 1s/step - loss: 3.4116 - policy_loss: 2.6436 - value_loss: 0.6864 - policy_categorical_accuracy: 0.3566 - value_mse: 0.1169\n",
      "epoch 63\n"
     ]
    },
    {
     "name": "stderr",
     "output_type": "stream",
     "text": [
      "r.shape = (20000, 19, 19, 31)\n",
      "nbExamples = 20000\n"
     ]
    },
    {
     "name": "stdout",
     "output_type": "stream",
     "text": [
      "40/40 [==============================] - 51s 1s/step - loss: 3.3954 - policy_loss: 2.6264 - value_loss: 0.6875 - policy_categorical_accuracy: 0.3627 - value_mse: 0.1161\n",
      "epoch 64\n"
     ]
    },
    {
     "name": "stderr",
     "output_type": "stream",
     "text": [
      "r.shape = (20000, 19, 19, 31)\n",
      "nbExamples = 20000\n"
     ]
    },
    {
     "name": "stdout",
     "output_type": "stream",
     "text": [
      "40/40 [==============================] - 51s 1s/step - loss: 3.4072 - policy_loss: 2.6390 - value_loss: 0.6868 - policy_categorical_accuracy: 0.3597 - value_mse: 0.1166\n",
      "epoch 65\n"
     ]
    },
    {
     "name": "stderr",
     "output_type": "stream",
     "text": [
      "r.shape = (20000, 19, 19, 31)\n",
      "nbExamples = 20000\n"
     ]
    },
    {
     "name": "stdout",
     "output_type": "stream",
     "text": [
      "40/40 [==============================] - 52s 1s/step - loss: 3.3950 - policy_loss: 2.6274 - value_loss: 0.6862 - policy_categorical_accuracy: 0.3601 - value_mse: 0.1170\n",
      "epoch 66\n"
     ]
    },
    {
     "name": "stderr",
     "output_type": "stream",
     "text": [
      "r.shape = (20000, 19, 19, 31)\n",
      "nbExamples = 20000\n"
     ]
    },
    {
     "name": "stdout",
     "output_type": "stream",
     "text": [
      "40/40 [==============================] - 51s 1s/step - loss: 3.3971 - policy_loss: 2.6287 - value_loss: 0.6871 - policy_categorical_accuracy: 0.3595 - value_mse: 0.1171\n",
      "epoch 67\n"
     ]
    },
    {
     "name": "stderr",
     "output_type": "stream",
     "text": [
      "r.shape = (20000, 19, 19, 31)\n",
      "nbExamples = 20000\n"
     ]
    },
    {
     "name": "stdout",
     "output_type": "stream",
     "text": [
      "40/40 [==============================] - 51s 1s/step - loss: 3.3857 - policy_loss: 2.6174 - value_loss: 0.6871 - policy_categorical_accuracy: 0.3598 - value_mse: 0.1157\n",
      "epoch 69\n"
     ]
    },
    {
     "name": "stderr",
     "output_type": "stream",
     "text": [
      "r.shape = (20000, 19, 19, 31)\n",
      "nbExamples = 20000\n"
     ]
    },
    {
     "name": "stdout",
     "output_type": "stream",
     "text": [
      "40/40 [==============================] - 51s 1s/step - loss: 3.4103 - policy_loss: 2.6430 - value_loss: 0.6862 - policy_categorical_accuracy: 0.3556 - value_mse: 0.1153\n",
      "epoch 70\n"
     ]
    },
    {
     "name": "stderr",
     "output_type": "stream",
     "text": [
      "r.shape = (20000, 19, 19, 31)\n",
      "nbExamples = 20000\n"
     ]
    },
    {
     "name": "stdout",
     "output_type": "stream",
     "text": [
      "40/40 [==============================] - 51s 1s/step - loss: 3.3844 - policy_loss: 2.6161 - value_loss: 0.6874 - policy_categorical_accuracy: 0.3619 - value_mse: 0.1175\n",
      "epoch 71\n"
     ]
    },
    {
     "name": "stderr",
     "output_type": "stream",
     "text": [
      "r.shape = (20000, 19, 19, 31)\n",
      "nbExamples = 20000\n"
     ]
    },
    {
     "name": "stdout",
     "output_type": "stream",
     "text": [
      "40/40 [==============================] - 51s 1s/step - loss: 3.4047 - policy_loss: 2.6360 - value_loss: 0.6877 - policy_categorical_accuracy: 0.3566 - value_mse: 0.1172\n",
      "epoch 72\n"
     ]
    },
    {
     "name": "stderr",
     "output_type": "stream",
     "text": [
      "r.shape = (20000, 19, 19, 31)\n",
      "nbExamples = 20000\n"
     ]
    },
    {
     "name": "stdout",
     "output_type": "stream",
     "text": [
      "40/40 [==============================] - 52s 1s/step - loss: 3.3825 - policy_loss: 2.6150 - value_loss: 0.6867 - policy_categorical_accuracy: 0.3622 - value_mse: 0.1167\n",
      "epoch 73\n"
     ]
    },
    {
     "name": "stderr",
     "output_type": "stream",
     "text": [
      "r.shape = (20000, 19, 19, 31)\n",
      "nbExamples = 20000\n"
     ]
    },
    {
     "name": "stdout",
     "output_type": "stream",
     "text": [
      "40/40 [==============================] - 51s 1s/step - loss: 3.3906 - policy_loss: 2.6228 - value_loss: 0.6870 - policy_categorical_accuracy: 0.3614 - value_mse: 0.1171\n",
      "epoch 74\n"
     ]
    },
    {
     "name": "stderr",
     "output_type": "stream",
     "text": [
      "r.shape = (20000, 19, 19, 31)\n",
      "nbExamples = 20000\n"
     ]
    },
    {
     "name": "stdout",
     "output_type": "stream",
     "text": [
      "40/40 [==============================] - 51s 1s/step - loss: 3.3937 - policy_loss: 2.6263 - value_loss: 0.6867 - policy_categorical_accuracy: 0.3604 - value_mse: 0.1154\n",
      "epoch 75\n"
     ]
    },
    {
     "name": "stderr",
     "output_type": "stream",
     "text": [
      "r.shape = (20000, 19, 19, 31)\n",
      "nbExamples = 20000\n"
     ]
    },
    {
     "name": "stdout",
     "output_type": "stream",
     "text": [
      "40/40 [==============================] - 51s 1s/step - loss: 3.4057 - policy_loss: 2.6391 - value_loss: 0.6859 - policy_categorical_accuracy: 0.3598 - value_mse: 0.1170\n",
      "epoch 76\n"
     ]
    },
    {
     "name": "stderr",
     "output_type": "stream",
     "text": [
      "r.shape = (20000, 19, 19, 31)\n",
      "nbExamples = 20000\n"
     ]
    },
    {
     "name": "stdout",
     "output_type": "stream",
     "text": [
      "40/40 [==============================] - 51s 1s/step - loss: 3.3932 - policy_loss: 2.6261 - value_loss: 0.6865 - policy_categorical_accuracy: 0.3598 - value_mse: 0.1164\n",
      "epoch 77\n"
     ]
    },
    {
     "name": "stderr",
     "output_type": "stream",
     "text": [
      "r.shape = (20000, 19, 19, 31)\n",
      "nbExamples = 20000\n"
     ]
    },
    {
     "name": "stdout",
     "output_type": "stream",
     "text": [
      "40/40 [==============================] - 51s 1s/step - loss: 3.3683 - policy_loss: 2.6009 - value_loss: 0.6870 - policy_categorical_accuracy: 0.3631 - value_mse: 0.1181\n",
      "epoch 78\n"
     ]
    },
    {
     "name": "stderr",
     "output_type": "stream",
     "text": [
      "r.shape = (20000, 19, 19, 31)\n",
      "nbExamples = 20000\n"
     ]
    },
    {
     "name": "stdout",
     "output_type": "stream",
     "text": [
      "40/40 [==============================] - 51s 1s/step - loss: 3.3714 - policy_loss: 2.6039 - value_loss: 0.6871 - policy_categorical_accuracy: 0.3609 - value_mse: 0.1164\n",
      "epoch 79\n"
     ]
    },
    {
     "name": "stderr",
     "output_type": "stream",
     "text": [
      "r.shape = (20000, 19, 19, 31)\n",
      "nbExamples = 20000\n"
     ]
    },
    {
     "name": "stdout",
     "output_type": "stream",
     "text": [
      "40/40 [==============================] - 51s 1s/step - loss: 3.3646 - policy_loss: 2.5974 - value_loss: 0.6868 - policy_categorical_accuracy: 0.3644 - value_mse: 0.1170\n",
      "epoch 80\n"
     ]
    },
    {
     "name": "stderr",
     "output_type": "stream",
     "text": [
      "r.shape = (20000, 19, 19, 31)\n",
      "nbExamples = 20000\n"
     ]
    },
    {
     "name": "stdout",
     "output_type": "stream",
     "text": [
      "40/40 [==============================] - 51s 1s/step - loss: 3.3805 - policy_loss: 2.6133 - value_loss: 0.6869 - policy_categorical_accuracy: 0.3670 - value_mse: 0.1164\n"
     ]
    },
    {
     "name": "stderr",
     "output_type": "stream",
     "text": [
      "r.shape = (20000, 19, 19, 31)\n",
      "nbExamples = 20000\n"
     ]
    },
    {
     "name": "stdout",
     "output_type": "stream",
     "text": [
      "val = [3.3714234828948975, 2.6025309562683105, 0.6886491775512695, 0.36465001106262207, 0.1174975335597992]\n",
      "epoch 81\n"
     ]
    },
    {
     "name": "stderr",
     "output_type": "stream",
     "text": [
      "r.shape = (20000, 19, 19, 31)\n",
      "nbExamples = 20000\n"
     ]
    },
    {
     "name": "stdout",
     "output_type": "stream",
     "text": [
      "40/40 [==============================] - 51s 1s/step - loss: 3.3579 - policy_loss: 2.5910 - value_loss: 0.6867 - policy_categorical_accuracy: 0.3699 - value_mse: 0.1174\n",
      "epoch 82\n"
     ]
    },
    {
     "name": "stderr",
     "output_type": "stream",
     "text": [
      "r.shape = (20000, 19, 19, 31)\n",
      "nbExamples = 20000\n"
     ]
    },
    {
     "name": "stdout",
     "output_type": "stream",
     "text": [
      "40/40 [==============================] - 51s 1s/step - loss: 3.3712 - policy_loss: 2.6045 - value_loss: 0.6865 - policy_categorical_accuracy: 0.3617 - value_mse: 0.1172\n",
      "epoch 83\n"
     ]
    },
    {
     "name": "stderr",
     "output_type": "stream",
     "text": [
      "r.shape = (20000, 19, 19, 31)\n",
      "nbExamples = 20000\n"
     ]
    },
    {
     "name": "stdout",
     "output_type": "stream",
     "text": [
      "40/40 [==============================] - 51s 1s/step - loss: 3.3491 - policy_loss: 2.5832 - value_loss: 0.6858 - policy_categorical_accuracy: 0.3695 - value_mse: 0.1163\n",
      "epoch 84\n"
     ]
    },
    {
     "name": "stderr",
     "output_type": "stream",
     "text": [
      "r.shape = (20000, 19, 19, 31)\n",
      "nbExamples = 20000\n"
     ]
    },
    {
     "name": "stdout",
     "output_type": "stream",
     "text": [
      "40/40 [==============================] - 51s 1s/step - loss: 3.3667 - policy_loss: 2.6006 - value_loss: 0.6861 - policy_categorical_accuracy: 0.3659 - value_mse: 0.1154\n",
      "epoch 85\n"
     ]
    },
    {
     "name": "stderr",
     "output_type": "stream",
     "text": [
      "r.shape = (20000, 19, 19, 31)\n",
      "nbExamples = 20000\n"
     ]
    },
    {
     "name": "stdout",
     "output_type": "stream",
     "text": [
      "40/40 [==============================] - 51s 1s/step - loss: 3.3790 - policy_loss: 2.6112 - value_loss: 0.6878 - policy_categorical_accuracy: 0.3604 - value_mse: 0.1156\n",
      "epoch 86\n"
     ]
    },
    {
     "name": "stderr",
     "output_type": "stream",
     "text": [
      "r.shape = (20000, 19, 19, 31)\n",
      "nbExamples = 20000\n"
     ]
    },
    {
     "name": "stdout",
     "output_type": "stream",
     "text": [
      "40/40 [==============================] - 51s 1s/step - loss: 3.3547 - policy_loss: 2.5892 - value_loss: 0.6857 - policy_categorical_accuracy: 0.3668 - value_mse: 0.1169\n",
      "epoch 87\n"
     ]
    },
    {
     "name": "stderr",
     "output_type": "stream",
     "text": [
      "r.shape = (20000, 19, 19, 31)\n",
      "nbExamples = 20000\n"
     ]
    },
    {
     "name": "stdout",
     "output_type": "stream",
     "text": [
      "40/40 [==============================] - 50s 1s/step - loss: 3.3318 - policy_loss: 2.5655 - value_loss: 0.6865 - policy_categorical_accuracy: 0.3650 - value_mse: 0.1172\n",
      "epoch 88\n"
     ]
    },
    {
     "name": "stderr",
     "output_type": "stream",
     "text": [
      "r.shape = (20000, 19, 19, 31)\n",
      "nbExamples = 20000\n"
     ]
    },
    {
     "name": "stdout",
     "output_type": "stream",
     "text": [
      "40/40 [==============================] - 50s 1s/step - loss: 3.3624 - policy_loss: 2.5970 - value_loss: 0.6856 - policy_categorical_accuracy: 0.3656 - value_mse: 0.1156\n",
      "epoch 89\n"
     ]
    },
    {
     "name": "stderr",
     "output_type": "stream",
     "text": [
      "r.shape = (20000, 19, 19, 31)\n",
      "nbExamples = 20000\n"
     ]
    },
    {
     "name": "stdout",
     "output_type": "stream",
     "text": [
      "40/40 [==============================] - 50s 1s/step - loss: 3.3811 - policy_loss: 2.6144 - value_loss: 0.6870 - policy_categorical_accuracy: 0.3565 - value_mse: 0.1169\n",
      "epoch 90\n"
     ]
    },
    {
     "name": "stderr",
     "output_type": "stream",
     "text": [
      "r.shape = (20000, 19, 19, 31)\n",
      "nbExamples = 20000\n"
     ]
    },
    {
     "name": "stdout",
     "output_type": "stream",
     "text": [
      "40/40 [==============================] - 50s 1s/step - loss: 3.3359 - policy_loss: 2.5689 - value_loss: 0.6874 - policy_categorical_accuracy: 0.3638 - value_mse: 0.1166\n",
      "epoch 91\n"
     ]
    },
    {
     "name": "stderr",
     "output_type": "stream",
     "text": [
      "r.shape = (20000, 19, 19, 31)\n",
      "nbExamples = 20000\n"
     ]
    },
    {
     "name": "stdout",
     "output_type": "stream",
     "text": [
      "40/40 [==============================] - 51s 1s/step - loss: 3.3525 - policy_loss: 2.5862 - value_loss: 0.6868 - policy_categorical_accuracy: 0.3645 - value_mse: 0.1175\n",
      "epoch 92\n"
     ]
    },
    {
     "name": "stderr",
     "output_type": "stream",
     "text": [
      "r.shape = (20000, 19, 19, 31)\n",
      "nbExamples = 20000\n"
     ]
    },
    {
     "name": "stdout",
     "output_type": "stream",
     "text": [
      "40/40 [==============================] - 51s 1s/step - loss: 3.3690 - policy_loss: 2.6036 - value_loss: 0.6859 - policy_categorical_accuracy: 0.3623 - value_mse: 0.1166\n",
      "epoch 93\n"
     ]
    },
    {
     "name": "stderr",
     "output_type": "stream",
     "text": [
      "r.shape = (20000, 19, 19, 31)\n",
      "nbExamples = 20000\n"
     ]
    },
    {
     "name": "stdout",
     "output_type": "stream",
     "text": [
      "40/40 [==============================] - 51s 1s/step - loss: 3.3504 - policy_loss: 2.5858 - value_loss: 0.6853 - policy_categorical_accuracy: 0.3625 - value_mse: 0.1171\n",
      "epoch 94\n"
     ]
    },
    {
     "name": "stderr",
     "output_type": "stream",
     "text": [
      "r.shape = (20000, 19, 19, 31)\n",
      "nbExamples = 20000\n"
     ]
    },
    {
     "name": "stdout",
     "output_type": "stream",
     "text": [
      "40/40 [==============================] - 52s 1s/step - loss: 3.3414 - policy_loss: 2.5762 - value_loss: 0.6860 - policy_categorical_accuracy: 0.3652 - value_mse: 0.1163\n",
      "epoch 95\n"
     ]
    },
    {
     "name": "stderr",
     "output_type": "stream",
     "text": [
      "r.shape = (20000, 19, 19, 31)\n",
      "nbExamples = 20000\n"
     ]
    },
    {
     "name": "stdout",
     "output_type": "stream",
     "text": [
      "40/40 [==============================] - 51s 1s/step - loss: 3.3314 - policy_loss: 2.5663 - value_loss: 0.6859 - policy_categorical_accuracy: 0.3677 - value_mse: 0.1173\n",
      "epoch 96\n"
     ]
    },
    {
     "name": "stderr",
     "output_type": "stream",
     "text": [
      "r.shape = (20000, 19, 19, 31)\n",
      "nbExamples = 20000\n"
     ]
    },
    {
     "name": "stdout",
     "output_type": "stream",
     "text": [
      "40/40 [==============================] - 51s 1s/step - loss: 3.3341 - policy_loss: 2.5690 - value_loss: 0.6859 - policy_categorical_accuracy: 0.3692 - value_mse: 0.1160\n",
      "epoch 97\n"
     ]
    },
    {
     "name": "stderr",
     "output_type": "stream",
     "text": [
      "r.shape = (20000, 19, 19, 31)\n",
      "nbExamples = 20000\n"
     ]
    },
    {
     "name": "stdout",
     "output_type": "stream",
     "text": [
      "40/40 [==============================] - 51s 1s/step - loss: 3.3587 - policy_loss: 2.5934 - value_loss: 0.6862 - policy_categorical_accuracy: 0.3608 - value_mse: 0.1167\n",
      "epoch 98\n"
     ]
    },
    {
     "name": "stderr",
     "output_type": "stream",
     "text": [
      "r.shape = (20000, 19, 19, 31)\n",
      "nbExamples = 20000\n"
     ]
    },
    {
     "name": "stdout",
     "output_type": "stream",
     "text": [
      "40/40 [==============================] - 50s 1s/step - loss: 3.3478 - policy_loss: 2.5833 - value_loss: 0.6855 - policy_categorical_accuracy: 0.3631 - value_mse: 0.1165\n",
      "epoch 99\n"
     ]
    },
    {
     "name": "stderr",
     "output_type": "stream",
     "text": [
      "r.shape = (20000, 19, 19, 31)\n",
      "nbExamples = 20000\n"
     ]
    },
    {
     "name": "stdout",
     "output_type": "stream",
     "text": [
      "40/40 [==============================] - 51s 1s/step - loss: 3.3544 - policy_loss: 2.5903 - value_loss: 0.6852 - policy_categorical_accuracy: 0.3586 - value_mse: 0.1162\n",
      "epoch 100\n"
     ]
    },
    {
     "name": "stderr",
     "output_type": "stream",
     "text": [
      "r.shape = (20000, 19, 19, 31)\n",
      "nbExamples = 20000\n"
     ]
    },
    {
     "name": "stdout",
     "output_type": "stream",
     "text": [
      "40/40 [==============================] - 51s 1s/step - loss: 3.3470 - policy_loss: 2.5823 - value_loss: 0.6858 - policy_categorical_accuracy: 0.3614 - value_mse: 0.1148\n"
     ]
    },
    {
     "name": "stderr",
     "output_type": "stream",
     "text": [
      "r.shape = (20000, 19, 19, 31)\n",
      "nbExamples = 20000\n"
     ]
    },
    {
     "name": "stdout",
     "output_type": "stream",
     "text": [
      "val = [3.3517374992370605, 2.5868020057678223, 0.6860859990119934, 0.36625000834465027, 0.11624728888273239]\n",
      "epoch 101\n"
     ]
    },
    {
     "name": "stderr",
     "output_type": "stream",
     "text": [
      "r.shape = (20000, 19, 19, 31)\n",
      "nbExamples = 20000\n"
     ]
    },
    {
     "name": "stdout",
     "output_type": "stream",
     "text": [
      "40/40 [==============================] - 51s 1s/step - loss: 3.3380 - policy_loss: 2.5744 - value_loss: 0.6848 - policy_categorical_accuracy: 0.3686 - value_mse: 0.1166\n",
      "epoch 102\n"
     ]
    },
    {
     "name": "stderr",
     "output_type": "stream",
     "text": [
      "r.shape = (20000, 19, 19, 31)\n",
      "nbExamples = 20000\n"
     ]
    },
    {
     "name": "stdout",
     "output_type": "stream",
     "text": [
      "40/40 [==============================] - 51s 1s/step - loss: 3.3418 - policy_loss: 2.5774 - value_loss: 0.6856 - policy_categorical_accuracy: 0.3673 - value_mse: 0.1156\n",
      "epoch 103\n"
     ]
    },
    {
     "name": "stderr",
     "output_type": "stream",
     "text": [
      "r.shape = (20000, 19, 19, 31)\n",
      "nbExamples = 20000\n"
     ]
    },
    {
     "name": "stdout",
     "output_type": "stream",
     "text": [
      "40/40 [==============================] - 51s 1s/step - loss: 3.3423 - policy_loss: 2.5778 - value_loss: 0.6857 - policy_categorical_accuracy: 0.3624 - value_mse: 0.1156\n",
      "epoch 104\n"
     ]
    },
    {
     "name": "stderr",
     "output_type": "stream",
     "text": [
      "r.shape = (20000, 19, 19, 31)\n",
      "nbExamples = 20000\n"
     ]
    },
    {
     "name": "stdout",
     "output_type": "stream",
     "text": [
      "40/40 [==============================] - 51s 1s/step - loss: 3.3261 - policy_loss: 2.5626 - value_loss: 0.6849 - policy_categorical_accuracy: 0.3657 - value_mse: 0.1160\n",
      "epoch 105\n"
     ]
    },
    {
     "name": "stderr",
     "output_type": "stream",
     "text": [
      "r.shape = (20000, 19, 19, 31)\n",
      "nbExamples = 20000\n"
     ]
    },
    {
     "name": "stdout",
     "output_type": "stream",
     "text": [
      "40/40 [==============================] - 51s 1s/step - loss: 3.3254 - policy_loss: 2.5607 - value_loss: 0.6861 - policy_categorical_accuracy: 0.3657 - value_mse: 0.1166\n",
      "epoch 106\n"
     ]
    },
    {
     "name": "stderr",
     "output_type": "stream",
     "text": [
      "r.shape = (20000, 19, 19, 31)\n",
      "nbExamples = 20000\n"
     ]
    },
    {
     "name": "stdout",
     "output_type": "stream",
     "text": [
      "40/40 [==============================] - 51s 1s/step - loss: 3.3147 - policy_loss: 2.5494 - value_loss: 0.6868 - policy_categorical_accuracy: 0.3692 - value_mse: 0.1172\n",
      "epoch 107\n"
     ]
    },
    {
     "name": "stderr",
     "output_type": "stream",
     "text": [
      "r.shape = (20000, 19, 19, 31)\n",
      "nbExamples = 20000\n"
     ]
    },
    {
     "name": "stdout",
     "output_type": "stream",
     "text": [
      "40/40 [==============================] - 51s 1s/step - loss: 3.3076 - policy_loss: 2.5445 - value_loss: 0.6848 - policy_categorical_accuracy: 0.3726 - value_mse: 0.1156\n",
      "epoch 108\n"
     ]
    },
    {
     "name": "stderr",
     "output_type": "stream",
     "text": [
      "r.shape = (20000, 19, 19, 31)\n",
      "nbExamples = 20000\n"
     ]
    },
    {
     "name": "stdout",
     "output_type": "stream",
     "text": [
      "40/40 [==============================] - 50s 1s/step - loss: 3.3263 - policy_loss: 2.5621 - value_loss: 0.6859 - policy_categorical_accuracy: 0.3684 - value_mse: 0.1161\n",
      "epoch 109\n"
     ]
    },
    {
     "name": "stderr",
     "output_type": "stream",
     "text": [
      "r.shape = (20000, 19, 19, 31)\n",
      "nbExamples = 20000\n"
     ]
    },
    {
     "name": "stdout",
     "output_type": "stream",
     "text": [
      "40/40 [==============================] - 51s 1s/step - loss: 3.3424 - policy_loss: 2.5781 - value_loss: 0.6860 - policy_categorical_accuracy: 0.3618 - value_mse: 0.1159\n",
      "epoch 110\n"
     ]
    },
    {
     "name": "stderr",
     "output_type": "stream",
     "text": [
      "r.shape = (20000, 19, 19, 31)\n",
      "nbExamples = 20000\n"
     ]
    },
    {
     "name": "stdout",
     "output_type": "stream",
     "text": [
      "40/40 [==============================] - 51s 1s/step - loss: 3.3104 - policy_loss: 2.5474 - value_loss: 0.6848 - policy_categorical_accuracy: 0.3694 - value_mse: 0.1164\n",
      "epoch 111\n"
     ]
    },
    {
     "name": "stderr",
     "output_type": "stream",
     "text": [
      "r.shape = (20000, 19, 19, 31)\n",
      "nbExamples = 20000\n"
     ]
    },
    {
     "name": "stdout",
     "output_type": "stream",
     "text": [
      "40/40 [==============================] - 52s 1s/step - loss: 3.3303 - policy_loss: 2.5667 - value_loss: 0.6855 - policy_categorical_accuracy: 0.3705 - value_mse: 0.1152\n",
      "epoch 112\n"
     ]
    },
    {
     "name": "stderr",
     "output_type": "stream",
     "text": [
      "r.shape = (20000, 19, 19, 31)\n",
      "nbExamples = 20000\n"
     ]
    },
    {
     "name": "stdout",
     "output_type": "stream",
     "text": [
      "40/40 [==============================] - 51s 1s/step - loss: 3.2985 - policy_loss: 2.5344 - value_loss: 0.6860 - policy_categorical_accuracy: 0.3742 - value_mse: 0.1161\n",
      "epoch 113\n"
     ]
    },
    {
     "name": "stderr",
     "output_type": "stream",
     "text": [
      "r.shape = (20000, 19, 19, 31)\n",
      "nbExamples = 20000\n"
     ]
    },
    {
     "name": "stdout",
     "output_type": "stream",
     "text": [
      "40/40 [==============================] - 51s 1s/step - loss: 3.3116 - policy_loss: 2.5480 - value_loss: 0.6856 - policy_categorical_accuracy: 0.3663 - value_mse: 0.1176\n",
      "epoch 114\n"
     ]
    },
    {
     "name": "stderr",
     "output_type": "stream",
     "text": [
      "r.shape = (20000, 19, 19, 31)\n",
      "nbExamples = 20000\n"
     ]
    },
    {
     "name": "stdout",
     "output_type": "stream",
     "text": [
      "40/40 [==============================] - 51s 1s/step - loss: 3.3314 - policy_loss: 2.5680 - value_loss: 0.6855 - policy_categorical_accuracy: 0.3668 - value_mse: 0.1153\n",
      "epoch 115\n"
     ]
    },
    {
     "name": "stderr",
     "output_type": "stream",
     "text": [
      "r.shape = (20000, 19, 19, 31)\n",
      "nbExamples = 20000\n"
     ]
    },
    {
     "name": "stdout",
     "output_type": "stream",
     "text": [
      "40/40 [==============================] - 51s 1s/step - loss: 3.3026 - policy_loss: 2.5392 - value_loss: 0.6856 - policy_categorical_accuracy: 0.3733 - value_mse: 0.1147\n",
      "epoch 116\n"
     ]
    },
    {
     "name": "stderr",
     "output_type": "stream",
     "text": [
      "r.shape = (20000, 19, 19, 31)\n",
      "nbExamples = 20000\n"
     ]
    },
    {
     "name": "stdout",
     "output_type": "stream",
     "text": [
      "40/40 [==============================] - 52s 1s/step - loss: 3.3356 - policy_loss: 2.5730 - value_loss: 0.6848 - policy_categorical_accuracy: 0.3664 - value_mse: 0.1146\n",
      "epoch 117\n"
     ]
    },
    {
     "name": "stderr",
     "output_type": "stream",
     "text": [
      "r.shape = (20000, 19, 19, 31)\n",
      "nbExamples = 20000\n"
     ]
    },
    {
     "name": "stdout",
     "output_type": "stream",
     "text": [
      "40/40 [==============================] - 51s 1s/step - loss: 3.3108 - policy_loss: 2.5482 - value_loss: 0.6848 - policy_categorical_accuracy: 0.3679 - value_mse: 0.1153\n",
      "epoch 118\n"
     ]
    },
    {
     "name": "stderr",
     "output_type": "stream",
     "text": [
      "r.shape = (20000, 19, 19, 31)\n",
      "nbExamples = 20000\n"
     ]
    },
    {
     "name": "stdout",
     "output_type": "stream",
     "text": [
      "40/40 [==============================] - 51s 1s/step - loss: 3.3059 - policy_loss: 2.5439 - value_loss: 0.6844 - policy_categorical_accuracy: 0.3713 - value_mse: 0.1148\n",
      "epoch 119\n"
     ]
    },
    {
     "name": "stderr",
     "output_type": "stream",
     "text": [
      "r.shape = (20000, 19, 19, 31)\n",
      "nbExamples = 20000\n"
     ]
    },
    {
     "name": "stdout",
     "output_type": "stream",
     "text": [
      "40/40 [==============================] - 51s 1s/step - loss: 3.2923 - policy_loss: 2.5304 - value_loss: 0.6843 - policy_categorical_accuracy: 0.3744 - value_mse: 0.1155\n",
      "epoch 120\n"
     ]
    },
    {
     "name": "stderr",
     "output_type": "stream",
     "text": [
      "r.shape = (20000, 19, 19, 31)\n",
      "nbExamples = 20000\n"
     ]
    },
    {
     "name": "stdout",
     "output_type": "stream",
     "text": [
      "40/40 [==============================] - 51s 1s/step - loss: 3.3085 - policy_loss: 2.5472 - value_loss: 0.6837 - policy_categorical_accuracy: 0.3689 - value_mse: 0.1141\n"
     ]
    },
    {
     "name": "stderr",
     "output_type": "stream",
     "text": [
      "r.shape = (20000, 19, 19, 31)\n",
      "nbExamples = 20000\n"
     ]
    },
    {
     "name": "stdout",
     "output_type": "stream",
     "text": [
      "val = [3.3188092708587646, 2.555143356323242, 0.6861770749092102, 0.36864998936653137, 0.11636488139629364]\n",
      "epoch 121\n"
     ]
    },
    {
     "name": "stderr",
     "output_type": "stream",
     "text": [
      "r.shape = (20000, 19, 19, 31)\n",
      "nbExamples = 20000\n"
     ]
    },
    {
     "name": "stdout",
     "output_type": "stream",
     "text": [
      "40/40 [==============================] - 51s 1s/step - loss: 3.3035 - policy_loss: 2.5404 - value_loss: 0.6857 - policy_categorical_accuracy: 0.3719 - value_mse: 0.1160\n",
      "epoch 122\n"
     ]
    },
    {
     "name": "stderr",
     "output_type": "stream",
     "text": [
      "r.shape = (20000, 19, 19, 31)\n",
      "nbExamples = 20000\n"
     ]
    },
    {
     "name": "stdout",
     "output_type": "stream",
     "text": [
      "40/40 [==============================] - 51s 1s/step - loss: 3.3111 - policy_loss: 2.5502 - value_loss: 0.6836 - policy_categorical_accuracy: 0.3684 - value_mse: 0.1150\n",
      "epoch 123\n"
     ]
    },
    {
     "name": "stderr",
     "output_type": "stream",
     "text": [
      "r.shape = (20000, 19, 19, 31)\n",
      "nbExamples = 20000\n"
     ]
    },
    {
     "name": "stdout",
     "output_type": "stream",
     "text": [
      "40/40 [==============================] - 51s 1s/step - loss: 3.3206 - policy_loss: 2.5588 - value_loss: 0.6844 - policy_categorical_accuracy: 0.3738 - value_mse: 0.1156\n",
      "epoch 124\n"
     ]
    },
    {
     "name": "stderr",
     "output_type": "stream",
     "text": [
      "r.shape = (20000, 19, 19, 31)\n",
      "nbExamples = 20000\n"
     ]
    },
    {
     "name": "stdout",
     "output_type": "stream",
     "text": [
      "40/40 [==============================] - 51s 1s/step - loss: 3.2804 - policy_loss: 2.5185 - value_loss: 0.6846 - policy_categorical_accuracy: 0.3770 - value_mse: 0.1157\n",
      "epoch 125\n"
     ]
    },
    {
     "name": "stderr",
     "output_type": "stream",
     "text": [
      "r.shape = (20000, 19, 19, 31)\n",
      "nbExamples = 20000\n"
     ]
    },
    {
     "name": "stdout",
     "output_type": "stream",
     "text": [
      "40/40 [==============================] - 51s 1s/step - loss: 3.2931 - policy_loss: 2.5316 - value_loss: 0.6843 - policy_categorical_accuracy: 0.3727 - value_mse: 0.1146\n",
      "epoch 126\n"
     ]
    },
    {
     "name": "stderr",
     "output_type": "stream",
     "text": [
      "r.shape = (20000, 19, 19, 31)\n",
      "nbExamples = 20000\n"
     ]
    },
    {
     "name": "stdout",
     "output_type": "stream",
     "text": [
      "40/40 [==============================] - 51s 1s/step - loss: 3.2959 - policy_loss: 2.5352 - value_loss: 0.6835 - policy_categorical_accuracy: 0.3747 - value_mse: 0.1145\n",
      "epoch 127\n"
     ]
    },
    {
     "name": "stderr",
     "output_type": "stream",
     "text": [
      "r.shape = (20000, 19, 19, 31)\n",
      "nbExamples = 20000\n"
     ]
    },
    {
     "name": "stdout",
     "output_type": "stream",
     "text": [
      "40/40 [==============================] - 51s 1s/step - loss: 3.3248 - policy_loss: 2.5640 - value_loss: 0.6838 - policy_categorical_accuracy: 0.3638 - value_mse: 0.1150\n",
      "epoch 128\n"
     ]
    },
    {
     "name": "stderr",
     "output_type": "stream",
     "text": [
      "r.shape = (20000, 19, 19, 31)\n",
      "nbExamples = 20000\n"
     ]
    },
    {
     "name": "stdout",
     "output_type": "stream",
     "text": [
      "40/40 [==============================] - 51s 1s/step - loss: 3.2912 - policy_loss: 2.5296 - value_loss: 0.6846 - policy_categorical_accuracy: 0.3715 - value_mse: 0.1161\n",
      "epoch 129\n"
     ]
    },
    {
     "name": "stderr",
     "output_type": "stream",
     "text": [
      "r.shape = (20000, 19, 19, 31)\n",
      "nbExamples = 20000\n"
     ]
    },
    {
     "name": "stdout",
     "output_type": "stream",
     "text": [
      "40/40 [==============================] - 51s 1s/step - loss: 3.3008 - policy_loss: 2.5403 - value_loss: 0.6836 - policy_categorical_accuracy: 0.3713 - value_mse: 0.1141\n",
      "epoch 130\n"
     ]
    },
    {
     "name": "stderr",
     "output_type": "stream",
     "text": [
      "r.shape = (20000, 19, 19, 31)\n",
      "nbExamples = 20000\n"
     ]
    },
    {
     "name": "stdout",
     "output_type": "stream",
     "text": [
      "40/40 [==============================] - 50s 1s/step - loss: 3.3035 - policy_loss: 2.5428 - value_loss: 0.6838 - policy_categorical_accuracy: 0.3733 - value_mse: 0.1161\n",
      "epoch 131\n"
     ]
    },
    {
     "name": "stderr",
     "output_type": "stream",
     "text": [
      "r.shape = (20000, 19, 19, 31)\n",
      "nbExamples = 20000\n"
     ]
    },
    {
     "name": "stdout",
     "output_type": "stream",
     "text": [
      "40/40 [==============================] - 51s 1s/step - loss: 3.2863 - policy_loss: 2.5258 - value_loss: 0.6836 - policy_categorical_accuracy: 0.3710 - value_mse: 0.1145\n",
      "epoch 132\n"
     ]
    },
    {
     "name": "stderr",
     "output_type": "stream",
     "text": [
      "r.shape = (20000, 19, 19, 31)\n",
      "nbExamples = 20000\n"
     ]
    },
    {
     "name": "stdout",
     "output_type": "stream",
     "text": [
      "40/40 [==============================] - 50s 1s/step - loss: 3.2959 - policy_loss: 2.5348 - value_loss: 0.6844 - policy_categorical_accuracy: 0.3725 - value_mse: 0.1145\n",
      "epoch 133\n"
     ]
    },
    {
     "name": "stderr",
     "output_type": "stream",
     "text": [
      "r.shape = (20000, 19, 19, 31)\n",
      "nbExamples = 20000\n"
     ]
    },
    {
     "name": "stdout",
     "output_type": "stream",
     "text": [
      "40/40 [==============================] - 50s 1s/step - loss: 3.2721 - policy_loss: 2.5119 - value_loss: 0.6835 - policy_categorical_accuracy: 0.3765 - value_mse: 0.1153\n",
      "epoch 134\n"
     ]
    },
    {
     "name": "stderr",
     "output_type": "stream",
     "text": [
      "r.shape = (20000, 19, 19, 31)\n",
      "nbExamples = 20000\n"
     ]
    },
    {
     "name": "stdout",
     "output_type": "stream",
     "text": [
      "40/40 [==============================] - 50s 1s/step - loss: 3.2695 - policy_loss: 2.5088 - value_loss: 0.6841 - policy_categorical_accuracy: 0.3768 - value_mse: 0.1139\n",
      "epoch 135\n"
     ]
    },
    {
     "name": "stderr",
     "output_type": "stream",
     "text": [
      "r.shape = (20000, 19, 19, 31)\n",
      "nbExamples = 20000\n"
     ]
    },
    {
     "name": "stdout",
     "output_type": "stream",
     "text": [
      "40/40 [==============================] - 50s 1s/step - loss: 3.2805 - policy_loss: 2.5198 - value_loss: 0.6842 - policy_categorical_accuracy: 0.3734 - value_mse: 0.1140\n",
      "epoch 136\n"
     ]
    },
    {
     "name": "stderr",
     "output_type": "stream",
     "text": [
      "r.shape = (20000, 19, 19, 31)\n",
      "nbExamples = 20000\n"
     ]
    },
    {
     "name": "stdout",
     "output_type": "stream",
     "text": [
      "40/40 [==============================] - 50s 1s/step - loss: 3.2760 - policy_loss: 2.5176 - value_loss: 0.6820 - policy_categorical_accuracy: 0.3746 - value_mse: 0.1133\n",
      "epoch 137\n"
     ]
    },
    {
     "name": "stderr",
     "output_type": "stream",
     "text": [
      "r.shape = (20000, 19, 19, 31)\n",
      "nbExamples = 20000\n"
     ]
    },
    {
     "name": "stdout",
     "output_type": "stream",
     "text": [
      "40/40 [==============================] - 50s 1s/step - loss: 3.2729 - policy_loss: 2.5133 - value_loss: 0.6832 - policy_categorical_accuracy: 0.3767 - value_mse: 0.1154\n",
      "epoch 138\n"
     ]
    },
    {
     "name": "stderr",
     "output_type": "stream",
     "text": [
      "r.shape = (20000, 19, 19, 31)\n",
      "nbExamples = 20000\n"
     ]
    },
    {
     "name": "stdout",
     "output_type": "stream",
     "text": [
      "40/40 [==============================] - 50s 1s/step - loss: 3.2890 - policy_loss: 2.5285 - value_loss: 0.6842 - policy_categorical_accuracy: 0.3702 - value_mse: 0.1151\n",
      "epoch 139\n"
     ]
    },
    {
     "name": "stderr",
     "output_type": "stream",
     "text": [
      "r.shape = (20000, 19, 19, 31)\n",
      "nbExamples = 20000\n"
     ]
    },
    {
     "name": "stdout",
     "output_type": "stream",
     "text": [
      "40/40 [==============================] - 51s 1s/step - loss: 3.2902 - policy_loss: 2.5315 - value_loss: 0.6824 - policy_categorical_accuracy: 0.3758 - value_mse: 0.1138\n",
      "epoch 140\n"
     ]
    },
    {
     "name": "stderr",
     "output_type": "stream",
     "text": [
      "r.shape = (20000, 19, 19, 31)\n",
      "nbExamples = 20000\n"
     ]
    },
    {
     "name": "stdout",
     "output_type": "stream",
     "text": [
      "40/40 [==============================] - 50s 1s/step - loss: 3.2498 - policy_loss: 2.4915 - value_loss: 0.6821 - policy_categorical_accuracy: 0.3785 - value_mse: 0.1147\n"
     ]
    },
    {
     "name": "stderr",
     "output_type": "stream",
     "text": [
      "r.shape = (20000, 19, 19, 31)\n",
      "nbExamples = 20000\n"
     ]
    },
    {
     "name": "stdout",
     "output_type": "stream",
     "text": [
      "val = [3.279259443283081, 2.5210344791412354, 0.6820339560508728, 0.3744499981403351, 0.11433179676532745]\n",
      "epoch 141\n"
     ]
    },
    {
     "name": "stderr",
     "output_type": "stream",
     "text": [
      "r.shape = (20000, 19, 19, 31)\n",
      "nbExamples = 20000\n"
     ]
    },
    {
     "name": "stdout",
     "output_type": "stream",
     "text": [
      "40/40 [==============================] - 51s 1s/step - loss: 3.2900 - policy_loss: 2.5312 - value_loss: 0.6826 - policy_categorical_accuracy: 0.3737 - value_mse: 0.1146\n",
      "epoch 142\n"
     ]
    },
    {
     "name": "stderr",
     "output_type": "stream",
     "text": [
      "r.shape = (20000, 19, 19, 31)\n",
      "nbExamples = 20000\n"
     ]
    },
    {
     "name": "stdout",
     "output_type": "stream",
     "text": [
      "40/40 [==============================] - 50s 1s/step - loss: 3.2964 - policy_loss: 2.5364 - value_loss: 0.6839 - policy_categorical_accuracy: 0.3749 - value_mse: 0.1157\n",
      "epoch 143\n"
     ]
    },
    {
     "name": "stderr",
     "output_type": "stream",
     "text": [
      "r.shape = (20000, 19, 19, 31)\n",
      "nbExamples = 20000\n"
     ]
    },
    {
     "name": "stdout",
     "output_type": "stream",
     "text": [
      "40/40 [==============================] - 50s 1s/step - loss: 3.2520 - policy_loss: 2.4938 - value_loss: 0.6822 - policy_categorical_accuracy: 0.3792 - value_mse: 0.1140\n",
      "epoch 144\n"
     ]
    },
    {
     "name": "stderr",
     "output_type": "stream",
     "text": [
      "r.shape = (20000, 19, 19, 31)\n",
      "nbExamples = 20000\n"
     ]
    },
    {
     "name": "stdout",
     "output_type": "stream",
     "text": [
      "40/40 [==============================] - 50s 1s/step - loss: 3.2809 - policy_loss: 2.5220 - value_loss: 0.6830 - policy_categorical_accuracy: 0.3715 - value_mse: 0.1133\n",
      "epoch 145\n"
     ]
    },
    {
     "name": "stderr",
     "output_type": "stream",
     "text": [
      "r.shape = (20000, 19, 19, 31)\n",
      "nbExamples = 20000\n"
     ]
    },
    {
     "name": "stdout",
     "output_type": "stream",
     "text": [
      "40/40 [==============================] - 50s 1s/step - loss: 3.2842 - policy_loss: 2.5256 - value_loss: 0.6827 - policy_categorical_accuracy: 0.3737 - value_mse: 0.1146\n",
      "epoch 146\n"
     ]
    },
    {
     "name": "stderr",
     "output_type": "stream",
     "text": [
      "r.shape = (20000, 19, 19, 31)\n",
      "nbExamples = 20000\n"
     ]
    },
    {
     "name": "stdout",
     "output_type": "stream",
     "text": [
      "40/40 [==============================] - 50s 1s/step - loss: 3.2990 - policy_loss: 2.5406 - value_loss: 0.6826 - policy_categorical_accuracy: 0.3677 - value_mse: 0.1148\n",
      "epoch 147\n"
     ]
    },
    {
     "name": "stderr",
     "output_type": "stream",
     "text": [
      "r.shape = (20000, 19, 19, 31)\n",
      "nbExamples = 20000\n"
     ]
    },
    {
     "name": "stdout",
     "output_type": "stream",
     "text": [
      "40/40 [==============================] - 50s 1s/step - loss: 3.2639 - policy_loss: 2.5059 - value_loss: 0.6822 - policy_categorical_accuracy: 0.3747 - value_mse: 0.1137\n",
      "epoch 148\n"
     ]
    },
    {
     "name": "stderr",
     "output_type": "stream",
     "text": [
      "r.shape = (20000, 19, 19, 31)\n",
      "nbExamples = 20000\n"
     ]
    },
    {
     "name": "stdout",
     "output_type": "stream",
     "text": [
      "40/40 [==============================] - 50s 1s/step - loss: 3.2828 - policy_loss: 2.5260 - value_loss: 0.6810 - policy_categorical_accuracy: 0.3756 - value_mse: 0.1134\n",
      "epoch 149\n"
     ]
    },
    {
     "name": "stderr",
     "output_type": "stream",
     "text": [
      "r.shape = (20000, 19, 19, 31)\n",
      "nbExamples = 20000\n"
     ]
    },
    {
     "name": "stdout",
     "output_type": "stream",
     "text": [
      "40/40 [==============================] - 51s 1s/step - loss: 3.2598 - policy_loss: 2.5014 - value_loss: 0.6827 - policy_categorical_accuracy: 0.3753 - value_mse: 0.1153\n",
      "epoch 150\n"
     ]
    },
    {
     "name": "stderr",
     "output_type": "stream",
     "text": [
      "r.shape = (20000, 19, 19, 31)\n",
      "nbExamples = 20000\n"
     ]
    },
    {
     "name": "stdout",
     "output_type": "stream",
     "text": [
      "40/40 [==============================] - 50s 1s/step - loss: 3.2738 - policy_loss: 2.5178 - value_loss: 0.6804 - policy_categorical_accuracy: 0.3713 - value_mse: 0.1137\n"
     ]
    }
   ],
   "source": [
    "model.compile(optimizer= keras.optimizers.SGD(lr=0.0005, momentum=0.9),\n",
    "              loss={'policy': 'categorical_crossentropy', 'value': 'binary_crossentropy'},\n",
    "              loss_weights={'policy' : 1.0, 'value' : 1.0},\n",
    "              metrics={'policy': 'categorical_accuracy', 'value': 'mse'})\n",
    "\n",
    "acc = []\n",
    "val_mse = [] \n",
    "loss = [] \n",
    "val_loss = [] \n",
    "\n",
    "for i in range (1, epochs + 1):\n",
    "    print ('epoch ' + str (i))\n",
    "    golois.getBatch (input_data, policy, value, end, groups, i * N)\n",
    "    history = model.fit(input_data,\n",
    "                        {'policy': policy, 'value': value},\n",
    "                        epochs=1, batch_size=batch)\n",
    "    if (i % 5 == 0):\n",
    "        gc.collect ()\n",
    "    if (i % 20 == 0):\n",
    "        golois.getValidation (input_data, policy, value, end)\n",
    "        val = model.evaluate (input_data,\n",
    "                              [policy, value], verbose = 0, batch_size=batch)\n",
    "        acc.append(history.history['policy_categorical_accuracy'])\n",
    "        val_mse.append(history.history['value_mse'])\n",
    "        loss.append(history.history['loss'])\n",
    "        val_loss.append(history.history['value_loss'])\n",
    "\n",
    "        print (\"val =\", val)\n",
    "        model.save ('arij.h5')\n"
   ]
  },
  {
   "cell_type": "code",
   "execution_count": 29,
   "metadata": {
    "execution": {
     "iopub.execute_input": "2023-07-30T21:55:27.585309Z",
     "iopub.status.busy": "2023-07-30T21:55:27.584930Z",
     "iopub.status.idle": "2023-07-30T21:55:27.711029Z",
     "shell.execute_reply": "2023-07-30T21:55:27.710134Z",
     "shell.execute_reply.started": "2023-07-30T21:55:27.585283Z"
    },
    "tags": []
   },
   "outputs": [
    {
     "data": {
      "image/png": "[encoded data removed]",
      "text/plain": [
       "<Figure size 640x480 with 1 Axes>"
      ]
     },
     "metadata": {},
     "output_type": "display_data"
    },
    {
     "data": {
      "text/plain": [
       "<Figure size 640x480 with 0 Axes>"
      ]
     },
     "metadata": {},
     "output_type": "display_data"
    }
   ],
   "source": [
    "epochs_mod20 = range(1, len(acc) + 1)\n",
    "\n",
    "plt.plot(epochs_mod20, acc, label='Policy Categorical Accuracy')\n",
    "plt.legend()\n",
    "\n",
    "plt.figure()\n",
    "\n",
    "plt.show()"
   ]
  },
  {
   "cell_type": "code",
   "execution_count": null,
   "metadata": {},
   "outputs": [],
   "source": []
  }
 ],
 "metadata": {
  "application/vnd.databricks.v1+notebook": {
   "dashboards": [],
   "language": "python",
   "notebookMetadata": {
    "pythonIndentUnit": 4
   },
   "notebookName": "Go",
   "widgets": {}
  },
  "colab": {
   "provenance": []
  },
  "kernelspec": {
   "display_name": "saturn (Python 3)",
   "language": "python",
   "name": "python3"
  },
  "language_info": {
   "codemirror_mode": {
    "name": "ipython",
    "version": 3
   },
   "file_extension": ".py",
   "mimetype": "text/x-python",
   "name": "python",
   "nbconvert_exporter": "python",
   "pygments_lexer": "ipython3",
   "version": "3.9.15"
  }
 },
 "nbformat": 4,
 "nbformat_minor": 4
}
